{
 "cells": [
  {
   "cell_type": "markdown",
   "id": "6880e8a1",
   "metadata": {},
   "source": [
    "### Import necessary modules"
   ]
  },
  {
   "cell_type": "code",
   "execution_count": 42,
   "id": "ce1c4fa5",
   "metadata": {},
   "outputs": [],
   "source": [
    "import os\n",
    "import zipfile\n",
    "import pandas as pd\n",
    "import requests\n",
    "from bs4 import BeautifulSoup\n",
    "from IPython.display import display\n",
    "from IPython.display import Javascript"
   ]
  },
  {
   "cell_type": "code",
   "execution_count": 43,
   "id": "f03eea2a",
   "metadata": {},
   "outputs": [
    {
     "data": {
      "text/html": [
       "        <script type=\"text/javascript\">\n",
       "        window.PlotlyConfig = {MathJaxConfig: 'local'};\n",
       "        if (window.MathJax && window.MathJax.Hub && window.MathJax.Hub.Config) {window.MathJax.Hub.Config({SVG: {font: \"STIX-Web\"}});}\n",
       "        if (typeof require !== 'undefined') {\n",
       "        require.undef(\"plotly\");\n",
       "        requirejs.config({\n",
       "            paths: {\n",
       "                'plotly': ['https://cdn.plot.ly/plotly-2.18.2.min']\n",
       "            }\n",
       "        });\n",
       "        require(['plotly'], function(Plotly) {\n",
       "            window._Plotly = Plotly;\n",
       "        });\n",
       "        }\n",
       "        </script>\n",
       "        "
      ]
     },
     "metadata": {},
     "output_type": "display_data"
    }
   ],
   "source": [
    "import plotly.express as px\n",
    "from plotly.offline import init_notebook_mode\n",
    "init_notebook_mode(connected=True) "
   ]
  },
  {
   "cell_type": "markdown",
   "id": "2fd6e6e9",
   "metadata": {},
   "source": [
    "### Important constants (expected from user)"
   ]
  },
  {
   "cell_type": "code",
   "execution_count": 44,
   "id": "f17afcf3",
   "metadata": {},
   "outputs": [],
   "source": [
    "DATA_DIR = \"firefox_data\""
   ]
  },
  {
   "cell_type": "markdown",
   "id": "4c87d9d7",
   "metadata": {},
   "source": [
    "### Unpack archives and get tables"
   ]
  },
  {
   "cell_type": "code",
   "execution_count": 45,
   "id": "f7c499d9",
   "metadata": {},
   "outputs": [],
   "source": [
    "FILES_DIR = f\"{DATA_DIR}_files\""
   ]
  },
  {
   "cell_type": "code",
   "execution_count": 46,
   "id": "37e753c3",
   "metadata": {},
   "outputs": [],
   "source": [
    "DFS = dict()\n",
    "for archive in os.listdir(DATA_DIR):\n",
    "    path = os.path.join(DATA_DIR, archive)\n",
    "    with zipfile.ZipFile(path, 'r') as zip_ref:\n",
    "        zip_ref.extractall(FILES_DIR)\n",
    "    DFS[archive.split('_')[0]] = pd.read_csv(f\"{os.path.join(FILES_DIR, archive)[:-3]}csv\")"
   ]
  },
  {
   "cell_type": "markdown",
   "id": "8141316c",
   "metadata": {},
   "source": [
    "### Prepare paths to instruction pages"
   ]
  },
  {
   "cell_type": "code",
   "execution_count": 47,
   "id": "ace61212",
   "metadata": {},
   "outputs": [],
   "source": [
    "INSTRUCTION_PAGES = dict()\n",
    "with open(\"x86doc/index.html\") as file:\n",
    "    index_text = BeautifulSoup(file)\n",
    "entries = index_text.find_all(\"a\")[1:]\n",
    "for entry in entries:\n",
    "    INSTRUCTION_PAGES[entry.get_text()] = entry[\"href\"][1:]"
   ]
  },
  {
   "cell_type": "markdown",
   "id": "b9b8fc76",
   "metadata": {},
   "source": [
    "### Define utility functions"
   ]
  },
  {
   "cell_type": "markdown",
   "id": "b1ef8b6f",
   "metadata": {},
   "source": [
    "Comments:\n",
    "* All functions are able to work with the beginning of a key\n",
    "* Key is usially OS"
   ]
  },
  {
   "cell_type": "code",
   "execution_count": 48,
   "id": "35fe2877",
   "metadata": {},
   "outputs": [],
   "source": [
    "def head(\n",
    "    key: str,\n",
    "    number_of_rows: int=5,\n",
    "    show: bool=False\n",
    "):\n",
    "    for df_key in DFS:\n",
    "        if df_key.startswith(key):\n",
    "            df_head = DFS[df_key].head(number_of_rows)\n",
    "            if show:\n",
    "                print(f\"{df_key}:\")\n",
    "                display(df_head)\n",
    "            return df_head"
   ]
  },
  {
   "cell_type": "code",
   "execution_count": 49,
   "id": "236b62ce",
   "metadata": {},
   "outputs": [],
   "source": [
    "# If keys == None, all keys will be used\n",
    "def find_instruction(\n",
    "    instruction: str,\n",
    "    keys: None|list[str]=None,\n",
    "    only_filenames: bool=True,\n",
    "    show: bool=False,\n",
    "    number_of_rows_to_show: int=5\n",
    "):\n",
    "    if keys is None:\n",
    "        keys = list(DFS)\n",
    "    tables = dict()\n",
    "    for key in keys:\n",
    "        for df_key in DFS:\n",
    "            if df_key.startswith(key):\n",
    "                try:\n",
    "                    table = DFS[df_key][DFS[df_key][instruction] != 0]\n",
    "                    if only_filenames:\n",
    "                        table = list(table.filename)\n",
    "                    tables[df_key] = table\n",
    "                except KeyError:\n",
    "                    tables[df_key] = None\n",
    "    if show:\n",
    "        for key in tables:\n",
    "            print(f\"{key}:\")\n",
    "            if tables[key] is None:\n",
    "                continue\n",
    "            if only_filenames:\n",
    "                for filename in tables[key]:\n",
    "                    print(f\"\\t{filename}\")\n",
    "            else:\n",
    "                display(tables[key].head(number_of_rows_to_show))\n",
    "            print()\n",
    "            \n",
    "    return tables"
   ]
  },
  {
   "cell_type": "code",
   "execution_count": 64,
   "id": "e03e3326",
   "metadata": {},
   "outputs": [],
   "source": [
    "def what_is_instruction(\n",
    "    instruction: str\n",
    "):\n",
    "    path = f\"x86doc{INSTRUCTION_PAGES[instruction.upper()]}\"\n",
    "    display(Javascript('window.open(\"{url}\");'.format(url=path)))"
   ]
  },
  {
   "cell_type": "code",
   "execution_count": 51,
   "id": "86a4f4a3",
   "metadata": {},
   "outputs": [],
   "source": [
    "# Use this function, for example, to leave only files existing in a particular directory\n",
    "def files_starting_with(\n",
    "    key: str,\n",
    "    beginning: str,\n",
    "    show: bool=False\n",
    "):\n",
    "    for df_key in DFS:\n",
    "        if df_key.startswith(key):\n",
    "            df = DFS[df_key].set_index(\"filename\")\n",
    "            df = df.loc[[i for i in df.index if i.startswith(beginning)]]\n",
    "            df.insert(0, \"filename\", df.index)\n",
    "            df = df.set_index(pd.Index(i for i in range(len(df))))\n",
    "            if show:\n",
    "                display(df)\n",
    "            return df"
   ]
  },
  {
   "cell_type": "code",
   "execution_count": 52,
   "id": "5d1471b6",
   "metadata": {},
   "outputs": [],
   "source": [
    "# Use this function, for example, to leave only row related to a particular executable file\n",
    "def files_containing(\n",
    "    key: str,\n",
    "    substring: str,\n",
    "    show: bool=False\n",
    "):\n",
    "    for df_key in DFS:\n",
    "        if df_key.startswith(key):\n",
    "            df = DFS[df_key].set_index(\"filename\")\n",
    "            df = df.loc[[i for i in df.index if substring in i]]\n",
    "            df.insert(0, \"filename\", df.index)\n",
    "            df = df.set_index(pd.Index(i for i in range(len(df))))\n",
    "            if show:\n",
    "                display(df)\n",
    "            return df"
   ]
  },
  {
   "cell_type": "code",
   "execution_count": 53,
   "id": "31e89351",
   "metadata": {},
   "outputs": [],
   "source": [
    "def total_instruction_usage(\n",
    "    key: str,\n",
    "    to_dict: bool=False,\n",
    "    show: bool=False,\n",
    "):\n",
    "    for df_key in DFS:\n",
    "        if df_key.startswith(key):\n",
    "            df = remove_filename_column(df_key)\n",
    "            total = df.sum()\n",
    "            total_dict = dict(total)\n",
    "            if show:\n",
    "                for instruction in total_dict:\n",
    "                    print(f\"{instruction}: {total_dict[instruction]}\")\n",
    "            if to_dict:\n",
    "                return total_dict\n",
    "            return total"
   ]
  },
  {
   "cell_type": "code",
   "execution_count": 54,
   "id": "ae447d82",
   "metadata": {},
   "outputs": [],
   "source": [
    "def add_dataframe(\n",
    "    name: str,\n",
    "    dataframe: pd.DataFrame\n",
    "):\n",
    "    DFS[name] = dataframe"
   ]
  },
  {
   "cell_type": "code",
   "execution_count": 55,
   "id": "cb7c2e24",
   "metadata": {},
   "outputs": [],
   "source": [
    "def remove_dataframe(\n",
    "    key: str\n",
    "):\n",
    "    for df_key in DFS:\n",
    "        if df_key.startswith(key):\n",
    "            DFS.pop(df_key)\n",
    "            return"
   ]
  },
  {
   "cell_type": "code",
   "execution_count": 56,
   "id": "41f4450d",
   "metadata": {},
   "outputs": [],
   "source": [
    "def add_dataframe(\n",
    "    name: str,\n",
    "    dataframe: pd.DataFrame\n",
    "):\n",
    "    DFS[name] = dataframe"
   ]
  },
  {
   "cell_type": "code",
   "execution_count": 57,
   "id": "35b3c4a0",
   "metadata": {},
   "outputs": [],
   "source": [
    "def remove_filename_column(\n",
    "    key: str,\n",
    "    show: bool=False\n",
    "):\n",
    "    for df_key in DFS:\n",
    "        if df_key.startswith(key):\n",
    "            df = DFS[df_key].drop(\"filename\", axis=1)\n",
    "            if show:\n",
    "                display(df)\n",
    "            return df"
   ]
  },
  {
   "cell_type": "code",
   "execution_count": 58,
   "id": "7e681535",
   "metadata": {},
   "outputs": [],
   "source": [
    "# If keys == None, all keys will be used\n",
    "def sum_percent_histogram(\n",
    "    keys=None,\n",
    "    ascending=False,\n",
    "    width=30000\n",
    "):\n",
    "    if keys is None:\n",
    "        keys = list(DFS)\n",
    "    dfs_for_histogram = dict()\n",
    "    for key in keys:\n",
    "        for df_key in DFS:\n",
    "            if df_key.startswith(key):\n",
    "                df = remove_filename_column(df_key)\n",
    "                dfs_for_histogram[df_key] = pd.DataFrame(df.sum(axis=0), columns=[df_key])\n",
    "    sums = pd.concat(dfs_for_histogram.values(), join='outer', axis=1).fillna(0).astype(int)\n",
    "    sums['sum'] = sums.sum(axis=1)\n",
    "    sums.sort_values(by=['sum'], ascending=ascending, inplace=True)\n",
    "    sums.drop(\"sum\", axis=1, inplace=True)\n",
    "    fig = px.histogram(sums, x=sums.index, y=sums.columns, barmode='group', histnorm='percent', width=width)\n",
    "    fig.update_layout(legend=dict(\n",
    "        orientation=\"h\",\n",
    "        yanchor=\"bottom\",\n",
    "        y=1.02,\n",
    "        xanchor=\"left\",\n",
    "        x=0\n",
    "    ))\n",
    "    display(fig)"
   ]
  },
  {
   "cell_type": "code",
   "execution_count": 59,
   "id": "0936bab4",
   "metadata": {},
   "outputs": [],
   "source": [
    "# If keys == None, all keys will be used\n",
    "def sum_histogram(\n",
    "    keys=None,\n",
    "    ascending=False,\n",
    "    width=30000\n",
    "):\n",
    "    if keys is None:\n",
    "        keys = list(DFS)\n",
    "    dfs_for_histogram = dict()\n",
    "    for key in keys:\n",
    "        for df_key in DFS:\n",
    "            if df_key.startswith(key):\n",
    "                df = remove_filename_column(df_key)\n",
    "                dfs_for_histogram[df_key] = pd.DataFrame(df.sum(axis=0), columns=[df_key])\n",
    "    sums = pd.concat(dfs_for_histogram.values(), join='outer', axis=1).fillna(0).astype(int)\n",
    "    sums['sum'] = sums.sum(axis=1)\n",
    "    sums.sort_values(by=['sum'], ascending=ascending, inplace=True)\n",
    "    sums.drop(\"sum\", axis=1, inplace=True)\n",
    "    fig = px.histogram(sums, x=sums.index, y=sums.columns, barmode='group', width=width)\n",
    "    fig.update_layout(legend=dict(\n",
    "        orientation=\"h\",\n",
    "        yanchor=\"bottom\",\n",
    "        y=1.02,\n",
    "        xanchor=\"left\",\n",
    "        x=0\n",
    "    ))\n",
    "    display(fig)"
   ]
  },
  {
   "cell_type": "markdown",
   "id": "18a6996d",
   "metadata": {},
   "source": [
    "### Experiments"
   ]
  }
 ],
 "metadata": {
  "kernelspec": {
   "display_name": "Python 3 (ipykernel)",
   "language": "python",
   "name": "python3"
  },
  "language_info": {
   "codemirror_mode": {
    "name": "ipython",
    "version": 3
   },
   "file_extension": ".py",
   "mimetype": "text/x-python",
   "name": "python",
   "nbconvert_exporter": "python",
   "pygments_lexer": "ipython3",
   "version": "3.10.9"
  }
 },
 "nbformat": 4,
 "nbformat_minor": 5
}
