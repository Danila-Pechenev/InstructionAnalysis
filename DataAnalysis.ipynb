{
 "cells": [
  {
   "cell_type": "markdown",
   "id": "6880e8a1",
   "metadata": {},
   "source": [
    "### Import necessary modules"
   ]
  },
  {
   "cell_type": "code",
   "execution_count": 1,
   "id": "ce1c4fa5",
   "metadata": {},
   "outputs": [],
   "source": [
    "import os\n",
    "import json\n",
    "import zipfile\n",
    "import pandas as pd\n",
    "import requests\n",
    "from bs4 import BeautifulSoup\n",
    "from IPython.display import display\n",
    "from IPython.display import Javascript"
   ]
  },
  {
   "cell_type": "code",
   "execution_count": 2,
   "id": "f03eea2a",
   "metadata": {},
   "outputs": [
    {
     "data": {
      "text/html": [
       "        <script type=\"text/javascript\">\n",
       "        window.PlotlyConfig = {MathJaxConfig: 'local'};\n",
       "        if (window.MathJax && window.MathJax.Hub && window.MathJax.Hub.Config) {window.MathJax.Hub.Config({SVG: {font: \"STIX-Web\"}});}\n",
       "        if (typeof require !== 'undefined') {\n",
       "        require.undef(\"plotly\");\n",
       "        requirejs.config({\n",
       "            paths: {\n",
       "                'plotly': ['https://cdn.plot.ly/plotly-2.18.2.min']\n",
       "            }\n",
       "        });\n",
       "        require(['plotly'], function(Plotly) {\n",
       "            window._Plotly = Plotly;\n",
       "        });\n",
       "        }\n",
       "        </script>\n",
       "        "
      ]
     },
     "metadata": {},
     "output_type": "display_data"
    }
   ],
   "source": [
    "import plotly.express as px\n",
    "from plotly.offline import init_notebook_mode\n",
    "init_notebook_mode(connected=True) "
   ]
  },
  {
   "cell_type": "markdown",
   "id": "2fd6e6e9",
   "metadata": {},
   "source": [
    "### Important constants (expected from user)"
   ]
  },
  {
   "cell_type": "code",
   "execution_count": 3,
   "id": "f17afcf3",
   "metadata": {},
   "outputs": [],
   "source": [
    "DATA_DIR = \"11.03\"\n",
    "INSTRUCTIONS_INFO_FILE = \"x86-64_instructions.json\""
   ]
  },
  {
   "cell_type": "markdown",
   "id": "4c87d9d7",
   "metadata": {},
   "source": [
    "### Unpack archives and get tables"
   ]
  },
  {
   "cell_type": "code",
   "execution_count": 4,
   "id": "f7c499d9",
   "metadata": {},
   "outputs": [],
   "source": [
    "FILES_DIR = f\"{DATA_DIR}_files\""
   ]
  },
  {
   "cell_type": "code",
   "execution_count": 5,
   "id": "37e753c3",
   "metadata": {},
   "outputs": [],
   "source": [
    "DFS = dict()\n",
    "for archive in os.listdir(DATA_DIR):\n",
    "    path = os.path.join(DATA_DIR, archive)\n",
    "    with zipfile.ZipFile(path, 'r') as zip_ref:\n",
    "        zip_ref.extractall(FILES_DIR)\n",
    "    DFS[archive.split('_')[0]] = pd.read_csv(f\"{os.path.join(FILES_DIR, archive)[:-3]}csv\")"
   ]
  },
  {
   "cell_type": "markdown",
   "id": "60a6be81",
   "metadata": {},
   "source": [
    "### Prepare instructions data"
   ]
  },
  {
   "cell_type": "code",
   "execution_count": 6,
   "id": "a489977b",
   "metadata": {},
   "outputs": [],
   "source": [
    "INSTRUCTION_PAGES = dict()\n",
    "with open(\"x86doc/index.html\") as file:\n",
    "    index_text = BeautifulSoup(file)\n",
    "entries = index_text.find_all(\"a\")[1:]\n",
    "for entry in entries:\n",
    "    INSTRUCTION_PAGES[entry.get_text()] = entry[\"href\"][1:]"
   ]
  },
  {
   "cell_type": "code",
   "execution_count": 7,
   "id": "c8fe6cc4",
   "metadata": {},
   "outputs": [],
   "source": [
    "INSTRUCTIONS_INFO = dict()\n",
    "with open(INSTRUCTIONS_INFO_FILE, \"r\") as read_file:\n",
    "    instructions_info = json.load(read_file)[\"instructions\"]\n",
    "for item in instructions_info:\n",
    "    INSTRUCTIONS_INFO[item[\"instruction\"]] = {\"category\": item[\"category\"],\n",
    "                                              \"group\": item[\"group\"],\n",
    "                                              \"description\": item[\"description\"]}"
   ]
  },
  {
   "cell_type": "markdown",
   "id": "b9b8fc76",
   "metadata": {},
   "source": [
    "### Define utility functions"
   ]
  },
  {
   "cell_type": "markdown",
   "id": "b1ef8b6f",
   "metadata": {},
   "source": [
    "Comments:\n",
    "* All functions are able to work with the beginning of a key\n",
    "* Key is usially OS"
   ]
  },
  {
   "cell_type": "code",
   "execution_count": 8,
   "id": "ae447d82",
   "metadata": {},
   "outputs": [],
   "source": [
    "def add_dataframe(\n",
    "    name: str,\n",
    "    dataframe: pd.DataFrame\n",
    "):\n",
    "    DFS[name] = dataframe"
   ]
  },
  {
   "cell_type": "code",
   "execution_count": 9,
   "id": "03019858",
   "metadata": {},
   "outputs": [],
   "source": [
    "def get_dataframe(\n",
    "    key: str\n",
    "):\n",
    "    for df_key in DFS:\n",
    "        if df_key.startswith(key):\n",
    "            if key in DFS and df_key != key:\n",
    "                continue\n",
    "            return DFS[df_key]"
   ]
  },
  {
   "cell_type": "code",
   "execution_count": 10,
   "id": "cb7c2e24",
   "metadata": {},
   "outputs": [],
   "source": [
    "def remove_dataframe(\n",
    "    key: str\n",
    "):\n",
    "    for df_key in DFS:\n",
    "        if df_key.startswith(key):\n",
    "            if key in DFS and df_key != key:\n",
    "                continue\n",
    "            DFS.pop(df_key)\n",
    "            return"
   ]
  },
  {
   "cell_type": "code",
   "execution_count": 11,
   "id": "35b3c4a0",
   "metadata": {},
   "outputs": [],
   "source": [
    "def remove_filename_column(\n",
    "    key: str,\n",
    "    show: bool=False,\n",
    "    number_of_rows_to_show: int=5\n",
    "):\n",
    "    for df_key in DFS:\n",
    "        if df_key.startswith(key):\n",
    "            if key in DFS and df_key != key:\n",
    "                continue\n",
    "            df = DFS[df_key].drop(\"filename\", axis=1)\n",
    "            if show:\n",
    "                display(df.head(number_of_rows_to_show))\n",
    "            return df"
   ]
  },
  {
   "cell_type": "code",
   "execution_count": 12,
   "id": "35fe2877",
   "metadata": {},
   "outputs": [],
   "source": [
    "def head(\n",
    "    key: str,\n",
    "    number_of_rows: int=5,\n",
    "    show: bool=False\n",
    "):\n",
    "    for df_key in DFS:\n",
    "        if df_key.startswith(key):\n",
    "            if key in DFS and df_key != key:\n",
    "                continue\n",
    "            df_head = DFS[df_key].head(number_of_rows)\n",
    "            if show:\n",
    "                print(f\"{df_key}:\")\n",
    "                display(df_head)\n",
    "            return df_head"
   ]
  },
  {
   "cell_type": "code",
   "execution_count": 13,
   "id": "236b62ce",
   "metadata": {},
   "outputs": [],
   "source": [
    "# If keys == None, all keys will be used\n",
    "def find_instruction(\n",
    "    instruction: str,\n",
    "    keys: None|list[str]=None,\n",
    "    only_filenames: bool=True,\n",
    "    show: bool=False,\n",
    "    number_of_rows_to_show: int=5\n",
    "):\n",
    "    if keys is None:\n",
    "        keys = list(DFS)\n",
    "    tables = dict()\n",
    "    for key in keys:\n",
    "        for df_key in DFS:\n",
    "            if df_key.startswith(key):\n",
    "                if key in DFS and df_key != key:\n",
    "                    continue\n",
    "                try:\n",
    "                    table = DFS[df_key][DFS[df_key][instruction] != 0]\n",
    "                    if only_filenames:\n",
    "                        table = list(table.filename)\n",
    "                    tables[df_key] = table\n",
    "                except KeyError:\n",
    "                    tables[df_key] = None\n",
    "    if show:\n",
    "        for key in tables:\n",
    "            print(f\"{key}:\")\n",
    "            if tables[key] is None:\n",
    "                continue\n",
    "            if only_filenames:\n",
    "                for filename in tables[key]:\n",
    "                    print(f\"\\t{filename}\")\n",
    "            else:\n",
    "                display(tables[key].head(number_of_rows_to_show))\n",
    "            print()\n",
    "            \n",
    "    return tables"
   ]
  },
  {
   "cell_type": "code",
   "execution_count": 14,
   "id": "e03e3326",
   "metadata": {},
   "outputs": [],
   "source": [
    "def what_is_instruction(\n",
    "    instruction: str\n",
    "):\n",
    "    try:\n",
    "        path = f\"x86doc{INSTRUCTION_PAGES[instruction.upper()]}\"\n",
    "        display(Javascript('window.open(\"{url}\");'.format(url=path)))\n",
    "    except:\n",
    "        print(\"Instruction is not found.\")"
   ]
  },
  {
   "cell_type": "code",
   "execution_count": 15,
   "id": "86a4f4a3",
   "metadata": {},
   "outputs": [],
   "source": [
    "# Use this function, for example, to leave only files existing in a particular directory\n",
    "def files_starting_with(\n",
    "    key: str,\n",
    "    beginning: str,\n",
    "    show: bool=False,\n",
    "    number_of_rows_to_show: int=5\n",
    "):\n",
    "    for df_key in DFS:\n",
    "        if df_key.startswith(key):\n",
    "            if key in DFS and df_key != key:\n",
    "                continue\n",
    "            df = DFS[df_key].set_index(\"filename\")\n",
    "            df = df.loc[[i for i in df.index if i.startswith(beginning)]]\n",
    "            df.insert(0, \"filename\", df.index)\n",
    "            df = df.set_index(pd.Index(i for i in range(len(df))))\n",
    "            if show:\n",
    "                display(df.head(number_of_rows_to_show))\n",
    "            return df"
   ]
  },
  {
   "cell_type": "code",
   "execution_count": 16,
   "id": "5d1471b6",
   "metadata": {},
   "outputs": [],
   "source": [
    "# Use this function, for example, to leave only row related to a particular executable file\n",
    "def files_containing(\n",
    "    key: str,\n",
    "    substring: str,\n",
    "    show: bool=False,\n",
    "    number_of_rows_to_show: int=5\n",
    "):\n",
    "    for df_key in DFS:\n",
    "        if df_key.startswith(key):\n",
    "            if key in DFS and df_key != key:\n",
    "                continue\n",
    "            df = DFS[df_key].set_index(\"filename\")\n",
    "            df = df.loc[[i for i in df.index if substring in i]]\n",
    "            df.insert(0, \"filename\", df.index)\n",
    "            df = df.set_index(pd.Index(i for i in range(len(df))))\n",
    "            if show:\n",
    "                display(df.head(number_of_rows_to_show))\n",
    "            return df"
   ]
  },
  {
   "cell_type": "code",
   "execution_count": 17,
   "id": "31e89351",
   "metadata": {},
   "outputs": [],
   "source": [
    "def total_instruction_usage(\n",
    "    key: str,\n",
    "    to_dict: bool=False,\n",
    "    show: bool=False,\n",
    "):\n",
    "    for df_key in DFS:\n",
    "        if df_key.startswith(key):\n",
    "            if key in DFS and df_key != key:\n",
    "                continue\n",
    "            df = remove_filename_column(df_key)\n",
    "            total = df.sum()\n",
    "            total_dict = dict(total)\n",
    "            if show:\n",
    "                for instruction in total_dict:\n",
    "                    print(f\"{instruction}: {total_dict[instruction]}\")\n",
    "            if to_dict:\n",
    "                return total_dict\n",
    "            return total"
   ]
  },
  {
   "cell_type": "code",
   "execution_count": 18,
   "id": "de7da381",
   "metadata": {},
   "outputs": [],
   "source": [
    "def divide_into_categories(\n",
    "    key: str,\n",
    "    show: bool=False,\n",
    "    number_of_rows_to_show: int=5\n",
    "):\n",
    "    for df_key in DFS:\n",
    "        if df_key.startswith(key):\n",
    "            if key in DFS and df_key != key:\n",
    "                continue\n",
    "            df = DFS[df_key].copy()\n",
    "            columns = list(df.columns)\n",
    "            for column in columns:\n",
    "                column_upper = column.upper()\n",
    "                if column == \"filename\":\n",
    "                    continue\n",
    "                if column_upper in INSTRUCTIONS_INFO:\n",
    "                    category = INSTRUCTIONS_INFO[column_upper][\"category\"]\n",
    "                elif column_upper[:-1] in INSTRUCTIONS_INFO:\n",
    "                    category = INSTRUCTIONS_INFO[column_upper[:-1]][\"category\"]\n",
    "                else:\n",
    "                    category = \"Other\"\n",
    "                if category not in df.columns:\n",
    "                    df[category] = df[column]\n",
    "                else:\n",
    "                    df[category] += df[column]\n",
    "                df.drop(column, axis=1, inplace=True)\n",
    "            if show:\n",
    "                display(df.head(number_of_rows_to_show))\n",
    "            return df"
   ]
  },
  {
   "cell_type": "code",
   "execution_count": 19,
   "id": "ca079dc2",
   "metadata": {},
   "outputs": [],
   "source": [
    "def divide_into_groups(\n",
    "    key: str,\n",
    "    show: bool=False,\n",
    "    number_of_rows_to_show: int=5\n",
    "):\n",
    "    for df_key in DFS:\n",
    "        if df_key.startswith(key):\n",
    "            if key in DFS and df_key != key:\n",
    "                continue\n",
    "            df = DFS[df_key].copy()\n",
    "            columns = list(df.columns)\n",
    "            for column in columns:\n",
    "                column_upper = column.upper()\n",
    "                if column == \"filename\":\n",
    "                    continue\n",
    "                if column_upper in INSTRUCTIONS_INFO:\n",
    "                    group = INSTRUCTIONS_INFO[column_upper][\"group\"]\n",
    "                elif column_upper[:-1] in INSTRUCTIONS_INFO:\n",
    "                    group = INSTRUCTIONS_INFO[column_upper[:-1]][\"group\"]\n",
    "                else:\n",
    "                    group = \"Other\"\n",
    "                if group not in df.columns:\n",
    "                    df[group] = df[column]\n",
    "                else:\n",
    "                    df[group] += df[column]\n",
    "                df.drop(column, axis=1, inplace=True)\n",
    "            if show:\n",
    "                display(df.head(number_of_rows_to_show))\n",
    "            return df"
   ]
  },
  {
   "cell_type": "code",
   "execution_count": 20,
   "id": "7e681535",
   "metadata": {},
   "outputs": [],
   "source": [
    "# If keys == None, all keys will be used\n",
    "def sum_histogram(\n",
    "    keys: list[str]|None=None,\n",
    "    percent: bool=False,\n",
    "    ascending: bool=False,\n",
    "    width: int=30000\n",
    "):\n",
    "    if keys is None:\n",
    "        keys = list(DFS)\n",
    "    dfs_for_histogram = dict()\n",
    "    for key in keys:\n",
    "        for df_key in DFS:\n",
    "            if df_key.startswith(key):\n",
    "                if key in DFS and df_key != key:\n",
    "                    continue\n",
    "                df = remove_filename_column(df_key)\n",
    "                dfs_for_histogram[df_key] = pd.DataFrame(df.sum(axis=0), columns=[df_key])\n",
    "    sums = pd.concat(dfs_for_histogram.values(), join='outer', axis=1).fillna(0).astype(int)\n",
    "    sums['sum'] = sums.sum(axis=1)\n",
    "    sums.sort_values(by=['sum'], ascending=ascending, inplace=True)\n",
    "    sums.drop(\"sum\", axis=1, inplace=True)\n",
    "    if percent:\n",
    "        fig = px.histogram(sums, x=sums.index, y=sums.columns, barmode='group', histnorm='percent', width=width)\n",
    "    else:\n",
    "        fig = px.histogram(sums, x=sums.index, y=sums.columns, barmode='group', width=width)\n",
    "    fig.update_layout(legend=dict(\n",
    "        orientation=\"h\",\n",
    "        yanchor=\"bottom\",\n",
    "        y=1.02,\n",
    "        xanchor=\"left\",\n",
    "        x=0\n",
    "    ))\n",
    "    display(fig)"
   ]
  },
  {
   "cell_type": "code",
   "execution_count": 21,
   "id": "9ab1d74b",
   "metadata": {},
   "outputs": [],
   "source": [
    "# If keys == None, all keys will be used\n",
    "def sum_categories_histogram(\n",
    "    keys: list[str]|None=None,\n",
    "    save_dfs: bool=False,\n",
    "    percent: bool=False,\n",
    "    ascending: bool=False,\n",
    "    width: int=30000\n",
    "):\n",
    "    if keys is None:\n",
    "        keys = list(DFS)\n",
    "    cat_keys = []\n",
    "    for key in keys:\n",
    "        cat_key = f\"{key}_categories\"\n",
    "        cat_keys.append(cat_key)\n",
    "        add_dataframe(cat_key, divide_into_categories(key))\n",
    "    sum_histogram(keys=cat_keys, percent=percent, ascending=ascending, width=width)\n",
    "    if not save_dfs:\n",
    "        for cat_key in cat_keys:\n",
    "            remove_dataframe(cat_key)"
   ]
  },
  {
   "cell_type": "code",
   "execution_count": 22,
   "id": "f8963417",
   "metadata": {},
   "outputs": [],
   "source": [
    "# If keys == None, all keys will be used\n",
    "def sum_groups_histogram(\n",
    "    keys: list[str]|None=None,\n",
    "    save_dfs: bool=False,\n",
    "    percent: bool=False,\n",
    "    ascending: bool=False,\n",
    "    width: int=30000\n",
    "):\n",
    "    if keys is None:\n",
    "        keys = list(DFS)\n",
    "    group_keys = []\n",
    "    for key in keys:\n",
    "        group_key = f\"{key}_groups\"\n",
    "        group_keys.append(group_key)\n",
    "        add_dataframe(group_key, divide_into_groups(key))\n",
    "    sum_histogram(keys=group_keys, percent=percent, ascending=ascending, width=width)\n",
    "    if not save_dfs:\n",
    "        for group_key in group_keys:\n",
    "            remove_dataframe(group_key)"
   ]
  },
  {
   "cell_type": "markdown",
   "id": "18a6996d",
   "metadata": {},
   "source": [
    "### Experiments"
   ]
  },
  {
   "cell_type": "code",
   "execution_count": 23,
   "id": "91289331",
   "metadata": {},
   "outputs": [
    {
     "data": {
      "application/vnd.plotly.v1+json": {
       "config": {
        "plotlyServerURL": "https://plot.ly"
       },
       "data": [
        {
         "alignmentgroup": "True",
         "bingroup": "x",
         "histfunc": "sum",
         "histnorm": "percent",
         "hovertemplate": "variable=manjaro_categories<br>index=%{x}<br>percent of sum of value=%{y}<extra></extra>",
         "legendgroup": "manjaro_categories",
         "marker": {
          "color": "#636efa",
          "pattern": {
           "shape": ""
          }
         },
         "name": "manjaro_categories",
         "offsetgroup": "manjaro_categories",
         "orientation": "v",
         "showlegend": true,
         "type": "histogram",
         "x": [
          "Central Processing Unit (CPU) instructions set",
          "Other",
          "Single Instruction Multiple Data (SIMD) instructions set",
          "Floating-Point Unit (FPU) instructions set",
          "Advanced Encryption Standard (AES) instructions set",
          "Transactional Synchronization Extensions (TSX) instructions set",
          "Memory Protection Extensions (MPX) instructions set",
          "Virtual Machine Extensions (VMX) instructions set"
         ],
         "xaxis": "x",
         "y": [
          371073285,
          46447444,
          2052056,
          10380,
          9087,
          209,
          15,
          8
         ],
         "yaxis": "y"
        },
        {
         "alignmentgroup": "True",
         "bingroup": "x",
         "histfunc": "sum",
         "histnorm": "percent",
         "hovertemplate": "variable=opensuse_categories<br>index=%{x}<br>percent of sum of value=%{y}<extra></extra>",
         "legendgroup": "opensuse_categories",
         "marker": {
          "color": "#EF553B",
          "pattern": {
           "shape": ""
          }
         },
         "name": "opensuse_categories",
         "offsetgroup": "opensuse_categories",
         "orientation": "v",
         "showlegend": true,
         "type": "histogram",
         "x": [
          "Central Processing Unit (CPU) instructions set",
          "Other",
          "Single Instruction Multiple Data (SIMD) instructions set",
          "Floating-Point Unit (FPU) instructions set",
          "Advanced Encryption Standard (AES) instructions set",
          "Transactional Synchronization Extensions (TSX) instructions set",
          "Memory Protection Extensions (MPX) instructions set",
          "Virtual Machine Extensions (VMX) instructions set"
         ],
         "xaxis": "x",
         "y": [
          230833700,
          21498492,
          828117,
          7212,
          8230,
          134,
          13,
          10
         ],
         "yaxis": "y"
        },
        {
         "alignmentgroup": "True",
         "bingroup": "x",
         "histfunc": "sum",
         "histnorm": "percent",
         "hovertemplate": "variable=ubuntu_categories<br>index=%{x}<br>percent of sum of value=%{y}<extra></extra>",
         "legendgroup": "ubuntu_categories",
         "marker": {
          "color": "#00cc96",
          "pattern": {
           "shape": ""
          }
         },
         "name": "ubuntu_categories",
         "offsetgroup": "ubuntu_categories",
         "orientation": "v",
         "showlegend": true,
         "type": "histogram",
         "x": [
          "Central Processing Unit (CPU) instructions set",
          "Other",
          "Single Instruction Multiple Data (SIMD) instructions set",
          "Floating-Point Unit (FPU) instructions set",
          "Advanced Encryption Standard (AES) instructions set",
          "Transactional Synchronization Extensions (TSX) instructions set",
          "Memory Protection Extensions (MPX) instructions set",
          "Virtual Machine Extensions (VMX) instructions set"
         ],
         "xaxis": "x",
         "y": [
          258376780,
          27785911,
          1021755,
          10417,
          4918,
          189,
          7,
          4
         ],
         "yaxis": "y"
        }
       ],
       "layout": {
        "barmode": "group",
        "legend": {
         "orientation": "h",
         "title": {
          "text": "variable"
         },
         "tracegroupgap": 0,
         "x": 0,
         "xanchor": "left",
         "y": 1.02,
         "yanchor": "bottom"
        },
        "margin": {
         "t": 60
        },
        "template": {
         "data": {
          "bar": [
           {
            "error_x": {
             "color": "#2a3f5f"
            },
            "error_y": {
             "color": "#2a3f5f"
            },
            "marker": {
             "line": {
              "color": "#E5ECF6",
              "width": 0.5
             },
             "pattern": {
              "fillmode": "overlay",
              "size": 10,
              "solidity": 0.2
             }
            },
            "type": "bar"
           }
          ],
          "barpolar": [
           {
            "marker": {
             "line": {
              "color": "#E5ECF6",
              "width": 0.5
             },
             "pattern": {
              "fillmode": "overlay",
              "size": 10,
              "solidity": 0.2
             }
            },
            "type": "barpolar"
           }
          ],
          "carpet": [
           {
            "aaxis": {
             "endlinecolor": "#2a3f5f",
             "gridcolor": "white",
             "linecolor": "white",
             "minorgridcolor": "white",
             "startlinecolor": "#2a3f5f"
            },
            "baxis": {
             "endlinecolor": "#2a3f5f",
             "gridcolor": "white",
             "linecolor": "white",
             "minorgridcolor": "white",
             "startlinecolor": "#2a3f5f"
            },
            "type": "carpet"
           }
          ],
          "choropleth": [
           {
            "colorbar": {
             "outlinewidth": 0,
             "ticks": ""
            },
            "type": "choropleth"
           }
          ],
          "contour": [
           {
            "colorbar": {
             "outlinewidth": 0,
             "ticks": ""
            },
            "colorscale": [
             [
              0,
              "#0d0887"
             ],
             [
              0.1111111111111111,
              "#46039f"
             ],
             [
              0.2222222222222222,
              "#7201a8"
             ],
             [
              0.3333333333333333,
              "#9c179e"
             ],
             [
              0.4444444444444444,
              "#bd3786"
             ],
             [
              0.5555555555555556,
              "#d8576b"
             ],
             [
              0.6666666666666666,
              "#ed7953"
             ],
             [
              0.7777777777777778,
              "#fb9f3a"
             ],
             [
              0.8888888888888888,
              "#fdca26"
             ],
             [
              1,
              "#f0f921"
             ]
            ],
            "type": "contour"
           }
          ],
          "contourcarpet": [
           {
            "colorbar": {
             "outlinewidth": 0,
             "ticks": ""
            },
            "type": "contourcarpet"
           }
          ],
          "heatmap": [
           {
            "colorbar": {
             "outlinewidth": 0,
             "ticks": ""
            },
            "colorscale": [
             [
              0,
              "#0d0887"
             ],
             [
              0.1111111111111111,
              "#46039f"
             ],
             [
              0.2222222222222222,
              "#7201a8"
             ],
             [
              0.3333333333333333,
              "#9c179e"
             ],
             [
              0.4444444444444444,
              "#bd3786"
             ],
             [
              0.5555555555555556,
              "#d8576b"
             ],
             [
              0.6666666666666666,
              "#ed7953"
             ],
             [
              0.7777777777777778,
              "#fb9f3a"
             ],
             [
              0.8888888888888888,
              "#fdca26"
             ],
             [
              1,
              "#f0f921"
             ]
            ],
            "type": "heatmap"
           }
          ],
          "heatmapgl": [
           {
            "colorbar": {
             "outlinewidth": 0,
             "ticks": ""
            },
            "colorscale": [
             [
              0,
              "#0d0887"
             ],
             [
              0.1111111111111111,
              "#46039f"
             ],
             [
              0.2222222222222222,
              "#7201a8"
             ],
             [
              0.3333333333333333,
              "#9c179e"
             ],
             [
              0.4444444444444444,
              "#bd3786"
             ],
             [
              0.5555555555555556,
              "#d8576b"
             ],
             [
              0.6666666666666666,
              "#ed7953"
             ],
             [
              0.7777777777777778,
              "#fb9f3a"
             ],
             [
              0.8888888888888888,
              "#fdca26"
             ],
             [
              1,
              "#f0f921"
             ]
            ],
            "type": "heatmapgl"
           }
          ],
          "histogram": [
           {
            "marker": {
             "pattern": {
              "fillmode": "overlay",
              "size": 10,
              "solidity": 0.2
             }
            },
            "type": "histogram"
           }
          ],
          "histogram2d": [
           {
            "colorbar": {
             "outlinewidth": 0,
             "ticks": ""
            },
            "colorscale": [
             [
              0,
              "#0d0887"
             ],
             [
              0.1111111111111111,
              "#46039f"
             ],
             [
              0.2222222222222222,
              "#7201a8"
             ],
             [
              0.3333333333333333,
              "#9c179e"
             ],
             [
              0.4444444444444444,
              "#bd3786"
             ],
             [
              0.5555555555555556,
              "#d8576b"
             ],
             [
              0.6666666666666666,
              "#ed7953"
             ],
             [
              0.7777777777777778,
              "#fb9f3a"
             ],
             [
              0.8888888888888888,
              "#fdca26"
             ],
             [
              1,
              "#f0f921"
             ]
            ],
            "type": "histogram2d"
           }
          ],
          "histogram2dcontour": [
           {
            "colorbar": {
             "outlinewidth": 0,
             "ticks": ""
            },
            "colorscale": [
             [
              0,
              "#0d0887"
             ],
             [
              0.1111111111111111,
              "#46039f"
             ],
             [
              0.2222222222222222,
              "#7201a8"
             ],
             [
              0.3333333333333333,
              "#9c179e"
             ],
             [
              0.4444444444444444,
              "#bd3786"
             ],
             [
              0.5555555555555556,
              "#d8576b"
             ],
             [
              0.6666666666666666,
              "#ed7953"
             ],
             [
              0.7777777777777778,
              "#fb9f3a"
             ],
             [
              0.8888888888888888,
              "#fdca26"
             ],
             [
              1,
              "#f0f921"
             ]
            ],
            "type": "histogram2dcontour"
           }
          ],
          "mesh3d": [
           {
            "colorbar": {
             "outlinewidth": 0,
             "ticks": ""
            },
            "type": "mesh3d"
           }
          ],
          "parcoords": [
           {
            "line": {
             "colorbar": {
              "outlinewidth": 0,
              "ticks": ""
             }
            },
            "type": "parcoords"
           }
          ],
          "pie": [
           {
            "automargin": true,
            "type": "pie"
           }
          ],
          "scatter": [
           {
            "fillpattern": {
             "fillmode": "overlay",
             "size": 10,
             "solidity": 0.2
            },
            "type": "scatter"
           }
          ],
          "scatter3d": [
           {
            "line": {
             "colorbar": {
              "outlinewidth": 0,
              "ticks": ""
             }
            },
            "marker": {
             "colorbar": {
              "outlinewidth": 0,
              "ticks": ""
             }
            },
            "type": "scatter3d"
           }
          ],
          "scattercarpet": [
           {
            "marker": {
             "colorbar": {
              "outlinewidth": 0,
              "ticks": ""
             }
            },
            "type": "scattercarpet"
           }
          ],
          "scattergeo": [
           {
            "marker": {
             "colorbar": {
              "outlinewidth": 0,
              "ticks": ""
             }
            },
            "type": "scattergeo"
           }
          ],
          "scattergl": [
           {
            "marker": {
             "colorbar": {
              "outlinewidth": 0,
              "ticks": ""
             }
            },
            "type": "scattergl"
           }
          ],
          "scattermapbox": [
           {
            "marker": {
             "colorbar": {
              "outlinewidth": 0,
              "ticks": ""
             }
            },
            "type": "scattermapbox"
           }
          ],
          "scatterpolar": [
           {
            "marker": {
             "colorbar": {
              "outlinewidth": 0,
              "ticks": ""
             }
            },
            "type": "scatterpolar"
           }
          ],
          "scatterpolargl": [
           {
            "marker": {
             "colorbar": {
              "outlinewidth": 0,
              "ticks": ""
             }
            },
            "type": "scatterpolargl"
           }
          ],
          "scatterternary": [
           {
            "marker": {
             "colorbar": {
              "outlinewidth": 0,
              "ticks": ""
             }
            },
            "type": "scatterternary"
           }
          ],
          "surface": [
           {
            "colorbar": {
             "outlinewidth": 0,
             "ticks": ""
            },
            "colorscale": [
             [
              0,
              "#0d0887"
             ],
             [
              0.1111111111111111,
              "#46039f"
             ],
             [
              0.2222222222222222,
              "#7201a8"
             ],
             [
              0.3333333333333333,
              "#9c179e"
             ],
             [
              0.4444444444444444,
              "#bd3786"
             ],
             [
              0.5555555555555556,
              "#d8576b"
             ],
             [
              0.6666666666666666,
              "#ed7953"
             ],
             [
              0.7777777777777778,
              "#fb9f3a"
             ],
             [
              0.8888888888888888,
              "#fdca26"
             ],
             [
              1,
              "#f0f921"
             ]
            ],
            "type": "surface"
           }
          ],
          "table": [
           {
            "cells": {
             "fill": {
              "color": "#EBF0F8"
             },
             "line": {
              "color": "white"
             }
            },
            "header": {
             "fill": {
              "color": "#C8D4E3"
             },
             "line": {
              "color": "white"
             }
            },
            "type": "table"
           }
          ]
         },
         "layout": {
          "annotationdefaults": {
           "arrowcolor": "#2a3f5f",
           "arrowhead": 0,
           "arrowwidth": 1
          },
          "autotypenumbers": "strict",
          "coloraxis": {
           "colorbar": {
            "outlinewidth": 0,
            "ticks": ""
           }
          },
          "colorscale": {
           "diverging": [
            [
             0,
             "#8e0152"
            ],
            [
             0.1,
             "#c51b7d"
            ],
            [
             0.2,
             "#de77ae"
            ],
            [
             0.3,
             "#f1b6da"
            ],
            [
             0.4,
             "#fde0ef"
            ],
            [
             0.5,
             "#f7f7f7"
            ],
            [
             0.6,
             "#e6f5d0"
            ],
            [
             0.7,
             "#b8e186"
            ],
            [
             0.8,
             "#7fbc41"
            ],
            [
             0.9,
             "#4d9221"
            ],
            [
             1,
             "#276419"
            ]
           ],
           "sequential": [
            [
             0,
             "#0d0887"
            ],
            [
             0.1111111111111111,
             "#46039f"
            ],
            [
             0.2222222222222222,
             "#7201a8"
            ],
            [
             0.3333333333333333,
             "#9c179e"
            ],
            [
             0.4444444444444444,
             "#bd3786"
            ],
            [
             0.5555555555555556,
             "#d8576b"
            ],
            [
             0.6666666666666666,
             "#ed7953"
            ],
            [
             0.7777777777777778,
             "#fb9f3a"
            ],
            [
             0.8888888888888888,
             "#fdca26"
            ],
            [
             1,
             "#f0f921"
            ]
           ],
           "sequentialminus": [
            [
             0,
             "#0d0887"
            ],
            [
             0.1111111111111111,
             "#46039f"
            ],
            [
             0.2222222222222222,
             "#7201a8"
            ],
            [
             0.3333333333333333,
             "#9c179e"
            ],
            [
             0.4444444444444444,
             "#bd3786"
            ],
            [
             0.5555555555555556,
             "#d8576b"
            ],
            [
             0.6666666666666666,
             "#ed7953"
            ],
            [
             0.7777777777777778,
             "#fb9f3a"
            ],
            [
             0.8888888888888888,
             "#fdca26"
            ],
            [
             1,
             "#f0f921"
            ]
           ]
          },
          "colorway": [
           "#636efa",
           "#EF553B",
           "#00cc96",
           "#ab63fa",
           "#FFA15A",
           "#19d3f3",
           "#FF6692",
           "#B6E880",
           "#FF97FF",
           "#FECB52"
          ],
          "font": {
           "color": "#2a3f5f"
          },
          "geo": {
           "bgcolor": "white",
           "lakecolor": "white",
           "landcolor": "#E5ECF6",
           "showlakes": true,
           "showland": true,
           "subunitcolor": "white"
          },
          "hoverlabel": {
           "align": "left"
          },
          "hovermode": "closest",
          "mapbox": {
           "style": "light"
          },
          "paper_bgcolor": "white",
          "plot_bgcolor": "#E5ECF6",
          "polar": {
           "angularaxis": {
            "gridcolor": "white",
            "linecolor": "white",
            "ticks": ""
           },
           "bgcolor": "#E5ECF6",
           "radialaxis": {
            "gridcolor": "white",
            "linecolor": "white",
            "ticks": ""
           }
          },
          "scene": {
           "xaxis": {
            "backgroundcolor": "#E5ECF6",
            "gridcolor": "white",
            "gridwidth": 2,
            "linecolor": "white",
            "showbackground": true,
            "ticks": "",
            "zerolinecolor": "white"
           },
           "yaxis": {
            "backgroundcolor": "#E5ECF6",
            "gridcolor": "white",
            "gridwidth": 2,
            "linecolor": "white",
            "showbackground": true,
            "ticks": "",
            "zerolinecolor": "white"
           },
           "zaxis": {
            "backgroundcolor": "#E5ECF6",
            "gridcolor": "white",
            "gridwidth": 2,
            "linecolor": "white",
            "showbackground": true,
            "ticks": "",
            "zerolinecolor": "white"
           }
          },
          "shapedefaults": {
           "line": {
            "color": "#2a3f5f"
           }
          },
          "ternary": {
           "aaxis": {
            "gridcolor": "white",
            "linecolor": "white",
            "ticks": ""
           },
           "baxis": {
            "gridcolor": "white",
            "linecolor": "white",
            "ticks": ""
           },
           "bgcolor": "#E5ECF6",
           "caxis": {
            "gridcolor": "white",
            "linecolor": "white",
            "ticks": ""
           }
          },
          "title": {
           "x": 0.05
          },
          "xaxis": {
           "automargin": true,
           "gridcolor": "white",
           "linecolor": "white",
           "ticks": "",
           "title": {
            "standoff": 15
           },
           "zerolinecolor": "white",
           "zerolinewidth": 2
          },
          "yaxis": {
           "automargin": true,
           "gridcolor": "white",
           "linecolor": "white",
           "ticks": "",
           "title": {
            "standoff": 15
           },
           "zerolinecolor": "white",
           "zerolinewidth": 2
          }
         }
        },
        "width": 1000,
        "xaxis": {
         "anchor": "y",
         "domain": [
          0,
          1
         ],
         "title": {
          "text": "index"
         }
        },
        "yaxis": {
         "anchor": "x",
         "domain": [
          0,
          1
         ],
         "title": {
          "text": "percent of sum of value"
         }
        }
       }
      },
      "text/html": [
       "<div>                            <div id=\"997566ad-0920-4674-b674-5396079bcdc9\" class=\"plotly-graph-div\" style=\"height:525px; width:1000px;\"></div>            <script type=\"text/javascript\">                require([\"plotly\"], function(Plotly) {                    window.PLOTLYENV=window.PLOTLYENV || {};                                    if (document.getElementById(\"997566ad-0920-4674-b674-5396079bcdc9\")) {                    Plotly.newPlot(                        \"997566ad-0920-4674-b674-5396079bcdc9\",                        [{\"alignmentgroup\":\"True\",\"bingroup\":\"x\",\"histfunc\":\"sum\",\"histnorm\":\"percent\",\"hovertemplate\":\"variable=manjaro_categories<br>index=%{x}<br>percent of sum of value=%{y}<extra></extra>\",\"legendgroup\":\"manjaro_categories\",\"marker\":{\"color\":\"#636efa\",\"pattern\":{\"shape\":\"\"}},\"name\":\"manjaro_categories\",\"offsetgroup\":\"manjaro_categories\",\"orientation\":\"v\",\"showlegend\":true,\"x\":[\"Central Processing Unit (CPU) instructions set\",\"Other\",\"Single Instruction Multiple Data (SIMD) instructions set\",\"Floating-Point Unit (FPU) instructions set\",\"Advanced Encryption Standard (AES) instructions set\",\"Transactional Synchronization Extensions (TSX) instructions set\",\"Memory Protection Extensions (MPX) instructions set\",\"Virtual Machine Extensions (VMX) instructions set\"],\"xaxis\":\"x\",\"y\":[371073285,46447444,2052056,10380,9087,209,15,8],\"yaxis\":\"y\",\"type\":\"histogram\"},{\"alignmentgroup\":\"True\",\"bingroup\":\"x\",\"histfunc\":\"sum\",\"histnorm\":\"percent\",\"hovertemplate\":\"variable=opensuse_categories<br>index=%{x}<br>percent of sum of value=%{y}<extra></extra>\",\"legendgroup\":\"opensuse_categories\",\"marker\":{\"color\":\"#EF553B\",\"pattern\":{\"shape\":\"\"}},\"name\":\"opensuse_categories\",\"offsetgroup\":\"opensuse_categories\",\"orientation\":\"v\",\"showlegend\":true,\"x\":[\"Central Processing Unit (CPU) instructions set\",\"Other\",\"Single Instruction Multiple Data (SIMD) instructions set\",\"Floating-Point Unit (FPU) instructions set\",\"Advanced Encryption Standard (AES) instructions set\",\"Transactional Synchronization Extensions (TSX) instructions set\",\"Memory Protection Extensions (MPX) instructions set\",\"Virtual Machine Extensions (VMX) instructions set\"],\"xaxis\":\"x\",\"y\":[230833700,21498492,828117,7212,8230,134,13,10],\"yaxis\":\"y\",\"type\":\"histogram\"},{\"alignmentgroup\":\"True\",\"bingroup\":\"x\",\"histfunc\":\"sum\",\"histnorm\":\"percent\",\"hovertemplate\":\"variable=ubuntu_categories<br>index=%{x}<br>percent of sum of value=%{y}<extra></extra>\",\"legendgroup\":\"ubuntu_categories\",\"marker\":{\"color\":\"#00cc96\",\"pattern\":{\"shape\":\"\"}},\"name\":\"ubuntu_categories\",\"offsetgroup\":\"ubuntu_categories\",\"orientation\":\"v\",\"showlegend\":true,\"x\":[\"Central Processing Unit (CPU) instructions set\",\"Other\",\"Single Instruction Multiple Data (SIMD) instructions set\",\"Floating-Point Unit (FPU) instructions set\",\"Advanced Encryption Standard (AES) instructions set\",\"Transactional Synchronization Extensions (TSX) instructions set\",\"Memory Protection Extensions (MPX) instructions set\",\"Virtual Machine Extensions (VMX) instructions set\"],\"xaxis\":\"x\",\"y\":[258376780,27785911,1021755,10417,4918,189,7,4],\"yaxis\":\"y\",\"type\":\"histogram\"}],                        {\"template\":{\"data\":{\"histogram2dcontour\":[{\"type\":\"histogram2dcontour\",\"colorbar\":{\"outlinewidth\":0,\"ticks\":\"\"},\"colorscale\":[[0.0,\"#0d0887\"],[0.1111111111111111,\"#46039f\"],[0.2222222222222222,\"#7201a8\"],[0.3333333333333333,\"#9c179e\"],[0.4444444444444444,\"#bd3786\"],[0.5555555555555556,\"#d8576b\"],[0.6666666666666666,\"#ed7953\"],[0.7777777777777778,\"#fb9f3a\"],[0.8888888888888888,\"#fdca26\"],[1.0,\"#f0f921\"]]}],\"choropleth\":[{\"type\":\"choropleth\",\"colorbar\":{\"outlinewidth\":0,\"ticks\":\"\"}}],\"histogram2d\":[{\"type\":\"histogram2d\",\"colorbar\":{\"outlinewidth\":0,\"ticks\":\"\"},\"colorscale\":[[0.0,\"#0d0887\"],[0.1111111111111111,\"#46039f\"],[0.2222222222222222,\"#7201a8\"],[0.3333333333333333,\"#9c179e\"],[0.4444444444444444,\"#bd3786\"],[0.5555555555555556,\"#d8576b\"],[0.6666666666666666,\"#ed7953\"],[0.7777777777777778,\"#fb9f3a\"],[0.8888888888888888,\"#fdca26\"],[1.0,\"#f0f921\"]]}],\"heatmap\":[{\"type\":\"heatmap\",\"colorbar\":{\"outlinewidth\":0,\"ticks\":\"\"},\"colorscale\":[[0.0,\"#0d0887\"],[0.1111111111111111,\"#46039f\"],[0.2222222222222222,\"#7201a8\"],[0.3333333333333333,\"#9c179e\"],[0.4444444444444444,\"#bd3786\"],[0.5555555555555556,\"#d8576b\"],[0.6666666666666666,\"#ed7953\"],[0.7777777777777778,\"#fb9f3a\"],[0.8888888888888888,\"#fdca26\"],[1.0,\"#f0f921\"]]}],\"heatmapgl\":[{\"type\":\"heatmapgl\",\"colorbar\":{\"outlinewidth\":0,\"ticks\":\"\"},\"colorscale\":[[0.0,\"#0d0887\"],[0.1111111111111111,\"#46039f\"],[0.2222222222222222,\"#7201a8\"],[0.3333333333333333,\"#9c179e\"],[0.4444444444444444,\"#bd3786\"],[0.5555555555555556,\"#d8576b\"],[0.6666666666666666,\"#ed7953\"],[0.7777777777777778,\"#fb9f3a\"],[0.8888888888888888,\"#fdca26\"],[1.0,\"#f0f921\"]]}],\"contourcarpet\":[{\"type\":\"contourcarpet\",\"colorbar\":{\"outlinewidth\":0,\"ticks\":\"\"}}],\"contour\":[{\"type\":\"contour\",\"colorbar\":{\"outlinewidth\":0,\"ticks\":\"\"},\"colorscale\":[[0.0,\"#0d0887\"],[0.1111111111111111,\"#46039f\"],[0.2222222222222222,\"#7201a8\"],[0.3333333333333333,\"#9c179e\"],[0.4444444444444444,\"#bd3786\"],[0.5555555555555556,\"#d8576b\"],[0.6666666666666666,\"#ed7953\"],[0.7777777777777778,\"#fb9f3a\"],[0.8888888888888888,\"#fdca26\"],[1.0,\"#f0f921\"]]}],\"surface\":[{\"type\":\"surface\",\"colorbar\":{\"outlinewidth\":0,\"ticks\":\"\"},\"colorscale\":[[0.0,\"#0d0887\"],[0.1111111111111111,\"#46039f\"],[0.2222222222222222,\"#7201a8\"],[0.3333333333333333,\"#9c179e\"],[0.4444444444444444,\"#bd3786\"],[0.5555555555555556,\"#d8576b\"],[0.6666666666666666,\"#ed7953\"],[0.7777777777777778,\"#fb9f3a\"],[0.8888888888888888,\"#fdca26\"],[1.0,\"#f0f921\"]]}],\"mesh3d\":[{\"type\":\"mesh3d\",\"colorbar\":{\"outlinewidth\":0,\"ticks\":\"\"}}],\"scatter\":[{\"fillpattern\":{\"fillmode\":\"overlay\",\"size\":10,\"solidity\":0.2},\"type\":\"scatter\"}],\"parcoords\":[{\"type\":\"parcoords\",\"line\":{\"colorbar\":{\"outlinewidth\":0,\"ticks\":\"\"}}}],\"scatterpolargl\":[{\"type\":\"scatterpolargl\",\"marker\":{\"colorbar\":{\"outlinewidth\":0,\"ticks\":\"\"}}}],\"bar\":[{\"error_x\":{\"color\":\"#2a3f5f\"},\"error_y\":{\"color\":\"#2a3f5f\"},\"marker\":{\"line\":{\"color\":\"#E5ECF6\",\"width\":0.5},\"pattern\":{\"fillmode\":\"overlay\",\"size\":10,\"solidity\":0.2}},\"type\":\"bar\"}],\"scattergeo\":[{\"type\":\"scattergeo\",\"marker\":{\"colorbar\":{\"outlinewidth\":0,\"ticks\":\"\"}}}],\"scatterpolar\":[{\"type\":\"scatterpolar\",\"marker\":{\"colorbar\":{\"outlinewidth\":0,\"ticks\":\"\"}}}],\"histogram\":[{\"marker\":{\"pattern\":{\"fillmode\":\"overlay\",\"size\":10,\"solidity\":0.2}},\"type\":\"histogram\"}],\"scattergl\":[{\"type\":\"scattergl\",\"marker\":{\"colorbar\":{\"outlinewidth\":0,\"ticks\":\"\"}}}],\"scatter3d\":[{\"type\":\"scatter3d\",\"line\":{\"colorbar\":{\"outlinewidth\":0,\"ticks\":\"\"}},\"marker\":{\"colorbar\":{\"outlinewidth\":0,\"ticks\":\"\"}}}],\"scattermapbox\":[{\"type\":\"scattermapbox\",\"marker\":{\"colorbar\":{\"outlinewidth\":0,\"ticks\":\"\"}}}],\"scatterternary\":[{\"type\":\"scatterternary\",\"marker\":{\"colorbar\":{\"outlinewidth\":0,\"ticks\":\"\"}}}],\"scattercarpet\":[{\"type\":\"scattercarpet\",\"marker\":{\"colorbar\":{\"outlinewidth\":0,\"ticks\":\"\"}}}],\"carpet\":[{\"aaxis\":{\"endlinecolor\":\"#2a3f5f\",\"gridcolor\":\"white\",\"linecolor\":\"white\",\"minorgridcolor\":\"white\",\"startlinecolor\":\"#2a3f5f\"},\"baxis\":{\"endlinecolor\":\"#2a3f5f\",\"gridcolor\":\"white\",\"linecolor\":\"white\",\"minorgridcolor\":\"white\",\"startlinecolor\":\"#2a3f5f\"},\"type\":\"carpet\"}],\"table\":[{\"cells\":{\"fill\":{\"color\":\"#EBF0F8\"},\"line\":{\"color\":\"white\"}},\"header\":{\"fill\":{\"color\":\"#C8D4E3\"},\"line\":{\"color\":\"white\"}},\"type\":\"table\"}],\"barpolar\":[{\"marker\":{\"line\":{\"color\":\"#E5ECF6\",\"width\":0.5},\"pattern\":{\"fillmode\":\"overlay\",\"size\":10,\"solidity\":0.2}},\"type\":\"barpolar\"}],\"pie\":[{\"automargin\":true,\"type\":\"pie\"}]},\"layout\":{\"autotypenumbers\":\"strict\",\"colorway\":[\"#636efa\",\"#EF553B\",\"#00cc96\",\"#ab63fa\",\"#FFA15A\",\"#19d3f3\",\"#FF6692\",\"#B6E880\",\"#FF97FF\",\"#FECB52\"],\"font\":{\"color\":\"#2a3f5f\"},\"hovermode\":\"closest\",\"hoverlabel\":{\"align\":\"left\"},\"paper_bgcolor\":\"white\",\"plot_bgcolor\":\"#E5ECF6\",\"polar\":{\"bgcolor\":\"#E5ECF6\",\"angularaxis\":{\"gridcolor\":\"white\",\"linecolor\":\"white\",\"ticks\":\"\"},\"radialaxis\":{\"gridcolor\":\"white\",\"linecolor\":\"white\",\"ticks\":\"\"}},\"ternary\":{\"bgcolor\":\"#E5ECF6\",\"aaxis\":{\"gridcolor\":\"white\",\"linecolor\":\"white\",\"ticks\":\"\"},\"baxis\":{\"gridcolor\":\"white\",\"linecolor\":\"white\",\"ticks\":\"\"},\"caxis\":{\"gridcolor\":\"white\",\"linecolor\":\"white\",\"ticks\":\"\"}},\"coloraxis\":{\"colorbar\":{\"outlinewidth\":0,\"ticks\":\"\"}},\"colorscale\":{\"sequential\":[[0.0,\"#0d0887\"],[0.1111111111111111,\"#46039f\"],[0.2222222222222222,\"#7201a8\"],[0.3333333333333333,\"#9c179e\"],[0.4444444444444444,\"#bd3786\"],[0.5555555555555556,\"#d8576b\"],[0.6666666666666666,\"#ed7953\"],[0.7777777777777778,\"#fb9f3a\"],[0.8888888888888888,\"#fdca26\"],[1.0,\"#f0f921\"]],\"sequentialminus\":[[0.0,\"#0d0887\"],[0.1111111111111111,\"#46039f\"],[0.2222222222222222,\"#7201a8\"],[0.3333333333333333,\"#9c179e\"],[0.4444444444444444,\"#bd3786\"],[0.5555555555555556,\"#d8576b\"],[0.6666666666666666,\"#ed7953\"],[0.7777777777777778,\"#fb9f3a\"],[0.8888888888888888,\"#fdca26\"],[1.0,\"#f0f921\"]],\"diverging\":[[0,\"#8e0152\"],[0.1,\"#c51b7d\"],[0.2,\"#de77ae\"],[0.3,\"#f1b6da\"],[0.4,\"#fde0ef\"],[0.5,\"#f7f7f7\"],[0.6,\"#e6f5d0\"],[0.7,\"#b8e186\"],[0.8,\"#7fbc41\"],[0.9,\"#4d9221\"],[1,\"#276419\"]]},\"xaxis\":{\"gridcolor\":\"white\",\"linecolor\":\"white\",\"ticks\":\"\",\"title\":{\"standoff\":15},\"zerolinecolor\":\"white\",\"automargin\":true,\"zerolinewidth\":2},\"yaxis\":{\"gridcolor\":\"white\",\"linecolor\":\"white\",\"ticks\":\"\",\"title\":{\"standoff\":15},\"zerolinecolor\":\"white\",\"automargin\":true,\"zerolinewidth\":2},\"scene\":{\"xaxis\":{\"backgroundcolor\":\"#E5ECF6\",\"gridcolor\":\"white\",\"linecolor\":\"white\",\"showbackground\":true,\"ticks\":\"\",\"zerolinecolor\":\"white\",\"gridwidth\":2},\"yaxis\":{\"backgroundcolor\":\"#E5ECF6\",\"gridcolor\":\"white\",\"linecolor\":\"white\",\"showbackground\":true,\"ticks\":\"\",\"zerolinecolor\":\"white\",\"gridwidth\":2},\"zaxis\":{\"backgroundcolor\":\"#E5ECF6\",\"gridcolor\":\"white\",\"linecolor\":\"white\",\"showbackground\":true,\"ticks\":\"\",\"zerolinecolor\":\"white\",\"gridwidth\":2}},\"shapedefaults\":{\"line\":{\"color\":\"#2a3f5f\"}},\"annotationdefaults\":{\"arrowcolor\":\"#2a3f5f\",\"arrowhead\":0,\"arrowwidth\":1},\"geo\":{\"bgcolor\":\"white\",\"landcolor\":\"#E5ECF6\",\"subunitcolor\":\"white\",\"showland\":true,\"showlakes\":true,\"lakecolor\":\"white\"},\"title\":{\"x\":0.05},\"mapbox\":{\"style\":\"light\"}}},\"xaxis\":{\"anchor\":\"y\",\"domain\":[0.0,1.0],\"title\":{\"text\":\"index\"}},\"yaxis\":{\"anchor\":\"x\",\"domain\":[0.0,1.0],\"title\":{\"text\":\"percent of sum of value\"}},\"legend\":{\"title\":{\"text\":\"variable\"},\"tracegroupgap\":0,\"orientation\":\"h\",\"yanchor\":\"bottom\",\"y\":1.02,\"xanchor\":\"left\",\"x\":0},\"margin\":{\"t\":60},\"barmode\":\"group\",\"width\":1000},                        {\"responsive\": true}                    ).then(function(){\n",
       "                            \n",
       "var gd = document.getElementById('997566ad-0920-4674-b674-5396079bcdc9');\n",
       "var x = new MutationObserver(function (mutations, observer) {{\n",
       "        var display = window.getComputedStyle(gd).display;\n",
       "        if (!display || display === 'none') {{\n",
       "            console.log([gd, 'removed!']);\n",
       "            Plotly.purge(gd);\n",
       "            observer.disconnect();\n",
       "        }}\n",
       "}});\n",
       "\n",
       "// Listen for the removal of the full notebook cells\n",
       "var notebookContainer = gd.closest('#notebook-container');\n",
       "if (notebookContainer) {{\n",
       "    x.observe(notebookContainer, {childList: true});\n",
       "}}\n",
       "\n",
       "// Listen for the clearing of the current output cell\n",
       "var outputEl = gd.closest('.output');\n",
       "if (outputEl) {{\n",
       "    x.observe(outputEl, {childList: true});\n",
       "}}\n",
       "\n",
       "                        })                };                });            </script>        </div>"
      ]
     },
     "metadata": {},
     "output_type": "display_data"
    }
   ],
   "source": [
    "sum_categories_histogram(percent=True, width=1000)"
   ]
  },
  {
   "cell_type": "code",
   "execution_count": 24,
   "id": "baa19ceb",
   "metadata": {},
   "outputs": [
    {
     "data": {
      "application/vnd.plotly.v1+json": {
       "config": {
        "plotlyServerURL": "https://plot.ly"
       },
       "data": [
        {
         "alignmentgroup": "True",
         "bingroup": "x",
         "histfunc": "sum",
         "histnorm": "percent",
         "hovertemplate": "variable=manjaro_groups<br>index=%{x}<br>percent of sum of value=%{y}<extra></extra>",
         "legendgroup": "manjaro_groups",
         "marker": {
          "color": "#636efa",
          "pattern": {
           "shape": ""
          }
         },
         "name": "manjaro_groups",
         "offsetgroup": "manjaro_groups",
         "orientation": "v",
         "showlegend": true,
         "type": "histogram",
         "x": [
          "System Instructions",
          "Control Transfer Instructions",
          "Binary Arithmetic Instructions",
          "Other",
          "Miscellaneous Instructions",
          "Data Transfer Instructions",
          "Logical Instructions",
          "Bit and Byte Instructions",
          "Shift and Rotate Instructions",
          "I/O and String Instructions",
          "Insert Instructions",
          "Fused Arithmetic Instructions",
          "Shuffle Instructions",
          "Extract Instructions",
          "Cacheability Control, Prefetch and Ordering Instructions",
          "Bit manipulation instructions",
          "Unpack Instructions",
          "AVX Initialization Instructions",
          "Primitives of Functions",
          "Pack Instructions",
          "High Level Procedure Instructions",
          "Packed Arithmetic Instructions",
          "Conversion Instructions",
          "Comparison Instructions",
          "Advanced Encryption Standard (AES) instructions set",
          "Flag Control Instructions",
          "Load Constants Instructions",
          "Control Instructions",
          "Blending Instructions",
          "Gather Instructions",
          "Opmask Instructions",
          "Broadcast Instructions",
          "Secure Hash Algorithm Instructions",
          "Permute Instructions",
          "Basic Arithmetic Instructions",
          "Scatter Instructions",
          "Transactional Synchronization Extensions (TSX) instructions set",
          "State Management Instructions",
          "Transcendental Instructions",
          "Random Number Generator Instructions",
          "Expand Instructions",
          "Compress Instructions",
          "FPU and SIMD State Management Instructions",
          "Memory Protection Extensions (MPX) instructions set",
          "VMCS-maintenance Instructions",
          "Segment Register Instructions",
          "Decimal Arithmetic Instructions"
         ],
         "xaxis": "x",
         "y": [
          139266497,
          79876348,
          43035175,
          46447444,
          36170770,
          29827813,
          17800306,
          17302108,
          7380731,
          1609133,
          141057,
          87549,
          131060,
          93043,
          70896,
          45187,
          59787,
          45628,
          40636,
          32002,
          26341,
          21653,
          24398,
          11595,
          9087,
          6510,
          4192,
          3692,
          4612,
          3880,
          2903,
          3652,
          2779,
          2480,
          637,
          239,
          209,
          192,
          84,
          54,
          48,
          36,
          11,
          15,
          8,
          6,
          1
         ],
         "yaxis": "y"
        },
        {
         "alignmentgroup": "True",
         "bingroup": "x",
         "histfunc": "sum",
         "histnorm": "percent",
         "hovertemplate": "variable=opensuse_groups<br>index=%{x}<br>percent of sum of value=%{y}<extra></extra>",
         "legendgroup": "opensuse_groups",
         "marker": {
          "color": "#EF553B",
          "pattern": {
           "shape": ""
          }
         },
         "name": "opensuse_groups",
         "offsetgroup": "opensuse_groups",
         "orientation": "v",
         "showlegend": true,
         "type": "histogram",
         "x": [
          "System Instructions",
          "Control Transfer Instructions",
          "Binary Arithmetic Instructions",
          "Other",
          "Miscellaneous Instructions",
          "Data Transfer Instructions",
          "Logical Instructions",
          "Bit and Byte Instructions",
          "Shift and Rotate Instructions",
          "I/O and String Instructions",
          "Insert Instructions",
          "Fused Arithmetic Instructions",
          "Shuffle Instructions",
          "Extract Instructions",
          "Cacheability Control, Prefetch and Ordering Instructions",
          "Bit manipulation instructions",
          "Unpack Instructions",
          "AVX Initialization Instructions",
          "Primitives of Functions",
          "Pack Instructions",
          "High Level Procedure Instructions",
          "Packed Arithmetic Instructions",
          "Conversion Instructions",
          "Comparison Instructions",
          "Advanced Encryption Standard (AES) instructions set",
          "Flag Control Instructions",
          "Load Constants Instructions",
          "Control Instructions",
          "Blending Instructions",
          "Gather Instructions",
          "Opmask Instructions",
          "Broadcast Instructions",
          "Secure Hash Algorithm Instructions",
          "Permute Instructions",
          "Basic Arithmetic Instructions",
          "Scatter Instructions",
          "Transactional Synchronization Extensions (TSX) instructions set",
          "State Management Instructions",
          "Transcendental Instructions",
          "Random Number Generator Instructions",
          "Expand Instructions",
          "Compress Instructions",
          "FPU and SIMD State Management Instructions",
          "Memory Protection Extensions (MPX) instructions set",
          "VMCS-maintenance Instructions",
          "Segment Register Instructions",
          "Decimal Arithmetic Instructions"
         ],
         "xaxis": "x",
         "y": [
          84573712,
          54580006,
          25062681,
          21498492,
          22495862,
          18448820,
          10780910,
          10431309,
          3976356,
          926926,
          41074,
          71916,
          26236,
          30547,
          43481,
          38917,
          20746,
          27670,
          10284,
          13205,
          8757,
          14348,
          8665,
          7053,
          8230,
          8950,
          1897,
          2745,
          3035,
          3146,
          2660,
          2646,
          2818,
          244,
          933,
          207,
          134,
          72,
          50,
          53,
          48,
          24,
          11,
          13,
          10,
          7,
          2
         ],
         "yaxis": "y"
        },
        {
         "alignmentgroup": "True",
         "bingroup": "x",
         "histfunc": "sum",
         "histnorm": "percent",
         "hovertemplate": "variable=ubuntu_groups<br>index=%{x}<br>percent of sum of value=%{y}<extra></extra>",
         "legendgroup": "ubuntu_groups",
         "marker": {
          "color": "#00cc96",
          "pattern": {
           "shape": ""
          }
         },
         "name": "ubuntu_groups",
         "offsetgroup": "ubuntu_groups",
         "orientation": "v",
         "showlegend": true,
         "type": "histogram",
         "x": [
          "System Instructions",
          "Control Transfer Instructions",
          "Binary Arithmetic Instructions",
          "Other",
          "Miscellaneous Instructions",
          "Data Transfer Instructions",
          "Logical Instructions",
          "Bit and Byte Instructions",
          "Shift and Rotate Instructions",
          "I/O and String Instructions",
          "Insert Instructions",
          "Fused Arithmetic Instructions",
          "Shuffle Instructions",
          "Extract Instructions",
          "Cacheability Control, Prefetch and Ordering Instructions",
          "Bit manipulation instructions",
          "Unpack Instructions",
          "AVX Initialization Instructions",
          "Primitives of Functions",
          "Pack Instructions",
          "High Level Procedure Instructions",
          "Packed Arithmetic Instructions",
          "Conversion Instructions",
          "Comparison Instructions",
          "Advanced Encryption Standard (AES) instructions set",
          "Flag Control Instructions",
          "Load Constants Instructions",
          "Control Instructions",
          "Blending Instructions",
          "Gather Instructions",
          "Opmask Instructions",
          "Broadcast Instructions",
          "Secure Hash Algorithm Instructions",
          "Permute Instructions",
          "Basic Arithmetic Instructions",
          "Scatter Instructions",
          "Transactional Synchronization Extensions (TSX) instructions set",
          "State Management Instructions",
          "Transcendental Instructions",
          "Random Number Generator Instructions",
          "Expand Instructions",
          "Compress Instructions",
          "FPU and SIMD State Management Instructions",
          "Memory Protection Extensions (MPX) instructions set",
          "VMCS-maintenance Instructions",
          "Segment Register Instructions",
          "Decimal Arithmetic Instructions"
         ],
         "xaxis": "x",
         "y": [
          97530776,
          54482730,
          29320230,
          27785911,
          25604054,
          20365193,
          13367931,
          11842348,
          5309283,
          1107275,
          66601,
          70054,
          62324,
          37229,
          36571,
          53781,
          22669,
          25499,
          19739,
          12222,
          19699,
          9945,
          9328,
          10194,
          4918,
          3544,
          4955,
          3509,
          1987,
          2145,
          2254,
          1512,
          1314,
          1157,
          320,
          149,
          189,
          72,
          201,
          113,
          0,
          28,
          14,
          7,
          4,
          3,
          0
         ],
         "yaxis": "y"
        }
       ],
       "layout": {
        "barmode": "group",
        "legend": {
         "orientation": "h",
         "title": {
          "text": "variable"
         },
         "tracegroupgap": 0,
         "x": 0,
         "xanchor": "left",
         "y": 1.02,
         "yanchor": "bottom"
        },
        "margin": {
         "t": 60
        },
        "template": {
         "data": {
          "bar": [
           {
            "error_x": {
             "color": "#2a3f5f"
            },
            "error_y": {
             "color": "#2a3f5f"
            },
            "marker": {
             "line": {
              "color": "#E5ECF6",
              "width": 0.5
             },
             "pattern": {
              "fillmode": "overlay",
              "size": 10,
              "solidity": 0.2
             }
            },
            "type": "bar"
           }
          ],
          "barpolar": [
           {
            "marker": {
             "line": {
              "color": "#E5ECF6",
              "width": 0.5
             },
             "pattern": {
              "fillmode": "overlay",
              "size": 10,
              "solidity": 0.2
             }
            },
            "type": "barpolar"
           }
          ],
          "carpet": [
           {
            "aaxis": {
             "endlinecolor": "#2a3f5f",
             "gridcolor": "white",
             "linecolor": "white",
             "minorgridcolor": "white",
             "startlinecolor": "#2a3f5f"
            },
            "baxis": {
             "endlinecolor": "#2a3f5f",
             "gridcolor": "white",
             "linecolor": "white",
             "minorgridcolor": "white",
             "startlinecolor": "#2a3f5f"
            },
            "type": "carpet"
           }
          ],
          "choropleth": [
           {
            "colorbar": {
             "outlinewidth": 0,
             "ticks": ""
            },
            "type": "choropleth"
           }
          ],
          "contour": [
           {
            "colorbar": {
             "outlinewidth": 0,
             "ticks": ""
            },
            "colorscale": [
             [
              0,
              "#0d0887"
             ],
             [
              0.1111111111111111,
              "#46039f"
             ],
             [
              0.2222222222222222,
              "#7201a8"
             ],
             [
              0.3333333333333333,
              "#9c179e"
             ],
             [
              0.4444444444444444,
              "#bd3786"
             ],
             [
              0.5555555555555556,
              "#d8576b"
             ],
             [
              0.6666666666666666,
              "#ed7953"
             ],
             [
              0.7777777777777778,
              "#fb9f3a"
             ],
             [
              0.8888888888888888,
              "#fdca26"
             ],
             [
              1,
              "#f0f921"
             ]
            ],
            "type": "contour"
           }
          ],
          "contourcarpet": [
           {
            "colorbar": {
             "outlinewidth": 0,
             "ticks": ""
            },
            "type": "contourcarpet"
           }
          ],
          "heatmap": [
           {
            "colorbar": {
             "outlinewidth": 0,
             "ticks": ""
            },
            "colorscale": [
             [
              0,
              "#0d0887"
             ],
             [
              0.1111111111111111,
              "#46039f"
             ],
             [
              0.2222222222222222,
              "#7201a8"
             ],
             [
              0.3333333333333333,
              "#9c179e"
             ],
             [
              0.4444444444444444,
              "#bd3786"
             ],
             [
              0.5555555555555556,
              "#d8576b"
             ],
             [
              0.6666666666666666,
              "#ed7953"
             ],
             [
              0.7777777777777778,
              "#fb9f3a"
             ],
             [
              0.8888888888888888,
              "#fdca26"
             ],
             [
              1,
              "#f0f921"
             ]
            ],
            "type": "heatmap"
           }
          ],
          "heatmapgl": [
           {
            "colorbar": {
             "outlinewidth": 0,
             "ticks": ""
            },
            "colorscale": [
             [
              0,
              "#0d0887"
             ],
             [
              0.1111111111111111,
              "#46039f"
             ],
             [
              0.2222222222222222,
              "#7201a8"
             ],
             [
              0.3333333333333333,
              "#9c179e"
             ],
             [
              0.4444444444444444,
              "#bd3786"
             ],
             [
              0.5555555555555556,
              "#d8576b"
             ],
             [
              0.6666666666666666,
              "#ed7953"
             ],
             [
              0.7777777777777778,
              "#fb9f3a"
             ],
             [
              0.8888888888888888,
              "#fdca26"
             ],
             [
              1,
              "#f0f921"
             ]
            ],
            "type": "heatmapgl"
           }
          ],
          "histogram": [
           {
            "marker": {
             "pattern": {
              "fillmode": "overlay",
              "size": 10,
              "solidity": 0.2
             }
            },
            "type": "histogram"
           }
          ],
          "histogram2d": [
           {
            "colorbar": {
             "outlinewidth": 0,
             "ticks": ""
            },
            "colorscale": [
             [
              0,
              "#0d0887"
             ],
             [
              0.1111111111111111,
              "#46039f"
             ],
             [
              0.2222222222222222,
              "#7201a8"
             ],
             [
              0.3333333333333333,
              "#9c179e"
             ],
             [
              0.4444444444444444,
              "#bd3786"
             ],
             [
              0.5555555555555556,
              "#d8576b"
             ],
             [
              0.6666666666666666,
              "#ed7953"
             ],
             [
              0.7777777777777778,
              "#fb9f3a"
             ],
             [
              0.8888888888888888,
              "#fdca26"
             ],
             [
              1,
              "#f0f921"
             ]
            ],
            "type": "histogram2d"
           }
          ],
          "histogram2dcontour": [
           {
            "colorbar": {
             "outlinewidth": 0,
             "ticks": ""
            },
            "colorscale": [
             [
              0,
              "#0d0887"
             ],
             [
              0.1111111111111111,
              "#46039f"
             ],
             [
              0.2222222222222222,
              "#7201a8"
             ],
             [
              0.3333333333333333,
              "#9c179e"
             ],
             [
              0.4444444444444444,
              "#bd3786"
             ],
             [
              0.5555555555555556,
              "#d8576b"
             ],
             [
              0.6666666666666666,
              "#ed7953"
             ],
             [
              0.7777777777777778,
              "#fb9f3a"
             ],
             [
              0.8888888888888888,
              "#fdca26"
             ],
             [
              1,
              "#f0f921"
             ]
            ],
            "type": "histogram2dcontour"
           }
          ],
          "mesh3d": [
           {
            "colorbar": {
             "outlinewidth": 0,
             "ticks": ""
            },
            "type": "mesh3d"
           }
          ],
          "parcoords": [
           {
            "line": {
             "colorbar": {
              "outlinewidth": 0,
              "ticks": ""
             }
            },
            "type": "parcoords"
           }
          ],
          "pie": [
           {
            "automargin": true,
            "type": "pie"
           }
          ],
          "scatter": [
           {
            "fillpattern": {
             "fillmode": "overlay",
             "size": 10,
             "solidity": 0.2
            },
            "type": "scatter"
           }
          ],
          "scatter3d": [
           {
            "line": {
             "colorbar": {
              "outlinewidth": 0,
              "ticks": ""
             }
            },
            "marker": {
             "colorbar": {
              "outlinewidth": 0,
              "ticks": ""
             }
            },
            "type": "scatter3d"
           }
          ],
          "scattercarpet": [
           {
            "marker": {
             "colorbar": {
              "outlinewidth": 0,
              "ticks": ""
             }
            },
            "type": "scattercarpet"
           }
          ],
          "scattergeo": [
           {
            "marker": {
             "colorbar": {
              "outlinewidth": 0,
              "ticks": ""
             }
            },
            "type": "scattergeo"
           }
          ],
          "scattergl": [
           {
            "marker": {
             "colorbar": {
              "outlinewidth": 0,
              "ticks": ""
             }
            },
            "type": "scattergl"
           }
          ],
          "scattermapbox": [
           {
            "marker": {
             "colorbar": {
              "outlinewidth": 0,
              "ticks": ""
             }
            },
            "type": "scattermapbox"
           }
          ],
          "scatterpolar": [
           {
            "marker": {
             "colorbar": {
              "outlinewidth": 0,
              "ticks": ""
             }
            },
            "type": "scatterpolar"
           }
          ],
          "scatterpolargl": [
           {
            "marker": {
             "colorbar": {
              "outlinewidth": 0,
              "ticks": ""
             }
            },
            "type": "scatterpolargl"
           }
          ],
          "scatterternary": [
           {
            "marker": {
             "colorbar": {
              "outlinewidth": 0,
              "ticks": ""
             }
            },
            "type": "scatterternary"
           }
          ],
          "surface": [
           {
            "colorbar": {
             "outlinewidth": 0,
             "ticks": ""
            },
            "colorscale": [
             [
              0,
              "#0d0887"
             ],
             [
              0.1111111111111111,
              "#46039f"
             ],
             [
              0.2222222222222222,
              "#7201a8"
             ],
             [
              0.3333333333333333,
              "#9c179e"
             ],
             [
              0.4444444444444444,
              "#bd3786"
             ],
             [
              0.5555555555555556,
              "#d8576b"
             ],
             [
              0.6666666666666666,
              "#ed7953"
             ],
             [
              0.7777777777777778,
              "#fb9f3a"
             ],
             [
              0.8888888888888888,
              "#fdca26"
             ],
             [
              1,
              "#f0f921"
             ]
            ],
            "type": "surface"
           }
          ],
          "table": [
           {
            "cells": {
             "fill": {
              "color": "#EBF0F8"
             },
             "line": {
              "color": "white"
             }
            },
            "header": {
             "fill": {
              "color": "#C8D4E3"
             },
             "line": {
              "color": "white"
             }
            },
            "type": "table"
           }
          ]
         },
         "layout": {
          "annotationdefaults": {
           "arrowcolor": "#2a3f5f",
           "arrowhead": 0,
           "arrowwidth": 1
          },
          "autotypenumbers": "strict",
          "coloraxis": {
           "colorbar": {
            "outlinewidth": 0,
            "ticks": ""
           }
          },
          "colorscale": {
           "diverging": [
            [
             0,
             "#8e0152"
            ],
            [
             0.1,
             "#c51b7d"
            ],
            [
             0.2,
             "#de77ae"
            ],
            [
             0.3,
             "#f1b6da"
            ],
            [
             0.4,
             "#fde0ef"
            ],
            [
             0.5,
             "#f7f7f7"
            ],
            [
             0.6,
             "#e6f5d0"
            ],
            [
             0.7,
             "#b8e186"
            ],
            [
             0.8,
             "#7fbc41"
            ],
            [
             0.9,
             "#4d9221"
            ],
            [
             1,
             "#276419"
            ]
           ],
           "sequential": [
            [
             0,
             "#0d0887"
            ],
            [
             0.1111111111111111,
             "#46039f"
            ],
            [
             0.2222222222222222,
             "#7201a8"
            ],
            [
             0.3333333333333333,
             "#9c179e"
            ],
            [
             0.4444444444444444,
             "#bd3786"
            ],
            [
             0.5555555555555556,
             "#d8576b"
            ],
            [
             0.6666666666666666,
             "#ed7953"
            ],
            [
             0.7777777777777778,
             "#fb9f3a"
            ],
            [
             0.8888888888888888,
             "#fdca26"
            ],
            [
             1,
             "#f0f921"
            ]
           ],
           "sequentialminus": [
            [
             0,
             "#0d0887"
            ],
            [
             0.1111111111111111,
             "#46039f"
            ],
            [
             0.2222222222222222,
             "#7201a8"
            ],
            [
             0.3333333333333333,
             "#9c179e"
            ],
            [
             0.4444444444444444,
             "#bd3786"
            ],
            [
             0.5555555555555556,
             "#d8576b"
            ],
            [
             0.6666666666666666,
             "#ed7953"
            ],
            [
             0.7777777777777778,
             "#fb9f3a"
            ],
            [
             0.8888888888888888,
             "#fdca26"
            ],
            [
             1,
             "#f0f921"
            ]
           ]
          },
          "colorway": [
           "#636efa",
           "#EF553B",
           "#00cc96",
           "#ab63fa",
           "#FFA15A",
           "#19d3f3",
           "#FF6692",
           "#B6E880",
           "#FF97FF",
           "#FECB52"
          ],
          "font": {
           "color": "#2a3f5f"
          },
          "geo": {
           "bgcolor": "white",
           "lakecolor": "white",
           "landcolor": "#E5ECF6",
           "showlakes": true,
           "showland": true,
           "subunitcolor": "white"
          },
          "hoverlabel": {
           "align": "left"
          },
          "hovermode": "closest",
          "mapbox": {
           "style": "light"
          },
          "paper_bgcolor": "white",
          "plot_bgcolor": "#E5ECF6",
          "polar": {
           "angularaxis": {
            "gridcolor": "white",
            "linecolor": "white",
            "ticks": ""
           },
           "bgcolor": "#E5ECF6",
           "radialaxis": {
            "gridcolor": "white",
            "linecolor": "white",
            "ticks": ""
           }
          },
          "scene": {
           "xaxis": {
            "backgroundcolor": "#E5ECF6",
            "gridcolor": "white",
            "gridwidth": 2,
            "linecolor": "white",
            "showbackground": true,
            "ticks": "",
            "zerolinecolor": "white"
           },
           "yaxis": {
            "backgroundcolor": "#E5ECF6",
            "gridcolor": "white",
            "gridwidth": 2,
            "linecolor": "white",
            "showbackground": true,
            "ticks": "",
            "zerolinecolor": "white"
           },
           "zaxis": {
            "backgroundcolor": "#E5ECF6",
            "gridcolor": "white",
            "gridwidth": 2,
            "linecolor": "white",
            "showbackground": true,
            "ticks": "",
            "zerolinecolor": "white"
           }
          },
          "shapedefaults": {
           "line": {
            "color": "#2a3f5f"
           }
          },
          "ternary": {
           "aaxis": {
            "gridcolor": "white",
            "linecolor": "white",
            "ticks": ""
           },
           "baxis": {
            "gridcolor": "white",
            "linecolor": "white",
            "ticks": ""
           },
           "bgcolor": "#E5ECF6",
           "caxis": {
            "gridcolor": "white",
            "linecolor": "white",
            "ticks": ""
           }
          },
          "title": {
           "x": 0.05
          },
          "xaxis": {
           "automargin": true,
           "gridcolor": "white",
           "linecolor": "white",
           "ticks": "",
           "title": {
            "standoff": 15
           },
           "zerolinecolor": "white",
           "zerolinewidth": 2
          },
          "yaxis": {
           "automargin": true,
           "gridcolor": "white",
           "linecolor": "white",
           "ticks": "",
           "title": {
            "standoff": 15
           },
           "zerolinecolor": "white",
           "zerolinewidth": 2
          }
         }
        },
        "width": 2000,
        "xaxis": {
         "anchor": "y",
         "domain": [
          0,
          1
         ],
         "title": {
          "text": "index"
         }
        },
        "yaxis": {
         "anchor": "x",
         "domain": [
          0,
          1
         ],
         "title": {
          "text": "percent of sum of value"
         }
        }
       }
      },
      "text/html": [
       "<div>                            <div id=\"de458291-8b5d-41dd-ac3e-dfea6fef85b7\" class=\"plotly-graph-div\" style=\"height:525px; width:2000px;\"></div>            <script type=\"text/javascript\">                require([\"plotly\"], function(Plotly) {                    window.PLOTLYENV=window.PLOTLYENV || {};                                    if (document.getElementById(\"de458291-8b5d-41dd-ac3e-dfea6fef85b7\")) {                    Plotly.newPlot(                        \"de458291-8b5d-41dd-ac3e-dfea6fef85b7\",                        [{\"alignmentgroup\":\"True\",\"bingroup\":\"x\",\"histfunc\":\"sum\",\"histnorm\":\"percent\",\"hovertemplate\":\"variable=manjaro_groups<br>index=%{x}<br>percent of sum of value=%{y}<extra></extra>\",\"legendgroup\":\"manjaro_groups\",\"marker\":{\"color\":\"#636efa\",\"pattern\":{\"shape\":\"\"}},\"name\":\"manjaro_groups\",\"offsetgroup\":\"manjaro_groups\",\"orientation\":\"v\",\"showlegend\":true,\"x\":[\"System Instructions\",\"Control Transfer Instructions\",\"Binary Arithmetic Instructions\",\"Other\",\"Miscellaneous Instructions\",\"Data Transfer Instructions\",\"Logical Instructions\",\"Bit and Byte Instructions\",\"Shift and Rotate Instructions\",\"I/O and String Instructions\",\"Insert Instructions\",\"Fused Arithmetic Instructions\",\"Shuffle Instructions\",\"Extract Instructions\",\"Cacheability Control, Prefetch and Ordering Instructions\",\"Bit manipulation instructions\",\"Unpack Instructions\",\"AVX Initialization Instructions\",\"Primitives of Functions\",\"Pack Instructions\",\"High Level Procedure Instructions\",\"Packed Arithmetic Instructions\",\"Conversion Instructions\",\"Comparison Instructions\",\"Advanced Encryption Standard (AES) instructions set\",\"Flag Control Instructions\",\"Load Constants Instructions\",\"Control Instructions\",\"Blending Instructions\",\"Gather Instructions\",\"Opmask Instructions\",\"Broadcast Instructions\",\"Secure Hash Algorithm Instructions\",\"Permute Instructions\",\"Basic Arithmetic Instructions\",\"Scatter Instructions\",\"Transactional Synchronization Extensions (TSX) instructions set\",\"State Management Instructions\",\"Transcendental Instructions\",\"Random Number Generator Instructions\",\"Expand Instructions\",\"Compress Instructions\",\"FPU and SIMD State Management Instructions\",\"Memory Protection Extensions (MPX) instructions set\",\"VMCS-maintenance Instructions\",\"Segment Register Instructions\",\"Decimal Arithmetic Instructions\"],\"xaxis\":\"x\",\"y\":[139266497,79876348,43035175,46447444,36170770,29827813,17800306,17302108,7380731,1609133,141057,87549,131060,93043,70896,45187,59787,45628,40636,32002,26341,21653,24398,11595,9087,6510,4192,3692,4612,3880,2903,3652,2779,2480,637,239,209,192,84,54,48,36,11,15,8,6,1],\"yaxis\":\"y\",\"type\":\"histogram\"},{\"alignmentgroup\":\"True\",\"bingroup\":\"x\",\"histfunc\":\"sum\",\"histnorm\":\"percent\",\"hovertemplate\":\"variable=opensuse_groups<br>index=%{x}<br>percent of sum of value=%{y}<extra></extra>\",\"legendgroup\":\"opensuse_groups\",\"marker\":{\"color\":\"#EF553B\",\"pattern\":{\"shape\":\"\"}},\"name\":\"opensuse_groups\",\"offsetgroup\":\"opensuse_groups\",\"orientation\":\"v\",\"showlegend\":true,\"x\":[\"System Instructions\",\"Control Transfer Instructions\",\"Binary Arithmetic Instructions\",\"Other\",\"Miscellaneous Instructions\",\"Data Transfer Instructions\",\"Logical Instructions\",\"Bit and Byte Instructions\",\"Shift and Rotate Instructions\",\"I/O and String Instructions\",\"Insert Instructions\",\"Fused Arithmetic Instructions\",\"Shuffle Instructions\",\"Extract Instructions\",\"Cacheability Control, Prefetch and Ordering Instructions\",\"Bit manipulation instructions\",\"Unpack Instructions\",\"AVX Initialization Instructions\",\"Primitives of Functions\",\"Pack Instructions\",\"High Level Procedure Instructions\",\"Packed Arithmetic Instructions\",\"Conversion Instructions\",\"Comparison Instructions\",\"Advanced Encryption Standard (AES) instructions set\",\"Flag Control Instructions\",\"Load Constants Instructions\",\"Control Instructions\",\"Blending Instructions\",\"Gather Instructions\",\"Opmask Instructions\",\"Broadcast Instructions\",\"Secure Hash Algorithm Instructions\",\"Permute Instructions\",\"Basic Arithmetic Instructions\",\"Scatter Instructions\",\"Transactional Synchronization Extensions (TSX) instructions set\",\"State Management Instructions\",\"Transcendental Instructions\",\"Random Number Generator Instructions\",\"Expand Instructions\",\"Compress Instructions\",\"FPU and SIMD State Management Instructions\",\"Memory Protection Extensions (MPX) instructions set\",\"VMCS-maintenance Instructions\",\"Segment Register Instructions\",\"Decimal Arithmetic Instructions\"],\"xaxis\":\"x\",\"y\":[84573712,54580006,25062681,21498492,22495862,18448820,10780910,10431309,3976356,926926,41074,71916,26236,30547,43481,38917,20746,27670,10284,13205,8757,14348,8665,7053,8230,8950,1897,2745,3035,3146,2660,2646,2818,244,933,207,134,72,50,53,48,24,11,13,10,7,2],\"yaxis\":\"y\",\"type\":\"histogram\"},{\"alignmentgroup\":\"True\",\"bingroup\":\"x\",\"histfunc\":\"sum\",\"histnorm\":\"percent\",\"hovertemplate\":\"variable=ubuntu_groups<br>index=%{x}<br>percent of sum of value=%{y}<extra></extra>\",\"legendgroup\":\"ubuntu_groups\",\"marker\":{\"color\":\"#00cc96\",\"pattern\":{\"shape\":\"\"}},\"name\":\"ubuntu_groups\",\"offsetgroup\":\"ubuntu_groups\",\"orientation\":\"v\",\"showlegend\":true,\"x\":[\"System Instructions\",\"Control Transfer Instructions\",\"Binary Arithmetic Instructions\",\"Other\",\"Miscellaneous Instructions\",\"Data Transfer Instructions\",\"Logical Instructions\",\"Bit and Byte Instructions\",\"Shift and Rotate Instructions\",\"I/O and String Instructions\",\"Insert Instructions\",\"Fused Arithmetic Instructions\",\"Shuffle Instructions\",\"Extract Instructions\",\"Cacheability Control, Prefetch and Ordering Instructions\",\"Bit manipulation instructions\",\"Unpack Instructions\",\"AVX Initialization Instructions\",\"Primitives of Functions\",\"Pack Instructions\",\"High Level Procedure Instructions\",\"Packed Arithmetic Instructions\",\"Conversion Instructions\",\"Comparison Instructions\",\"Advanced Encryption Standard (AES) instructions set\",\"Flag Control Instructions\",\"Load Constants Instructions\",\"Control Instructions\",\"Blending Instructions\",\"Gather Instructions\",\"Opmask Instructions\",\"Broadcast Instructions\",\"Secure Hash Algorithm Instructions\",\"Permute Instructions\",\"Basic Arithmetic Instructions\",\"Scatter Instructions\",\"Transactional Synchronization Extensions (TSX) instructions set\",\"State Management Instructions\",\"Transcendental Instructions\",\"Random Number Generator Instructions\",\"Expand Instructions\",\"Compress Instructions\",\"FPU and SIMD State Management Instructions\",\"Memory Protection Extensions (MPX) instructions set\",\"VMCS-maintenance Instructions\",\"Segment Register Instructions\",\"Decimal Arithmetic Instructions\"],\"xaxis\":\"x\",\"y\":[97530776,54482730,29320230,27785911,25604054,20365193,13367931,11842348,5309283,1107275,66601,70054,62324,37229,36571,53781,22669,25499,19739,12222,19699,9945,9328,10194,4918,3544,4955,3509,1987,2145,2254,1512,1314,1157,320,149,189,72,201,113,0,28,14,7,4,3,0],\"yaxis\":\"y\",\"type\":\"histogram\"}],                        {\"template\":{\"data\":{\"histogram2dcontour\":[{\"type\":\"histogram2dcontour\",\"colorbar\":{\"outlinewidth\":0,\"ticks\":\"\"},\"colorscale\":[[0.0,\"#0d0887\"],[0.1111111111111111,\"#46039f\"],[0.2222222222222222,\"#7201a8\"],[0.3333333333333333,\"#9c179e\"],[0.4444444444444444,\"#bd3786\"],[0.5555555555555556,\"#d8576b\"],[0.6666666666666666,\"#ed7953\"],[0.7777777777777778,\"#fb9f3a\"],[0.8888888888888888,\"#fdca26\"],[1.0,\"#f0f921\"]]}],\"choropleth\":[{\"type\":\"choropleth\",\"colorbar\":{\"outlinewidth\":0,\"ticks\":\"\"}}],\"histogram2d\":[{\"type\":\"histogram2d\",\"colorbar\":{\"outlinewidth\":0,\"ticks\":\"\"},\"colorscale\":[[0.0,\"#0d0887\"],[0.1111111111111111,\"#46039f\"],[0.2222222222222222,\"#7201a8\"],[0.3333333333333333,\"#9c179e\"],[0.4444444444444444,\"#bd3786\"],[0.5555555555555556,\"#d8576b\"],[0.6666666666666666,\"#ed7953\"],[0.7777777777777778,\"#fb9f3a\"],[0.8888888888888888,\"#fdca26\"],[1.0,\"#f0f921\"]]}],\"heatmap\":[{\"type\":\"heatmap\",\"colorbar\":{\"outlinewidth\":0,\"ticks\":\"\"},\"colorscale\":[[0.0,\"#0d0887\"],[0.1111111111111111,\"#46039f\"],[0.2222222222222222,\"#7201a8\"],[0.3333333333333333,\"#9c179e\"],[0.4444444444444444,\"#bd3786\"],[0.5555555555555556,\"#d8576b\"],[0.6666666666666666,\"#ed7953\"],[0.7777777777777778,\"#fb9f3a\"],[0.8888888888888888,\"#fdca26\"],[1.0,\"#f0f921\"]]}],\"heatmapgl\":[{\"type\":\"heatmapgl\",\"colorbar\":{\"outlinewidth\":0,\"ticks\":\"\"},\"colorscale\":[[0.0,\"#0d0887\"],[0.1111111111111111,\"#46039f\"],[0.2222222222222222,\"#7201a8\"],[0.3333333333333333,\"#9c179e\"],[0.4444444444444444,\"#bd3786\"],[0.5555555555555556,\"#d8576b\"],[0.6666666666666666,\"#ed7953\"],[0.7777777777777778,\"#fb9f3a\"],[0.8888888888888888,\"#fdca26\"],[1.0,\"#f0f921\"]]}],\"contourcarpet\":[{\"type\":\"contourcarpet\",\"colorbar\":{\"outlinewidth\":0,\"ticks\":\"\"}}],\"contour\":[{\"type\":\"contour\",\"colorbar\":{\"outlinewidth\":0,\"ticks\":\"\"},\"colorscale\":[[0.0,\"#0d0887\"],[0.1111111111111111,\"#46039f\"],[0.2222222222222222,\"#7201a8\"],[0.3333333333333333,\"#9c179e\"],[0.4444444444444444,\"#bd3786\"],[0.5555555555555556,\"#d8576b\"],[0.6666666666666666,\"#ed7953\"],[0.7777777777777778,\"#fb9f3a\"],[0.8888888888888888,\"#fdca26\"],[1.0,\"#f0f921\"]]}],\"surface\":[{\"type\":\"surface\",\"colorbar\":{\"outlinewidth\":0,\"ticks\":\"\"},\"colorscale\":[[0.0,\"#0d0887\"],[0.1111111111111111,\"#46039f\"],[0.2222222222222222,\"#7201a8\"],[0.3333333333333333,\"#9c179e\"],[0.4444444444444444,\"#bd3786\"],[0.5555555555555556,\"#d8576b\"],[0.6666666666666666,\"#ed7953\"],[0.7777777777777778,\"#fb9f3a\"],[0.8888888888888888,\"#fdca26\"],[1.0,\"#f0f921\"]]}],\"mesh3d\":[{\"type\":\"mesh3d\",\"colorbar\":{\"outlinewidth\":0,\"ticks\":\"\"}}],\"scatter\":[{\"fillpattern\":{\"fillmode\":\"overlay\",\"size\":10,\"solidity\":0.2},\"type\":\"scatter\"}],\"parcoords\":[{\"type\":\"parcoords\",\"line\":{\"colorbar\":{\"outlinewidth\":0,\"ticks\":\"\"}}}],\"scatterpolargl\":[{\"type\":\"scatterpolargl\",\"marker\":{\"colorbar\":{\"outlinewidth\":0,\"ticks\":\"\"}}}],\"bar\":[{\"error_x\":{\"color\":\"#2a3f5f\"},\"error_y\":{\"color\":\"#2a3f5f\"},\"marker\":{\"line\":{\"color\":\"#E5ECF6\",\"width\":0.5},\"pattern\":{\"fillmode\":\"overlay\",\"size\":10,\"solidity\":0.2}},\"type\":\"bar\"}],\"scattergeo\":[{\"type\":\"scattergeo\",\"marker\":{\"colorbar\":{\"outlinewidth\":0,\"ticks\":\"\"}}}],\"scatterpolar\":[{\"type\":\"scatterpolar\",\"marker\":{\"colorbar\":{\"outlinewidth\":0,\"ticks\":\"\"}}}],\"histogram\":[{\"marker\":{\"pattern\":{\"fillmode\":\"overlay\",\"size\":10,\"solidity\":0.2}},\"type\":\"histogram\"}],\"scattergl\":[{\"type\":\"scattergl\",\"marker\":{\"colorbar\":{\"outlinewidth\":0,\"ticks\":\"\"}}}],\"scatter3d\":[{\"type\":\"scatter3d\",\"line\":{\"colorbar\":{\"outlinewidth\":0,\"ticks\":\"\"}},\"marker\":{\"colorbar\":{\"outlinewidth\":0,\"ticks\":\"\"}}}],\"scattermapbox\":[{\"type\":\"scattermapbox\",\"marker\":{\"colorbar\":{\"outlinewidth\":0,\"ticks\":\"\"}}}],\"scatterternary\":[{\"type\":\"scatterternary\",\"marker\":{\"colorbar\":{\"outlinewidth\":0,\"ticks\":\"\"}}}],\"scattercarpet\":[{\"type\":\"scattercarpet\",\"marker\":{\"colorbar\":{\"outlinewidth\":0,\"ticks\":\"\"}}}],\"carpet\":[{\"aaxis\":{\"endlinecolor\":\"#2a3f5f\",\"gridcolor\":\"white\",\"linecolor\":\"white\",\"minorgridcolor\":\"white\",\"startlinecolor\":\"#2a3f5f\"},\"baxis\":{\"endlinecolor\":\"#2a3f5f\",\"gridcolor\":\"white\",\"linecolor\":\"white\",\"minorgridcolor\":\"white\",\"startlinecolor\":\"#2a3f5f\"},\"type\":\"carpet\"}],\"table\":[{\"cells\":{\"fill\":{\"color\":\"#EBF0F8\"},\"line\":{\"color\":\"white\"}},\"header\":{\"fill\":{\"color\":\"#C8D4E3\"},\"line\":{\"color\":\"white\"}},\"type\":\"table\"}],\"barpolar\":[{\"marker\":{\"line\":{\"color\":\"#E5ECF6\",\"width\":0.5},\"pattern\":{\"fillmode\":\"overlay\",\"size\":10,\"solidity\":0.2}},\"type\":\"barpolar\"}],\"pie\":[{\"automargin\":true,\"type\":\"pie\"}]},\"layout\":{\"autotypenumbers\":\"strict\",\"colorway\":[\"#636efa\",\"#EF553B\",\"#00cc96\",\"#ab63fa\",\"#FFA15A\",\"#19d3f3\",\"#FF6692\",\"#B6E880\",\"#FF97FF\",\"#FECB52\"],\"font\":{\"color\":\"#2a3f5f\"},\"hovermode\":\"closest\",\"hoverlabel\":{\"align\":\"left\"},\"paper_bgcolor\":\"white\",\"plot_bgcolor\":\"#E5ECF6\",\"polar\":{\"bgcolor\":\"#E5ECF6\",\"angularaxis\":{\"gridcolor\":\"white\",\"linecolor\":\"white\",\"ticks\":\"\"},\"radialaxis\":{\"gridcolor\":\"white\",\"linecolor\":\"white\",\"ticks\":\"\"}},\"ternary\":{\"bgcolor\":\"#E5ECF6\",\"aaxis\":{\"gridcolor\":\"white\",\"linecolor\":\"white\",\"ticks\":\"\"},\"baxis\":{\"gridcolor\":\"white\",\"linecolor\":\"white\",\"ticks\":\"\"},\"caxis\":{\"gridcolor\":\"white\",\"linecolor\":\"white\",\"ticks\":\"\"}},\"coloraxis\":{\"colorbar\":{\"outlinewidth\":0,\"ticks\":\"\"}},\"colorscale\":{\"sequential\":[[0.0,\"#0d0887\"],[0.1111111111111111,\"#46039f\"],[0.2222222222222222,\"#7201a8\"],[0.3333333333333333,\"#9c179e\"],[0.4444444444444444,\"#bd3786\"],[0.5555555555555556,\"#d8576b\"],[0.6666666666666666,\"#ed7953\"],[0.7777777777777778,\"#fb9f3a\"],[0.8888888888888888,\"#fdca26\"],[1.0,\"#f0f921\"]],\"sequentialminus\":[[0.0,\"#0d0887\"],[0.1111111111111111,\"#46039f\"],[0.2222222222222222,\"#7201a8\"],[0.3333333333333333,\"#9c179e\"],[0.4444444444444444,\"#bd3786\"],[0.5555555555555556,\"#d8576b\"],[0.6666666666666666,\"#ed7953\"],[0.7777777777777778,\"#fb9f3a\"],[0.8888888888888888,\"#fdca26\"],[1.0,\"#f0f921\"]],\"diverging\":[[0,\"#8e0152\"],[0.1,\"#c51b7d\"],[0.2,\"#de77ae\"],[0.3,\"#f1b6da\"],[0.4,\"#fde0ef\"],[0.5,\"#f7f7f7\"],[0.6,\"#e6f5d0\"],[0.7,\"#b8e186\"],[0.8,\"#7fbc41\"],[0.9,\"#4d9221\"],[1,\"#276419\"]]},\"xaxis\":{\"gridcolor\":\"white\",\"linecolor\":\"white\",\"ticks\":\"\",\"title\":{\"standoff\":15},\"zerolinecolor\":\"white\",\"automargin\":true,\"zerolinewidth\":2},\"yaxis\":{\"gridcolor\":\"white\",\"linecolor\":\"white\",\"ticks\":\"\",\"title\":{\"standoff\":15},\"zerolinecolor\":\"white\",\"automargin\":true,\"zerolinewidth\":2},\"scene\":{\"xaxis\":{\"backgroundcolor\":\"#E5ECF6\",\"gridcolor\":\"white\",\"linecolor\":\"white\",\"showbackground\":true,\"ticks\":\"\",\"zerolinecolor\":\"white\",\"gridwidth\":2},\"yaxis\":{\"backgroundcolor\":\"#E5ECF6\",\"gridcolor\":\"white\",\"linecolor\":\"white\",\"showbackground\":true,\"ticks\":\"\",\"zerolinecolor\":\"white\",\"gridwidth\":2},\"zaxis\":{\"backgroundcolor\":\"#E5ECF6\",\"gridcolor\":\"white\",\"linecolor\":\"white\",\"showbackground\":true,\"ticks\":\"\",\"zerolinecolor\":\"white\",\"gridwidth\":2}},\"shapedefaults\":{\"line\":{\"color\":\"#2a3f5f\"}},\"annotationdefaults\":{\"arrowcolor\":\"#2a3f5f\",\"arrowhead\":0,\"arrowwidth\":1},\"geo\":{\"bgcolor\":\"white\",\"landcolor\":\"#E5ECF6\",\"subunitcolor\":\"white\",\"showland\":true,\"showlakes\":true,\"lakecolor\":\"white\"},\"title\":{\"x\":0.05},\"mapbox\":{\"style\":\"light\"}}},\"xaxis\":{\"anchor\":\"y\",\"domain\":[0.0,1.0],\"title\":{\"text\":\"index\"}},\"yaxis\":{\"anchor\":\"x\",\"domain\":[0.0,1.0],\"title\":{\"text\":\"percent of sum of value\"}},\"legend\":{\"title\":{\"text\":\"variable\"},\"tracegroupgap\":0,\"orientation\":\"h\",\"yanchor\":\"bottom\",\"y\":1.02,\"xanchor\":\"left\",\"x\":0},\"margin\":{\"t\":60},\"barmode\":\"group\",\"width\":2000},                        {\"responsive\": true}                    ).then(function(){\n",
       "                            \n",
       "var gd = document.getElementById('de458291-8b5d-41dd-ac3e-dfea6fef85b7');\n",
       "var x = new MutationObserver(function (mutations, observer) {{\n",
       "        var display = window.getComputedStyle(gd).display;\n",
       "        if (!display || display === 'none') {{\n",
       "            console.log([gd, 'removed!']);\n",
       "            Plotly.purge(gd);\n",
       "            observer.disconnect();\n",
       "        }}\n",
       "}});\n",
       "\n",
       "// Listen for the removal of the full notebook cells\n",
       "var notebookContainer = gd.closest('#notebook-container');\n",
       "if (notebookContainer) {{\n",
       "    x.observe(notebookContainer, {childList: true});\n",
       "}}\n",
       "\n",
       "// Listen for the clearing of the current output cell\n",
       "var outputEl = gd.closest('.output');\n",
       "if (outputEl) {{\n",
       "    x.observe(outputEl, {childList: true});\n",
       "}}\n",
       "\n",
       "                        })                };                });            </script>        </div>"
      ]
     },
     "metadata": {},
     "output_type": "display_data"
    }
   ],
   "source": [
    "sum_groups_histogram(percent=True, width=2000)"
   ]
  },
  {
   "cell_type": "code",
   "execution_count": null,
   "id": "f1a4b22a",
   "metadata": {},
   "outputs": [],
   "source": []
  }
 ],
 "metadata": {
  "kernelspec": {
   "display_name": "Python 3 (ipykernel)",
   "language": "python",
   "name": "python3"
  },
  "language_info": {
   "codemirror_mode": {
    "name": "ipython",
    "version": 3
   },
   "file_extension": ".py",
   "mimetype": "text/x-python",
   "name": "python",
   "nbconvert_exporter": "python",
   "pygments_lexer": "ipython3",
   "version": "3.10.9"
  }
 },
 "nbformat": 4,
 "nbformat_minor": 5
}
