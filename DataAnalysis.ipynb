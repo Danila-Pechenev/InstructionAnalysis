{
 "cells": [
  {
   "cell_type": "markdown",
   "id": "6880e8a1",
   "metadata": {},
   "source": [
    "### Import necessary modules"
   ]
  },
  {
   "cell_type": "code",
   "execution_count": 1,
   "id": "ce1c4fa5",
   "metadata": {},
   "outputs": [],
   "source": [
    "import os\n",
    "import zipfile\n",
    "import pandas as pd\n",
    "from IPython.display import display"
   ]
  },
  {
   "cell_type": "markdown",
   "id": "2fd6e6e9",
   "metadata": {},
   "source": [
    "### Important constants (expected from user)"
   ]
  },
  {
   "cell_type": "code",
   "execution_count": 2,
   "id": "f17afcf3",
   "metadata": {},
   "outputs": [],
   "source": [
    "DATA_DIR = \"firefox_data\""
   ]
  },
  {
   "cell_type": "markdown",
   "id": "4c87d9d7",
   "metadata": {},
   "source": [
    "### Unpack archives and get tables"
   ]
  },
  {
   "cell_type": "code",
   "execution_count": 3,
   "id": "f7c499d9",
   "metadata": {},
   "outputs": [],
   "source": [
    "FILES_DIR = f\"{DATA_DIR}_files\""
   ]
  },
  {
   "cell_type": "code",
   "execution_count": 4,
   "id": "37e753c3",
   "metadata": {},
   "outputs": [],
   "source": [
    "DFS = dict()\n",
    "for archive in os.listdir(DATA_DIR):\n",
    "    path = os.path.join(DATA_DIR, archive)\n",
    "    with zipfile.ZipFile(path, 'r') as zip_ref:\n",
    "        zip_ref.extractall(FILES_DIR)\n",
    "    DFS[archive.split('_')[0]] = pd.read_csv(f\"{os.path.join(FILES_DIR, archive)[:-3]}csv\")"
   ]
  },
  {
   "cell_type": "markdown",
   "id": "b9b8fc76",
   "metadata": {},
   "source": [
    "### Define utility functions"
   ]
  },
  {
   "cell_type": "code",
   "execution_count": 31,
   "id": "35fe2877",
   "metadata": {},
   "outputs": [],
   "source": [
    "# Key is usually OS\n",
    "# Function is able to work with the beginning of a key\n",
    "def head(\n",
    "    key: str, number_of_rows: int=5,\n",
    "    show: bool=False\n",
    "):\n",
    "    for df_key in DFS:\n",
    "        if df_key.startswith(key):\n",
    "            df_head = DFS[df_key].head(number_of_rows)\n",
    "            if show:\n",
    "                display(df_head)\n",
    "            return df_head"
   ]
  },
  {
   "cell_type": "code",
   "execution_count": 45,
   "id": "236b62ce",
   "metadata": {},
   "outputs": [],
   "source": [
    "# Function is able to work with the beginning of a key\n",
    "# If keys == None, all keys will be used\n",
    "def find_instruction(\n",
    "    instruction: str,\n",
    "    keys: None|list[str]=None,\n",
    "    only_filenames: bool=True,\n",
    "    show: bool=False,\n",
    "    number_of_rows_to_show: int=5\n",
    "):\n",
    "    if keys is None:\n",
    "        keys = list(DFS)\n",
    "    tables = dict()\n",
    "    for key in keys:\n",
    "        for df_key in DFS:\n",
    "            if df_key.startswith(key):\n",
    "                try:\n",
    "                    table = DFS[df_key][DFS[df_key][instruction] != 0]\n",
    "                    if only_filenames:\n",
    "                        table = list(table.filename)\n",
    "                    tables[df_key] = table\n",
    "                except KeyError:\n",
    "                    tables[df_key] = None\n",
    "    if show:\n",
    "        for key in tables:\n",
    "            print(f\"{key}:\")\n",
    "            if tables[key] is None:\n",
    "                continue\n",
    "            if only_filenames:\n",
    "                for filename in tables[key]:\n",
    "                    print(f\"\\t{filename}\")\n",
    "            else:\n",
    "                display(tables[key].head(number_of_rows_to_show))\n",
    "            print()\n",
    "            \n",
    "    return tables"
   ]
  },
  {
   "cell_type": "code",
   "execution_count": null,
   "id": "c2cc87d8",
   "metadata": {},
   "outputs": [],
   "source": []
  }
 ],
 "metadata": {
  "kernelspec": {
   "display_name": "Python 3 (ipykernel)",
   "language": "python",
   "name": "python3"
  },
  "language_info": {
   "codemirror_mode": {
    "name": "ipython",
    "version": 3
   },
   "file_extension": ".py",
   "mimetype": "text/x-python",
   "name": "python",
   "nbconvert_exporter": "python",
   "pygments_lexer": "ipython3",
   "version": "3.10.9"
  }
 },
 "nbformat": 4,
 "nbformat_minor": 5
}
