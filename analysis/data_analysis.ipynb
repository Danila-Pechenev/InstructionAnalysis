{
 "cells": [
  {
   "cell_type": "markdown",
   "id": "6880e8a1",
   "metadata": {},
   "source": [
    "### Import necessary modules"
   ]
  },
  {
   "cell_type": "code",
   "execution_count": 45,
   "id": "ce1c4fa5",
   "metadata": {},
   "outputs": [],
   "source": [
    "import os\n",
    "import json\n",
    "import zipfile\n",
    "import pandas as pd\n",
    "import requests\n",
    "from bs4 import BeautifulSoup\n",
    "from IPython.display import display\n",
    "from IPython.display import Javascript"
   ]
  },
  {
   "cell_type": "code",
   "execution_count": 46,
   "id": "f03eea2a",
   "metadata": {},
   "outputs": [
    {
     "data": {
      "text/html": [
       "        <script type=\"text/javascript\">\n",
       "        window.PlotlyConfig = {MathJaxConfig: 'local'};\n",
       "        if (window.MathJax && window.MathJax.Hub && window.MathJax.Hub.Config) {window.MathJax.Hub.Config({SVG: {font: \"STIX-Web\"}});}\n",
       "        if (typeof require !== 'undefined') {\n",
       "        require.undef(\"plotly\");\n",
       "        requirejs.config({\n",
       "            paths: {\n",
       "                'plotly': ['https://cdn.plot.ly/plotly-2.18.2.min']\n",
       "            }\n",
       "        });\n",
       "        require(['plotly'], function(Plotly) {\n",
       "            window._Plotly = Plotly;\n",
       "        });\n",
       "        }\n",
       "        </script>\n",
       "        "
      ]
     },
     "metadata": {},
     "output_type": "display_data"
    }
   ],
   "source": [
    "import plotly.express as px\n",
    "from plotly.offline import init_notebook_mode\n",
    "init_notebook_mode(connected=True) "
   ]
  },
  {
   "cell_type": "markdown",
   "id": "2fd6e6e9",
   "metadata": {},
   "source": [
    "### Important constants (expected from user)"
   ]
  },
  {
   "cell_type": "code",
   "execution_count": 47,
   "id": "f17afcf3",
   "metadata": {},
   "outputs": [],
   "source": [
    "DATA_DIR = \"11.03\"\n",
    "INSTRUCTIONS_INFO_FILE = \"x86-64_instructions.json\""
   ]
  },
  {
   "cell_type": "markdown",
   "id": "4c87d9d7",
   "metadata": {},
   "source": [
    "### Unpack archives and get tables"
   ]
  },
  {
   "cell_type": "code",
   "execution_count": 48,
   "id": "f7c499d9",
   "metadata": {},
   "outputs": [],
   "source": [
    "FILES_DIR = f\"{DATA_DIR}_files\""
   ]
  },
  {
   "cell_type": "code",
   "execution_count": 49,
   "id": "37e753c3",
   "metadata": {},
   "outputs": [],
   "source": [
    "DFS = dict()\n",
    "for archive in os.listdir(DATA_DIR):\n",
    "    path = os.path.join(DATA_DIR, archive)\n",
    "    with zipfile.ZipFile(path, 'r') as zip_ref:\n",
    "        zip_ref.extractall(FILES_DIR)\n",
    "    DFS[archive.split('_')[0]] = pd.read_csv(f\"{os.path.join(FILES_DIR, archive)[:-3]}csv\")"
   ]
  },
  {
   "cell_type": "markdown",
   "id": "60a6be81",
   "metadata": {},
   "source": [
    "### Prepare instructions data"
   ]
  },
  {
   "cell_type": "code",
   "execution_count": 50,
   "id": "a489977b",
   "metadata": {},
   "outputs": [],
   "source": [
    "INSTRUCTION_PAGES = dict()\n",
    "with open(\"x86doc/index.html\") as file:\n",
    "    index_text = BeautifulSoup(file)\n",
    "entries = index_text.find_all(\"a\")[1:]\n",
    "for entry in entries:\n",
    "    INSTRUCTION_PAGES[entry.get_text()] = entry[\"href\"][1:]"
   ]
  },
  {
   "cell_type": "code",
   "execution_count": 51,
   "id": "c8fe6cc4",
   "metadata": {},
   "outputs": [],
   "source": [
    "INSTRUCTIONS_INFO = dict()\n",
    "with open(INSTRUCTIONS_INFO_FILE, \"r\") as read_file:\n",
    "    instructions_info = json.load(read_file)[\"instructions\"]\n",
    "for item in instructions_info:\n",
    "    INSTRUCTIONS_INFO[item[\"instruction\"]] = {\"category\": item[\"category\"],\n",
    "                                              \"group\": item[\"group\"],\n",
    "                                              \"description\": item[\"description\"]}"
   ]
  },
  {
   "cell_type": "markdown",
   "id": "b9b8fc76",
   "metadata": {},
   "source": [
    "### Define utility functions"
   ]
  },
  {
   "cell_type": "markdown",
   "id": "b1ef8b6f",
   "metadata": {},
   "source": [
    "Comments:\n",
    "* All functions are able to work with the beginning of a key\n",
    "* Key is usially OS"
   ]
  },
  {
   "cell_type": "code",
   "execution_count": 52,
   "id": "ae447d82",
   "metadata": {},
   "outputs": [],
   "source": [
    "def add_dataframe(\n",
    "    name: str,\n",
    "    dataframe: pd.DataFrame\n",
    "):\n",
    "    DFS[name] = dataframe"
   ]
  },
  {
   "cell_type": "code",
   "execution_count": 53,
   "id": "03019858",
   "metadata": {},
   "outputs": [],
   "source": [
    "def get_dataframe(\n",
    "    key: str\n",
    "):\n",
    "    for df_key in DFS:\n",
    "        if df_key.startswith(key):\n",
    "            if key in DFS and df_key != key:\n",
    "                continue\n",
    "            return DFS[df_key]"
   ]
  },
  {
   "cell_type": "code",
   "execution_count": 54,
   "id": "cb7c2e24",
   "metadata": {},
   "outputs": [],
   "source": [
    "def remove_dataframe(\n",
    "    key: str\n",
    "):\n",
    "    for df_key in DFS:\n",
    "        if df_key.startswith(key):\n",
    "            if key in DFS and df_key != key:\n",
    "                continue\n",
    "            DFS.pop(df_key)\n",
    "            return"
   ]
  },
  {
   "cell_type": "code",
   "execution_count": 55,
   "id": "35b3c4a0",
   "metadata": {},
   "outputs": [],
   "source": [
    "def remove_filename_column(\n",
    "    key: str,\n",
    "    show: bool=False,\n",
    "    number_of_rows_to_show: int=5\n",
    "):\n",
    "    for df_key in DFS:\n",
    "        if df_key.startswith(key):\n",
    "            if key in DFS and df_key != key:\n",
    "                continue\n",
    "            df = DFS[df_key].drop(\"filename\", axis=1)\n",
    "            if show:\n",
    "                display(df.head(number_of_rows_to_show))\n",
    "            return df"
   ]
  },
  {
   "cell_type": "code",
   "execution_count": 56,
   "id": "35fe2877",
   "metadata": {},
   "outputs": [],
   "source": [
    "def head(\n",
    "    key: str,\n",
    "    number_of_rows: int=5,\n",
    "    show: bool=False\n",
    "):\n",
    "    for df_key in DFS:\n",
    "        if df_key.startswith(key):\n",
    "            if key in DFS and df_key != key:\n",
    "                continue\n",
    "            df_head = DFS[df_key].head(number_of_rows)\n",
    "            if show:\n",
    "                print(f\"{df_key}:\")\n",
    "                display(df_head)\n",
    "            return df_head"
   ]
  },
  {
   "cell_type": "code",
   "execution_count": 57,
   "id": "236b62ce",
   "metadata": {},
   "outputs": [],
   "source": [
    "# If keys == None, all keys will be used\n",
    "def find_instruction(\n",
    "    instruction: str,\n",
    "    keys: None|list[str]=None,\n",
    "    only_filenames: bool=True,\n",
    "    show: bool=False,\n",
    "    number_of_rows_to_show: int=5\n",
    "):\n",
    "    if keys is None:\n",
    "        keys = list(DFS)\n",
    "    tables = dict()\n",
    "    for key in keys:\n",
    "        for df_key in DFS:\n",
    "            if df_key.startswith(key):\n",
    "                if key in DFS and df_key != key:\n",
    "                    continue\n",
    "                try:\n",
    "                    table = DFS[df_key][DFS[df_key][instruction] != 0]\n",
    "                    if only_filenames:\n",
    "                        table = list(table.filename)\n",
    "                    tables[df_key] = table\n",
    "                except KeyError:\n",
    "                    tables[df_key] = None\n",
    "    if show:\n",
    "        for key in tables:\n",
    "            print(f\"{key}:\")\n",
    "            if tables[key] is None:\n",
    "                continue\n",
    "            if only_filenames:\n",
    "                for filename in tables[key]:\n",
    "                    print(f\"\\t{filename}\")\n",
    "            else:\n",
    "                display(tables[key].head(number_of_rows_to_show))\n",
    "            print()\n",
    "            \n",
    "    return tables"
   ]
  },
  {
   "cell_type": "code",
   "execution_count": 58,
   "id": "e03e3326",
   "metadata": {},
   "outputs": [],
   "source": [
    "def what_is_instruction(\n",
    "    instruction: str\n",
    "):\n",
    "    try:\n",
    "        path = f\"x86doc{INSTRUCTION_PAGES[instruction.upper()]}\"\n",
    "        display(Javascript('window.open(\"{url}\");'.format(url=path)))\n",
    "    except:\n",
    "        print(\"Instruction is not found.\")"
   ]
  },
  {
   "cell_type": "code",
   "execution_count": 59,
   "id": "86a4f4a3",
   "metadata": {},
   "outputs": [],
   "source": [
    "# Use this function, for example, to leave only files existing in a particular directory\n",
    "def files_starting_with(\n",
    "    key: str,\n",
    "    beginning: str,\n",
    "    show: bool=False,\n",
    "    number_of_rows_to_show: int=5\n",
    "):\n",
    "    for df_key in DFS:\n",
    "        if df_key.startswith(key):\n",
    "            if key in DFS and df_key != key:\n",
    "                continue\n",
    "            df = DFS[df_key].set_index(\"filename\")\n",
    "            df = df.loc[[i for i in df.index if i.startswith(beginning)]]\n",
    "            df.insert(0, \"filename\", df.index)\n",
    "            df = df.set_index(pd.Index(i for i in range(len(df))))\n",
    "            if show:\n",
    "                display(df.head(number_of_rows_to_show))\n",
    "            return df"
   ]
  },
  {
   "cell_type": "code",
   "execution_count": 60,
   "id": "5d1471b6",
   "metadata": {},
   "outputs": [],
   "source": [
    "# Use this function, for example, to leave only row related to a particular executable file\n",
    "def files_containing(\n",
    "    key: str,\n",
    "    substring: str,\n",
    "    show: bool=False,\n",
    "    number_of_rows_to_show: int=5\n",
    "):\n",
    "    for df_key in DFS:\n",
    "        if df_key.startswith(key):\n",
    "            if key in DFS and df_key != key:\n",
    "                continue\n",
    "            df = DFS[df_key].set_index(\"filename\")\n",
    "            df = df.loc[[i for i in df.index if substring in i]]\n",
    "            df.insert(0, \"filename\", df.index)\n",
    "            df = df.set_index(pd.Index(i for i in range(len(df))))\n",
    "            if show:\n",
    "                display(df.head(number_of_rows_to_show))\n",
    "            return df"
   ]
  },
  {
   "cell_type": "code",
   "execution_count": 61,
   "id": "31e89351",
   "metadata": {},
   "outputs": [],
   "source": [
    "def total_instruction_usage(\n",
    "    key: str,\n",
    "    to_dict: bool=False,\n",
    "    show: bool=False,\n",
    "):\n",
    "    for df_key in DFS:\n",
    "        if df_key.startswith(key):\n",
    "            if key in DFS and df_key != key:\n",
    "                continue\n",
    "            df = remove_filename_column(df_key)\n",
    "            total = df.sum()\n",
    "            total_dict = dict(total)\n",
    "            if show:\n",
    "                for instruction in total_dict:\n",
    "                    print(f\"{instruction}: {total_dict[instruction]}\")\n",
    "            if to_dict:\n",
    "                return total_dict\n",
    "            return total"
   ]
  },
  {
   "cell_type": "code",
   "execution_count": 62,
   "id": "de7da381",
   "metadata": {},
   "outputs": [],
   "source": [
    "def divide_into_categories(\n",
    "    key: str,\n",
    "    show: bool=False,\n",
    "    number_of_rows_to_show: int=5\n",
    "):\n",
    "    for df_key in DFS:\n",
    "        if df_key.startswith(key):\n",
    "            if key in DFS and df_key != key:\n",
    "                continue\n",
    "            df = DFS[df_key].copy()\n",
    "            columns = list(df.columns)\n",
    "            for column in columns:\n",
    "                column_upper = column.upper()\n",
    "                if column == \"filename\":\n",
    "                    continue\n",
    "                if column_upper in INSTRUCTIONS_INFO:\n",
    "                    category = INSTRUCTIONS_INFO[column_upper][\"category\"]\n",
    "                elif column_upper[:-1] in INSTRUCTIONS_INFO:\n",
    "                    category = INSTRUCTIONS_INFO[column_upper[:-1]][\"category\"]\n",
    "                else:\n",
    "                    category = \"Other\"\n",
    "                if category not in df.columns:\n",
    "                    df[category] = df[column]\n",
    "                else:\n",
    "                    df[category] += df[column]\n",
    "                df.drop(column, axis=1, inplace=True)\n",
    "            if show:\n",
    "                display(df.head(number_of_rows_to_show))\n",
    "            return df"
   ]
  },
  {
   "cell_type": "code",
   "execution_count": 63,
   "id": "ca079dc2",
   "metadata": {},
   "outputs": [],
   "source": [
    "def divide_into_groups(\n",
    "    key: str,\n",
    "    show: bool=False,\n",
    "    number_of_rows_to_show: int=5\n",
    "):\n",
    "    for df_key in DFS:\n",
    "        if df_key.startswith(key):\n",
    "            if key in DFS and df_key != key:\n",
    "                continue\n",
    "            df = DFS[df_key].copy()\n",
    "            columns = list(df.columns)\n",
    "            for column in columns:\n",
    "                column_upper = column.upper()\n",
    "                if column == \"filename\":\n",
    "                    continue\n",
    "                if column_upper in INSTRUCTIONS_INFO:\n",
    "                    group = INSTRUCTIONS_INFO[column_upper][\"group\"]\n",
    "                elif column_upper[:-1] in INSTRUCTIONS_INFO:\n",
    "                    group = INSTRUCTIONS_INFO[column_upper[:-1]][\"group\"]\n",
    "                else:\n",
    "                    group = \"Other\"\n",
    "                if group not in df.columns:\n",
    "                    df[group] = df[column]\n",
    "                else:\n",
    "                    df[group] += df[column]\n",
    "                df.drop(column, axis=1, inplace=True)\n",
    "            if show:\n",
    "                display(df.head(number_of_rows_to_show))\n",
    "            return df"
   ]
  },
  {
   "cell_type": "code",
   "execution_count": 64,
   "id": "7e681535",
   "metadata": {},
   "outputs": [],
   "source": [
    "# If keys == None, all keys will be used\n",
    "def sum_histogram(\n",
    "    keys: list[str]|None=None,\n",
    "    percent: bool=False,\n",
    "    ascending: bool=False,\n",
    "    width: int=30000\n",
    "):\n",
    "    if keys is None:\n",
    "        keys = list(DFS)\n",
    "    dfs_for_histogram = dict()\n",
    "    for key in keys:\n",
    "        for df_key in DFS:\n",
    "            if df_key.startswith(key):\n",
    "                if key in DFS and df_key != key:\n",
    "                    continue\n",
    "                df = remove_filename_column(df_key)\n",
    "                dfs_for_histogram[df_key] = pd.DataFrame(df.sum(axis=0), columns=[df_key])\n",
    "    sums = pd.concat(dfs_for_histogram.values(), join='outer', axis=1).fillna(0).astype(int)\n",
    "    sums['sum'] = sums.sum(axis=1)\n",
    "    sums.sort_values(by=['sum'], ascending=ascending, inplace=True)\n",
    "    sums.drop(\"sum\", axis=1, inplace=True)\n",
    "    if percent:\n",
    "        fig = px.histogram(sums, x=sums.index, y=sums.columns, barmode='group', histnorm='percent', width=width)\n",
    "    else:\n",
    "        fig = px.histogram(sums, x=sums.index, y=sums.columns, barmode='group', width=width)\n",
    "    fig.update_layout(legend=dict(\n",
    "        orientation=\"h\",\n",
    "        yanchor=\"bottom\",\n",
    "        y=1.02,\n",
    "        xanchor=\"left\",\n",
    "        x=0\n",
    "    ))\n",
    "    display(fig)"
   ]
  },
  {
   "cell_type": "code",
   "execution_count": 65,
   "id": "9ab1d74b",
   "metadata": {},
   "outputs": [],
   "source": [
    "# If keys == None, all keys will be used\n",
    "def sum_categories_histogram(\n",
    "    keys: list[str]|None=None,\n",
    "    save_dfs: bool=False,\n",
    "    percent: bool=False,\n",
    "    ascending: bool=False,\n",
    "    width: int=30000\n",
    "):\n",
    "    if keys is None:\n",
    "        keys = list(DFS)\n",
    "    cat_keys = []\n",
    "    for key in keys:\n",
    "        cat_key = f\"{key}_categories\"\n",
    "        cat_keys.append(cat_key)\n",
    "        add_dataframe(cat_key, divide_into_categories(key))\n",
    "    sum_histogram(keys=cat_keys, percent=percent, ascending=ascending, width=width)\n",
    "    if not save_dfs:\n",
    "        for cat_key in cat_keys:\n",
    "            remove_dataframe(cat_key)"
   ]
  },
  {
   "cell_type": "code",
   "execution_count": 66,
   "id": "f8963417",
   "metadata": {},
   "outputs": [],
   "source": [
    "# If keys == None, all keys will be used\n",
    "def sum_groups_histogram(\n",
    "    keys: list[str]|None=None,\n",
    "    save_dfs: bool=False,\n",
    "    percent: bool=False,\n",
    "    ascending: bool=False,\n",
    "    width: int=30000\n",
    "):\n",
    "    if keys is None:\n",
    "        keys = list(DFS)\n",
    "    group_keys = []\n",
    "    for key in keys:\n",
    "        group_key = f\"{key}_groups\"\n",
    "        group_keys.append(group_key)\n",
    "        add_dataframe(group_key, divide_into_groups(key))\n",
    "    sum_histogram(keys=group_keys, percent=percent, ascending=ascending, width=width)\n",
    "    if not save_dfs:\n",
    "        for group_key in group_keys:\n",
    "            remove_dataframe(group_key)"
   ]
  },
  {
   "cell_type": "markdown",
   "id": "18a6996d",
   "metadata": {},
   "source": [
    "### Experiments"
   ]
  },
  {
   "cell_type": "code",
   "execution_count": 29,
   "id": "b5088bad",
   "metadata": {},
   "outputs": [
    {
     "data": {
      "text/html": [
       "<div>\n",
       "<style scoped>\n",
       "    .dataframe tbody tr th:only-of-type {\n",
       "        vertical-align: middle;\n",
       "    }\n",
       "\n",
       "    .dataframe tbody tr th {\n",
       "        vertical-align: top;\n",
       "    }\n",
       "\n",
       "    .dataframe thead th {\n",
       "        text-align: right;\n",
       "    }\n",
       "</style>\n",
       "<table border=\"1\" class=\"dataframe\">\n",
       "  <thead>\n",
       "    <tr style=\"text-align: right;\">\n",
       "      <th></th>\n",
       "      <th>filename</th>\n",
       "      <th>endbr64</th>\n",
       "      <th>sub</th>\n",
       "      <th>test</th>\n",
       "      <th>call</th>\n",
       "      <th>add</th>\n",
       "      <th>ret</th>\n",
       "      <th>cs</th>\n",
       "      <th>push</th>\n",
       "      <th>mov</th>\n",
       "      <th>...</th>\n",
       "      <th>vcmpltpd</th>\n",
       "      <th>vcmplepd</th>\n",
       "      <th>vpcmpleuw</th>\n",
       "      <th>vpcmpnleb</th>\n",
       "      <th>vpcmpltb</th>\n",
       "      <th>vpcmpleb</th>\n",
       "      <th>vpmovsdb</th>\n",
       "      <th>vpmovsqb</th>\n",
       "      <th>vcvtsi2sdq</th>\n",
       "      <th>vfnmaddss</th>\n",
       "    </tr>\n",
       "  </thead>\n",
       "  <tbody>\n",
       "    <tr>\n",
       "      <th>833</th>\n",
       "      <td>/usr/lib/libgcrypt.so</td>\n",
       "      <td>980</td>\n",
       "      <td>2875</td>\n",
       "      <td>5248</td>\n",
       "      <td>8392</td>\n",
       "      <td>12465</td>\n",
       "      <td>1439</td>\n",
       "      <td>307</td>\n",
       "      <td>3634</td>\n",
       "      <td>52170</td>\n",
       "      <td>...</td>\n",
       "      <td>0</td>\n",
       "      <td>0</td>\n",
       "      <td>0</td>\n",
       "      <td>0</td>\n",
       "      <td>0</td>\n",
       "      <td>0</td>\n",
       "      <td>0</td>\n",
       "      <td>0</td>\n",
       "      <td>0</td>\n",
       "      <td>0</td>\n",
       "    </tr>\n",
       "    <tr>\n",
       "      <th>849</th>\n",
       "      <td>/usr/lib/libgcrypt.so.20.4.1</td>\n",
       "      <td>980</td>\n",
       "      <td>2875</td>\n",
       "      <td>5248</td>\n",
       "      <td>8392</td>\n",
       "      <td>12465</td>\n",
       "      <td>1439</td>\n",
       "      <td>307</td>\n",
       "      <td>3634</td>\n",
       "      <td>52170</td>\n",
       "      <td>...</td>\n",
       "      <td>0</td>\n",
       "      <td>0</td>\n",
       "      <td>0</td>\n",
       "      <td>0</td>\n",
       "      <td>0</td>\n",
       "      <td>0</td>\n",
       "      <td>0</td>\n",
       "      <td>0</td>\n",
       "      <td>0</td>\n",
       "      <td>0</td>\n",
       "    </tr>\n",
       "    <tr>\n",
       "      <th>850</th>\n",
       "      <td>/usr/lib/libgnutls.so.30.34.3</td>\n",
       "      <td>2200</td>\n",
       "      <td>4152</td>\n",
       "      <td>11691</td>\n",
       "      <td>19461</td>\n",
       "      <td>7623</td>\n",
       "      <td>2732</td>\n",
       "      <td>848</td>\n",
       "      <td>6985</td>\n",
       "      <td>88001</td>\n",
       "      <td>...</td>\n",
       "      <td>0</td>\n",
       "      <td>0</td>\n",
       "      <td>0</td>\n",
       "      <td>0</td>\n",
       "      <td>0</td>\n",
       "      <td>0</td>\n",
       "      <td>0</td>\n",
       "      <td>0</td>\n",
       "      <td>0</td>\n",
       "      <td>0</td>\n",
       "    </tr>\n",
       "    <tr>\n",
       "      <th>942</th>\n",
       "      <td>/usr/lib/libcrypto.so</td>\n",
       "      <td>9127</td>\n",
       "      <td>11322</td>\n",
       "      <td>28552</td>\n",
       "      <td>9243</td>\n",
       "      <td>22427</td>\n",
       "      <td>10704</td>\n",
       "      <td>1933</td>\n",
       "      <td>22548</td>\n",
       "      <td>171721</td>\n",
       "      <td>...</td>\n",
       "      <td>0</td>\n",
       "      <td>0</td>\n",
       "      <td>0</td>\n",
       "      <td>0</td>\n",
       "      <td>0</td>\n",
       "      <td>0</td>\n",
       "      <td>0</td>\n",
       "      <td>0</td>\n",
       "      <td>0</td>\n",
       "      <td>0</td>\n",
       "    </tr>\n",
       "    <tr>\n",
       "      <th>2449</th>\n",
       "      <td>/usr/lib/chromium/chrome_crashpad_handler</td>\n",
       "      <td>6</td>\n",
       "      <td>3467</td>\n",
       "      <td>7451</td>\n",
       "      <td>8242</td>\n",
       "      <td>7807</td>\n",
       "      <td>2302</td>\n",
       "      <td>63</td>\n",
       "      <td>10791</td>\n",
       "      <td>66726</td>\n",
       "      <td>...</td>\n",
       "      <td>0</td>\n",
       "      <td>0</td>\n",
       "      <td>0</td>\n",
       "      <td>0</td>\n",
       "      <td>0</td>\n",
       "      <td>0</td>\n",
       "      <td>0</td>\n",
       "      <td>0</td>\n",
       "      <td>0</td>\n",
       "      <td>0</td>\n",
       "    </tr>\n",
       "    <tr>\n",
       "      <th>2450</th>\n",
       "      <td>/usr/lib/chromium/chromium</td>\n",
       "      <td>7</td>\n",
       "      <td>658584</td>\n",
       "      <td>1696574</td>\n",
       "      <td>1906313</td>\n",
       "      <td>1411518</td>\n",
       "      <td>366475</td>\n",
       "      <td>992</td>\n",
       "      <td>1847830</td>\n",
       "      <td>14425089</td>\n",
       "      <td>...</td>\n",
       "      <td>0</td>\n",
       "      <td>0</td>\n",
       "      <td>0</td>\n",
       "      <td>0</td>\n",
       "      <td>0</td>\n",
       "      <td>0</td>\n",
       "      <td>0</td>\n",
       "      <td>0</td>\n",
       "      <td>0</td>\n",
       "      <td>0</td>\n",
       "    </tr>\n",
       "    <tr>\n",
       "      <th>3069</th>\n",
       "      <td>/usr/bin/chromedriver</td>\n",
       "      <td>6</td>\n",
       "      <td>32367</td>\n",
       "      <td>84985</td>\n",
       "      <td>92257</td>\n",
       "      <td>72691</td>\n",
       "      <td>24310</td>\n",
       "      <td>228</td>\n",
       "      <td>114895</td>\n",
       "      <td>800113</td>\n",
       "      <td>...</td>\n",
       "      <td>0</td>\n",
       "      <td>0</td>\n",
       "      <td>0</td>\n",
       "      <td>0</td>\n",
       "      <td>0</td>\n",
       "      <td>0</td>\n",
       "      <td>0</td>\n",
       "      <td>0</td>\n",
       "      <td>0</td>\n",
       "      <td>0</td>\n",
       "    </tr>\n",
       "    <tr>\n",
       "      <th>3217</th>\n",
       "      <td>/usr/lib/libcrypto.so.3</td>\n",
       "      <td>9127</td>\n",
       "      <td>11322</td>\n",
       "      <td>28552</td>\n",
       "      <td>9243</td>\n",
       "      <td>22427</td>\n",
       "      <td>10704</td>\n",
       "      <td>1933</td>\n",
       "      <td>22548</td>\n",
       "      <td>171721</td>\n",
       "      <td>...</td>\n",
       "      <td>0</td>\n",
       "      <td>0</td>\n",
       "      <td>0</td>\n",
       "      <td>0</td>\n",
       "      <td>0</td>\n",
       "      <td>0</td>\n",
       "      <td>0</td>\n",
       "      <td>0</td>\n",
       "      <td>0</td>\n",
       "      <td>0</td>\n",
       "    </tr>\n",
       "    <tr>\n",
       "      <th>3254</th>\n",
       "      <td>/usr/lib/libgnutls.so</td>\n",
       "      <td>2200</td>\n",
       "      <td>4152</td>\n",
       "      <td>11691</td>\n",
       "      <td>19461</td>\n",
       "      <td>7623</td>\n",
       "      <td>2732</td>\n",
       "      <td>848</td>\n",
       "      <td>6985</td>\n",
       "      <td>88001</td>\n",
       "      <td>...</td>\n",
       "      <td>0</td>\n",
       "      <td>0</td>\n",
       "      <td>0</td>\n",
       "      <td>0</td>\n",
       "      <td>0</td>\n",
       "      <td>0</td>\n",
       "      <td>0</td>\n",
       "      <td>0</td>\n",
       "      <td>0</td>\n",
       "      <td>0</td>\n",
       "    </tr>\n",
       "    <tr>\n",
       "      <th>3309</th>\n",
       "      <td>/usr/lib/libgnutls.so.30</td>\n",
       "      <td>2200</td>\n",
       "      <td>4152</td>\n",
       "      <td>11691</td>\n",
       "      <td>19461</td>\n",
       "      <td>7623</td>\n",
       "      <td>2732</td>\n",
       "      <td>848</td>\n",
       "      <td>6985</td>\n",
       "      <td>88001</td>\n",
       "      <td>...</td>\n",
       "      <td>0</td>\n",
       "      <td>0</td>\n",
       "      <td>0</td>\n",
       "      <td>0</td>\n",
       "      <td>0</td>\n",
       "      <td>0</td>\n",
       "      <td>0</td>\n",
       "      <td>0</td>\n",
       "      <td>0</td>\n",
       "      <td>0</td>\n",
       "    </tr>\n",
       "    <tr>\n",
       "      <th>3439</th>\n",
       "      <td>/usr/lib/libgcrypt.so.20</td>\n",
       "      <td>980</td>\n",
       "      <td>2875</td>\n",
       "      <td>5248</td>\n",
       "      <td>8392</td>\n",
       "      <td>12465</td>\n",
       "      <td>1439</td>\n",
       "      <td>307</td>\n",
       "      <td>3634</td>\n",
       "      <td>52170</td>\n",
       "      <td>...</td>\n",
       "      <td>0</td>\n",
       "      <td>0</td>\n",
       "      <td>0</td>\n",
       "      <td>0</td>\n",
       "      <td>0</td>\n",
       "      <td>0</td>\n",
       "      <td>0</td>\n",
       "      <td>0</td>\n",
       "      <td>0</td>\n",
       "      <td>0</td>\n",
       "    </tr>\n",
       "  </tbody>\n",
       "</table>\n",
       "<p>11 rows × 1451 columns</p>\n",
       "</div>"
      ],
      "text/plain": [
       "                                       filename  endbr64     sub     test  \\\n",
       "833                       /usr/lib/libgcrypt.so      980    2875     5248   \n",
       "849                /usr/lib/libgcrypt.so.20.4.1      980    2875     5248   \n",
       "850               /usr/lib/libgnutls.so.30.34.3     2200    4152    11691   \n",
       "942                       /usr/lib/libcrypto.so     9127   11322    28552   \n",
       "2449  /usr/lib/chromium/chrome_crashpad_handler        6    3467     7451   \n",
       "2450                 /usr/lib/chromium/chromium        7  658584  1696574   \n",
       "3069                      /usr/bin/chromedriver        6   32367    84985   \n",
       "3217                    /usr/lib/libcrypto.so.3     9127   11322    28552   \n",
       "3254                      /usr/lib/libgnutls.so     2200    4152    11691   \n",
       "3309                   /usr/lib/libgnutls.so.30     2200    4152    11691   \n",
       "3439                   /usr/lib/libgcrypt.so.20      980    2875     5248   \n",
       "\n",
       "         call      add     ret    cs     push       mov  ...  vcmpltpd  \\\n",
       "833      8392    12465    1439   307     3634     52170  ...         0   \n",
       "849      8392    12465    1439   307     3634     52170  ...         0   \n",
       "850     19461     7623    2732   848     6985     88001  ...         0   \n",
       "942      9243    22427   10704  1933    22548    171721  ...         0   \n",
       "2449     8242     7807    2302    63    10791     66726  ...         0   \n",
       "2450  1906313  1411518  366475   992  1847830  14425089  ...         0   \n",
       "3069    92257    72691   24310   228   114895    800113  ...         0   \n",
       "3217     9243    22427   10704  1933    22548    171721  ...         0   \n",
       "3254    19461     7623    2732   848     6985     88001  ...         0   \n",
       "3309    19461     7623    2732   848     6985     88001  ...         0   \n",
       "3439     8392    12465    1439   307     3634     52170  ...         0   \n",
       "\n",
       "      vcmplepd  vpcmpleuw  vpcmpnleb  vpcmpltb  vpcmpleb  vpmovsdb  vpmovsqb  \\\n",
       "833          0          0          0         0         0         0         0   \n",
       "849          0          0          0         0         0         0         0   \n",
       "850          0          0          0         0         0         0         0   \n",
       "942          0          0          0         0         0         0         0   \n",
       "2449         0          0          0         0         0         0         0   \n",
       "2450         0          0          0         0         0         0         0   \n",
       "3069         0          0          0         0         0         0         0   \n",
       "3217         0          0          0         0         0         0         0   \n",
       "3254         0          0          0         0         0         0         0   \n",
       "3309         0          0          0         0         0         0         0   \n",
       "3439         0          0          0         0         0         0         0   \n",
       "\n",
       "      vcvtsi2sdq  vfnmaddss  \n",
       "833            0          0  \n",
       "849            0          0  \n",
       "850            0          0  \n",
       "942            0          0  \n",
       "2449           0          0  \n",
       "2450           0          0  \n",
       "3069           0          0  \n",
       "3217           0          0  \n",
       "3254           0          0  \n",
       "3309           0          0  \n",
       "3439           0          0  \n",
       "\n",
       "[11 rows x 1451 columns]"
      ]
     },
     "execution_count": 29,
     "metadata": {},
     "output_type": "execute_result"
    }
   ],
   "source": [
    "DFS['manjaro'][DFS['manjaro']['rex.X'] != 0]"
   ]
  },
  {
   "cell_type": "code",
   "execution_count": 27,
   "id": "59133c5c",
   "metadata": {},
   "outputs": [],
   "source": [
    "add_dataframe(\"man_cat\", divide_into_categories(\"m\"))"
   ]
  },
  {
   "cell_type": "code",
   "execution_count": 62,
   "id": "a6658dc7",
   "metadata": {
    "scrolled": true
   },
   "outputs": [],
   "source": [
    "tmp = head(\"man_cat\")"
   ]
  },
  {
   "cell_type": "code",
   "execution_count": 63,
   "id": "89a45f52",
   "metadata": {},
   "outputs": [],
   "source": [
    "tmp = tmp.set_index(\"filename\")\n",
    "tmp = tmp.loc[list(set(tmp.index))]\n",
    "tmp.insert(0, \"filename\", tmp.index)\n",
    "tmp = tmp.set_index(pd.Index(i for i in range(len(tmp))))"
   ]
  },
  {
   "cell_type": "code",
   "execution_count": 65,
   "id": "b3557386",
   "metadata": {},
   "outputs": [
    {
     "data": {
      "text/html": [
       "<div>\n",
       "<style scoped>\n",
       "    .dataframe tbody tr th:only-of-type {\n",
       "        vertical-align: middle;\n",
       "    }\n",
       "\n",
       "    .dataframe tbody tr th {\n",
       "        vertical-align: top;\n",
       "    }\n",
       "\n",
       "    .dataframe thead th {\n",
       "        text-align: right;\n",
       "    }\n",
       "</style>\n",
       "<table border=\"1\" class=\"dataframe\">\n",
       "  <thead>\n",
       "    <tr style=\"text-align: right;\">\n",
       "      <th></th>\n",
       "      <th>filename</th>\n",
       "      <th>Other</th>\n",
       "      <th>Central Processing Unit (CPU) instructions set</th>\n",
       "      <th>Single Instruction Multiple Data (SIMD) instructions set</th>\n",
       "      <th>Transactional Synchronization Extensions (TSX) instructions set</th>\n",
       "      <th>Floating-Point Unit (FPU) instructions set</th>\n",
       "      <th>Memory Protection Extensions (MPX) instructions set</th>\n",
       "      <th>Advanced Encryption Standard (AES) instructions set</th>\n",
       "      <th>Virtual Machine Extensions (VMX) instructions set</th>\n",
       "    </tr>\n",
       "  </thead>\n",
       "  <tbody>\n",
       "  </tbody>\n",
       "</table>\n",
       "</div>"
      ],
      "text/plain": [
       "Empty DataFrame\n",
       "Columns: [filename, Other, Central Processing Unit (CPU) instructions set, Single Instruction Multiple Data (SIMD) instructions set, Transactional Synchronization Extensions (TSX) instructions set, Floating-Point Unit (FPU) instructions set, Memory Protection Extensions (MPX) instructions set, Advanced Encryption Standard (AES) instructions set, Virtual Machine Extensions (VMX) instructions set]\n",
       "Index: []"
      ]
     },
     "execution_count": 65,
     "metadata": {},
     "output_type": "execute_result"
    }
   ],
   "source": [
    "tmp.loc[[]]"
   ]
  },
  {
   "cell_type": "code",
   "execution_count": 43,
   "id": "67a738d0",
   "metadata": {},
   "outputs": [
    {
     "data": {
      "text/plain": [
       "['/usr/lib/xtables/libipt_realm.so',\n",
       " '/usr/bin/showwal',\n",
       " '/usr/lib/libevent_extra-2.1.so.7.0.1',\n",
       " '/usr/lib/libgdbm.so',\n",
       " '/usr/lib/libavahi-common.so.3',\n",
       " '/usr/lib/libQt5QuickWidgets.so.5',\n",
       " '/usr/lib/libbd_swap.so.2',\n",
       " '/usr/lib/libpamc.so.0.82.1',\n",
       " '/usr/lib/libgstallocators-1.0.so',\n",
       " '/usr/lib/bellagio/libomxaudio_effects.so.0',\n",
       " '/usr/bin/xmlcatalog',\n",
       " '/usr/bin/auditd',\n",
       " '/usr/lib/libts.so.0.10.4',\n",
       " '/usr/lib/libtheoraenc.so.1.1.2',\n",
       " '/usr/lib/qt/plugins/egldeviceintegrations/libqeglfs-kms-egldevice-integration.so',\n",
       " '/usr/bin/kglobalaccel5',\n",
       " '/usr/lib/libip6tc.so',\n",
       " '/usr/lib/libctf-nobfd.so.0.0.0',\n",
       " '/usr/lib/qt/qml/org/kde/sonnet/libsonnetquickplugin.so',\n",
       " '/usr/lib/gconv/ISO_2033.so',\n",
       " '/usr/lib/vlc/plugins/access/librtp_plugin.so',\n",
       " '/usr/bin/amrnb-enc',\n",
       " '/usr/lib/libbytesize.so.1.0.0',\n",
       " '/usr/lib/libuuid.so',\n",
       " '/DataCollection/venv/lib/python3.10/site-packages/pandas/_libs/tslibs/nattype.cpython-310-x86_64-linux-gnu.so',\n",
       " '/usr/lib/libxcb-xtest.so.0',\n",
       " '/usr/lib/libiniparser.so',\n",
       " '/usr/bin/scriptlive',\n",
       " '/usr/lib/libdav1d.so.6',\n",
       " '/usr/lib/libgio-2.0.so.0',\n",
       " '/usr/lib/gconv/IBM850.so',\n",
       " '/usr/bin/woff2_info',\n",
       " '/usr/bin/msgen',\n",
       " '/usr/lib/libidn2.so.0',\n",
       " '/usr/bin/pwck',\n",
       " '/usr/lib/libhidapi-libusb.so.0',\n",
       " '/usr/bin/echo',\n",
       " '/usr/lib/qt/plugins/kf5/urifilters/kshorturifilter.so',\n",
       " '/usr/bin/kreadconfig5',\n",
       " '/usr/lib/libfontconfig.so.1',\n",
       " '/usr/lib/vlc/plugins/stream_filter/libhds_plugin.so',\n",
       " '/usr/lib/vlc/plugins/access/liblibbluray_plugin.so',\n",
       " '/usr/bin/systemd-stdio-bridge',\n",
       " '/usr/lib/perl5/5.36/core_perl/auto/threads/threads.so',\n",
       " '/usr/lib/bash/sync',\n",
       " '/usr/lib/perl5/5.36/core_perl/auto/Devel/Peek/Peek.so',\n",
       " '/usr/lib/systemd/libsystemd-shared-252.5-1.so',\n",
       " '/usr/lib/vlc/plugins/codec/libadpcm_plugin.so',\n",
       " '/usr/bin/e2fsck',\n",
       " '/usr/lib/vlc/plugins/codec/libscte18_plugin.so',\n",
       " '/usr/lib/qt/plugins/platforms/libqwayland-egl.so',\n",
       " '/DataCollection/venv/lib/python3.10/site-packages/numpy/random/_pcg64.cpython-310-x86_64-linux-gnu.so',\n",
       " '/usr/lib/vlc/plugins/control/liboldrc_plugin.so',\n",
       " '/usr/lib/libQt5QuickWidgets.so.5.15.8',\n",
       " '/usr/lib/libargon2.so.1',\n",
       " '/usr/lib/libKF5XmlGui.so',\n",
       " '/usr/bin/msgconv',\n",
       " '/usr/lib/perl5/5.36/core_perl/auto/ODBM_File/ODBM_File.so',\n",
       " '/usr/bin/choom',\n",
       " '/usr/lib/gconv/MAC-IS.so',\n",
       " '/usr/bin/watch',\n",
       " '/usr/bin/thin_dump',\n",
       " '/usr/lib/vlc/plugins/mux/libmux_asf_plugin.so',\n",
       " '/usr/bin/png2pnm',\n",
       " '/usr/lib/libKF5I18nLocaleData.so.5.103.0',\n",
       " '/usr/lib/libQt5Test.so',\n",
       " '/usr/lib/vlc/plugins/keystore/libmemory_keystore_plugin.so',\n",
       " '/usr/lib/libv4l/ov518-decomp',\n",
       " '/usr/lib/libpam.so',\n",
       " '/usr/lib/libunwind-x86_64.so.8.0.1',\n",
       " '/usr/lib/libmenuw.so.6',\n",
       " '/usr/lib/libpcre2-16.so',\n",
       " '/usr/bin/orc-bugreport',\n",
       " '/usr/lib/libQt5QmlModels.so.5',\n",
       " '/usr/bin/chcon',\n",
       " '/usr/lib/libyaml-0.so.2.0.9',\n",
       " '/usr/bin/grpunconv',\n",
       " '/usr/bin/unxz',\n",
       " '/usr/lib/perl5/5.36/core_perl/auto/SDBM_File/SDBM_File.so',\n",
       " '/usr/bin/gtk-query-immodules-3.0',\n",
       " '/usr/bin/iproxy',\n",
       " '/usr/lib/liborc-test-0.4.so.0',\n",
       " '/usr/lib/vlc/plugins/video_filter/libblend_plugin.so',\n",
       " '/usr/lib/xtables/libxt_ipcomp.so',\n",
       " '/usr/lib/security/pam_umask.so',\n",
       " '/usr/lib/libnss_files.so.2',\n",
       " '/usr/lib/libkdb_ldap.so',\n",
       " '/usr/lib/libgnutlsxx.so.30',\n",
       " '/usr/lib/qt/plugins/kf5/urifilters/kuriikwsfilter.so',\n",
       " '/usr/lib/qt/plugins/qmltooling/libqmldbg_server.so',\n",
       " '/usr/lib/libgmp.so.10',\n",
       " '/usr/bin/mapscrn',\n",
       " '/usr/lib/libmpcdec.so',\n",
       " '/usr/lib/systemd/systemd-measure',\n",
       " '/usr/lib/libbd_mdraid.so.2',\n",
       " '/usr/lib/libkadm5srv.so',\n",
       " '/usr/bin/v4l2-ctl',\n",
       " '/usr/lib/vlc/plugins/stream_filter/libprefetch_plugin.so',\n",
       " '/usr/lib/vlc/plugins/video_filter/libalphamask_plugin.so',\n",
       " '/usr/lib/systemd/systemd-portabled',\n",
       " '/usr/lib/libnss_hesiod.so',\n",
       " '/usr/lib/libLLVM.so',\n",
       " '/usr/lib/systemd/system-generators/systemd-run-generator',\n",
       " '/usr/lib/libnsl.so.3.0.0',\n",
       " '/usr/lib/libgprofng.so.0.0.0',\n",
       " '/usr/lib/libgobject-2.0.a',\n",
       " '/usr/bin/sndfile-concat',\n",
       " '/usr/bin/qmlcachegen',\n",
       " '/usr/bin/dbus-cleanup-sockets',\n",
       " '/usr/bin/aureport',\n",
       " '/usr/bin/mdadm',\n",
       " '/usr/bin/mv',\n",
       " '/usr/bin/getkeycodes',\n",
       " '/usr/lib/qt/plugins/plasma/kcms/systemsettings_qwidgets/kcm_proxy.so',\n",
       " '/usr/lib/sudo/sudo_intercept.so',\n",
       " '/usr/lib/gconv/libGB.so',\n",
       " '/usr/lib/libwebpdecoder.so.3',\n",
       " '/usr/lib/libQt5FbSupport.a',\n",
       " '/usr/bin/swaplabel',\n",
       " '/usr/lib/libsoxr.so.0.1.2',\n",
       " '/usr/bin/sserver',\n",
       " '/usr/lib/libbd_crypto.so.2',\n",
       " '/usr/lib/vlc/plugins/stream_out/libstream_out_stats_plugin.so',\n",
       " '/usr/lib/vlc/plugins/video_output/libegl_x11_plugin.so',\n",
       " '/usr/bin/mkdir',\n",
       " '/usr/lib/perl5/5.36/core_perl/auto/Encode/KR/KR.so',\n",
       " '/usr/bin/bash',\n",
       " '/usr/lib/libdconf.so',\n",
       " '/usr/lib/libgsm.so.1',\n",
       " '/usr/lib/security/pam_warn.so',\n",
       " '/usr/bin/png-fix-itxt',\n",
       " '/usr/lib/firefox/liblgpllibs.so',\n",
       " '/usr/lib/libsecret-1.so',\n",
       " '/usr/bin/plugreport',\n",
       " '/usr/lib/udisks2/udisksd',\n",
       " '/usr/lib/sasl2/libscram.so.3',\n",
       " '/usr/bin/lvmdevices',\n",
       " '/usr/lib/libgdk_pixbuf-2.0.so.0.4200.10',\n",
       " '/usr/bin/gss-client',\n",
       " '/usr/lib/jack/jack_proxy.so',\n",
       " '/usr/lib/libtsan.so.2.0.0',\n",
       " '/usr/bin/thin_delta',\n",
       " '/usr/lib/libwayland-cursor.so',\n",
       " '/DataCollection/venv/lib/python3.10/site-packages/numpy/random/_generator.cpython-310-x86_64-linux-gnu.so',\n",
       " '/usr/lib/gconv/IBM858.so',\n",
       " '/usr/lib/libQt5Quick.so.5',\n",
       " '/usr/lib/libssh.so.4.9.4',\n",
       " '/usr/bin/sxpm',\n",
       " '/usr/bin/pactree',\n",
       " '/usr/lib/libharfbuzz.so.0.60700.0',\n",
       " '/usr/lib/libmad.so',\n",
       " '/usr/bin/sha1sum',\n",
       " '/usr/lib/gconv/UTF-32.so',\n",
       " '/usr/lib/gconv/IBM869.so',\n",
       " '/usr/bin/qml-qt5',\n",
       " '/usr/lib/qt/plugins/crypto/libqca-ossl.so',\n",
       " '/usr/lib/security/pam_shells.so',\n",
       " '/usr/lib/python3.10/site-packages/Cython/Tempita/_tempita.cpython-310-x86_64-linux-gnu.so',\n",
       " '/usr/lib/libproxy.so.1.0.0',\n",
       " '/usr/lib/libtss2-tcti-pcap.so.0.0.0',\n",
       " '/usr/lib/vlc/plugins/codec/librtpvideo_plugin.so',\n",
       " '/usr/lib/xtables/libxt_helper.so',\n",
       " '/usr/lib/libQt5Qml.so.5',\n",
       " '/usr/lib/libkdb_ldap.so.1',\n",
       " '/usr/bin/nf-ct-events',\n",
       " '/usr/lib/libinih.so',\n",
       " '/usr/bin/aomenc',\n",
       " '/usr/lib/libgmp.so.10.4.1',\n",
       " '/usr/lib/preloadable_libintl.so',\n",
       " '/DataCollection/venv/lib/python3.10/site-packages/pandas/_libs/tslibs/dtypes.cpython-310-x86_64-linux-gnu.so',\n",
       " '/usr/lib/libe2p.so',\n",
       " '/usr/bin/iptables-translate',\n",
       " '/usr/lib/gconv/EUC-TW.so',\n",
       " '/usr/lib/vlc/plugins/access_output/libaccess_output_shout_plugin.so',\n",
       " '/usr/bin/db5.3/db_checkpoint',\n",
       " '/usr/lib/libKF5WindowSystem.so',\n",
       " '/usr/lib/libogg.so.0.8.5',\n",
       " '/usr/lib/libgio-2.0.a',\n",
       " '/usr/bin/lz4c',\n",
       " '/usr/lib/libdb-6.so',\n",
       " '/usr/bin/ebtables-nft-save',\n",
       " '/usr/bin/kwriteconfig5',\n",
       " '/usr/lib/libKF5SonnetUi.so.5.103.0',\n",
       " '/usr/bin/vlock',\n",
       " '/usr/bin/db5.3/db_verify',\n",
       " '/usr/bin/qmake-qt5',\n",
       " '/usr/lib/gconv/IBM1149.so',\n",
       " '/usr/lib/libnssckbi.so',\n",
       " '/usr/lib/gio/modules/libgioenvironmentproxy.so',\n",
       " '/usr/lib/libpulse-simple.so.0.1.1',\n",
       " '/usr/lib/libatspi.so.0',\n",
       " '/usr/lib/vlc/plugins/audio_filter/libremap_plugin.so',\n",
       " '/usr/lib/libsyn123.so.0.1.4',\n",
       " '/usr/bin/nl-link-list',\n",
       " '/usr/bin/sum',\n",
       " '/usr/lib/xtables/libxt_connlabel.so',\n",
       " '/usr/lib/libQt5QuickTest.so.5.15.8',\n",
       " '/usr/lib/libsoxr.so.0',\n",
       " '/usr/lib/qt/plugins/egldeviceintegrations/libqeglfs-kms-integration.so',\n",
       " '/DataCollection/venv/lib/python3.10/site-packages/numpy/linalg/_umath_linalg.cpython-310-x86_64-linux-gnu.so',\n",
       " '/usr/lib/vlc/plugins/access/libhttp_plugin.so',\n",
       " '/usr/lib/libxcb-ewmh.so',\n",
       " '/usr/lib/liblber.so.2.0.200',\n",
       " '/usr/lib/perl5/5.36/core_perl/auto/Opcode/Opcode.so',\n",
       " '/usr/lib/libmenuw.so',\n",
       " '/usr/lib/libparted-fs-resize.so',\n",
       " '/usr/lib/libgstaudio-1.0.so',\n",
       " '/usr/lib/vlc/plugins/access/libdvb_plugin.so',\n",
       " '/usr/bin/dconf',\n",
       " '/usr/bin/msgfilter',\n",
       " '/usr/bin/nstat',\n",
       " '/usr/lib/libndctl.so.6',\n",
       " '/usr/lib/libhistory.so.8',\n",
       " '/usr/lib/gnupg/gpg-protect-tool',\n",
       " '/usr/bin/sha512sum',\n",
       " '/usr/lib/libnfnetlink.so.0.2.0',\n",
       " '/usr/lib/libgomp.so.1',\n",
       " '/usr/lib/libsystemd.so.0.35.0',\n",
       " '/usr/lib/libipq.so',\n",
       " '/usr/lib/libpcap.so.1.10.3',\n",
       " '/usr/lib/libva-glx.so',\n",
       " '/usr/lib/vlc/plugins/text_renderer/libtdummy_plugin.so',\n",
       " '/usr/lib/libtag.so.1',\n",
       " '/usr/bin/update-mime-database',\n",
       " '/usr/lib/libKF5KIOCore.so',\n",
       " '/usr/lib/libblkid.so',\n",
       " '/usr/lib/libavfilter.so.7.110.100',\n",
       " '/usr/lib/vlc/plugins/demux/libtta_plugin.so',\n",
       " '/usr/lib/gconv/EUC-KR.so',\n",
       " '/usr/lib/systemd/boot/efi/linuxx64.elf.stub',\n",
       " '/usr/lib/libseccomp.so.2.5.4',\n",
       " '/usr/lib/libxcb-res.so.0.0.0',\n",
       " '/usr/lib/gconv/EBCDIC-ES-S.so',\n",
       " '/usr/lib/gconv/IBM274.so',\n",
       " '/usr/lib/gconv/CP932.so',\n",
       " '/usr/lib/libavc1394.so',\n",
       " '/usr/bin/nologin',\n",
       " '/usr/bin/p11tool',\n",
       " '/usr/lib/libxcb-xv.so',\n",
       " '/usr/lib/libXpm.so',\n",
       " '/usr/lib/vlc/plugins/demux/libnsv_plugin.so',\n",
       " '/usr/lib/libxcb-shm.so.0',\n",
       " '/usr/lib/libjpeg.so.8',\n",
       " '/usr/lib/libdbusmenu-qt5.so.2',\n",
       " '/usr/bin/genccode',\n",
       " '/usr/lib/python3.10/lib-dynload/ossaudiodev.cpython-310-x86_64-linux-gnu.so',\n",
       " '/usr/lib/security/pam_faildelay.so',\n",
       " '/DataCollection/venv/lib/python3.10/site-packages/pandas/_libs/tslibs/timezones.cpython-310-x86_64-linux-gnu.so',\n",
       " '/usr/lib/vlc/plugins/visualization/libglspectrum_plugin.so',\n",
       " '/usr/bin/systemd-sysext',\n",
       " '/usr/lib/libauparse.so',\n",
       " '/usr/lib/libsasl2.so.3.0.0',\n",
       " '/usr/lib/perl5/5.36/core_perl/auto/Encode/Unicode/Unicode.so',\n",
       " '/usr/lib/cairo/libcairo-trace.so',\n",
       " '/usr/bin/cec-ctl',\n",
       " '/usr/lib/libupower-glib.so.3.1.0',\n",
       " '/usr/lib/libpng.so',\n",
       " '/usr/bin/qmlformat-qt5',\n",
       " '/usr/lib/systemd/systemd-backlight',\n",
       " '/usr/lib/libxcb-record.so',\n",
       " '/usr/lib/gconv/IBM1008_420.so',\n",
       " '/usr/lib/libbd_utils.so.2',\n",
       " '/usr/lib/v4l1compat.so',\n",
       " '/usr/lib/liburcu-signal.so.8',\n",
       " '/usr/bin/watchgnupg',\n",
       " '/usr/lib/gconv/IBM875.so',\n",
       " '/usr/bin/desktop-file-validate',\n",
       " '/usr/lib/gconv/IBM1133.so',\n",
       " '/usr/lib/libLTO.so.15',\n",
       " '/usr/lib/libKF5Crash.so',\n",
       " '/usr/lib/python3.10/lib-dynload/fcntl.cpython-310-x86_64-linux-gnu.so',\n",
       " '/usr/lib/security/pam_unix.so',\n",
       " '/usr/bin/nl-monitor',\n",
       " '/usr/bin/tv_combo',\n",
       " '/usr/lib/libcap.so.2.67',\n",
       " '/usr/lib/vlc/libvlc_pulse.so.0',\n",
       " '/usr/lib/python3.10/lib-dynload/_datetime.cpython-310-x86_64-linux-gnu.so',\n",
       " '/usr/lib/xtables/libipt_ULOG.so',\n",
       " '/usr/lib/libbd_kbd.so.2',\n",
       " '/usr/lib/p11-kit/p11-kit-server',\n",
       " '/usr/lib/python3.10/lib-dynload/_heapq.cpython-310-x86_64-linux-gnu.so',\n",
       " '/usr/lib/libproxy.so.1',\n",
       " '/usr/lib/vlc/plugins/packetizer/libpacketizer_av1_plugin.so',\n",
       " '/usr/lib/libjson-glib-1.0.so.0',\n",
       " '/usr/bin/lzmainfo',\n",
       " '/usr/lib/vlc/plugins/mux/libmux_mp4_plugin.so',\n",
       " '/usr/lib/python3.10/lib-dynload/_testmultiphase.cpython-310-x86_64-linux-gnu.so',\n",
       " '/usr/bin/nl-classid-lookup',\n",
       " '/usr/lib/libmnl.so.0.2.0',\n",
       " '/usr/lib/libavdevice.so.59',\n",
       " '/usr/lib/libxcb-xvmc.so.0.0.0',\n",
       " '/usr/lib/libmagic.so.1.0.0',\n",
       " '/usr/bin/fax2ps',\n",
       " '/usr/lib/qt/plugins/crypto/libqca-gnupg.so',\n",
       " '/usr/bin/aomdec',\n",
       " '/usr/lib/bash/mkfifo',\n",
       " '/usr/lib/libQt5Svg.so.5.15.8',\n",
       " '/usr/lib/vlc/plugins/demux/libes_plugin.so',\n",
       " '/usr/lib/gconv/HP-ROMAN8.so',\n",
       " '/usr/lib/libbd_swap.so',\n",
       " '/usr/lib/qt/qml/Qt/labs/settings/libqmlsettingsplugin.so',\n",
       " '/usr/lib/vlc/plugins/video_output/libvmem_plugin.so',\n",
       " '/usr/lib/gconv/IBM1158.so',\n",
       " '/usr/bin/hardlink',\n",
       " '/usr/lib/p11-kit/p11-kit-remote',\n",
       " '/usr/lib/libwayland-client.so',\n",
       " '/usr/lib/gconv/IBM4899.so',\n",
       " '/usr/lib/vlc/plugins/misc/libstats_plugin.so',\n",
       " '/usr/bin/expiry',\n",
       " '/usr/lib/udev/scsi_id',\n",
       " '/usr/lib/libdns_sd.so.1.0.0',\n",
       " '/usr/lib/libparted-fs-resize.so.0.0.4',\n",
       " '/usr/lib/qt/qml/Qt/labs/sharedimage/libsharedimageplugin.so',\n",
       " '/usr/lib/libzimg.so.2.0.0',\n",
       " '/usr/lib/libtss2-tcti-swtpm.so.0.0.0',\n",
       " '/usr/bin/gdbmtool',\n",
       " '/usr/lib/libfaad_drm.so',\n",
       " '/usr/lib/libtss2-tcti-swtpm.so.0',\n",
       " '/usr/bin/yes',\n",
       " '/usr/lib/libGLX_indirect.so.0',\n",
       " '/usr/lib/vlc/plugins/video_output/libglx_plugin.so',\n",
       " '/usr/lib/libQt5Network.so.5.15.8',\n",
       " '/usr/lib/libQt5Xml.so',\n",
       " '/usr/lib/sudo/system_group.so',\n",
       " '/usr/lib/libsframe.so.0.0.0',\n",
       " '/usr/lib/libfreetype.so.6',\n",
       " '/usr/lib/libQt5QmlModels.so.5.15',\n",
       " '/usr/lib/libmp3lame.so',\n",
       " '/usr/lib/vlc/plugins/demux/libimage_plugin.so',\n",
       " '/usr/bin/pwd',\n",
       " '/usr/lib/libQt5AccessibilitySupport.a',\n",
       " '/usr/lib/python3.10/lib-dynload/_bisect.cpython-310-x86_64-linux-gnu.so',\n",
       " '/usr/bin/avahi-resolve-host-name',\n",
       " '/usr/lib/libhandle.so.1.0.3',\n",
       " '/usr/lib/libhidapi-libusb.so',\n",
       " '/usr/lib/libnl-cli-3.so.200.26.0',\n",
       " '/usr/bin/b2sum',\n",
       " '/usr/bin/mpeg2dec',\n",
       " '/usr/lib/perl5/5.36/core_perl/auto/Socket/Socket.so',\n",
       " '/usr/lib/libbrotlienc.so.1',\n",
       " '/usr/lib/liburcu.so.8.0.0',\n",
       " '/usr/bin/tput',\n",
       " '/usr/lib/liblber.so',\n",
       " '/usr/lib/gconv/MAC-SAMI.so',\n",
       " '/usr/lib/libcanberra-gtk.so',\n",
       " '/usr/lib/vlc/plugins/meta_engine/libfolder_plugin.so',\n",
       " '/usr/lib/libwebp.so',\n",
       " '/usr/bin/cache_restore',\n",
       " '/usr/lib/libRemarks.so.15',\n",
       " '/usr/lib/vlc/plugins/stream_out/libstream_out_standard_plugin.so',\n",
       " '/usr/bin/msgunfmt',\n",
       " '/usr/bin/lnstat',\n",
       " '/usr/lib/gconv/RK1048.so',\n",
       " '/usr/lib/libpolkit-qt5-core-1.so.1.114.0',\n",
       " '/DataCollection/venv/lib/python3.10/site-packages/numpy.libs/libquadmath-96973f99.so.0.0.0',\n",
       " '/usr/lib/qt/plugins/generic/libqevdevtabletplugin.so',\n",
       " '/usr/bin/fsck.ext3',\n",
       " '/usr/lib/systemd/systemd-modules-load',\n",
       " '/usr/lib/vlc/plugins/spu/libaudiobargraph_v_plugin.so',\n",
       " '/usr/lib/libQt5OpenGL.so.5.15.8',\n",
       " '/usr/lib/gtk-3.0/3.0.0/immodules/im-broadway.so',\n",
       " '/usr/lib/gconv/ISO_5427-EXT.so',\n",
       " '/usr/bin/iptables-nft-save',\n",
       " '/usr/lib/security/pam_nologin.so',\n",
       " '/usr/lib/python3.10/lib-dynload/binascii.cpython-310-x86_64-linux-gnu.so',\n",
       " '/usr/lib/gconv/EBCDIC-IS-FRISS.so',\n",
       " '/usr/lib/libxshmfence.so',\n",
       " '/usr/bin/tset',\n",
       " '/usr/bin/gtk-query-settings',\n",
       " '/usr/lib/xtables/libxt_NFQUEUE.so',\n",
       " '/usr/lib/libtasn1.so.6.6.3',\n",
       " '/usr/lib/libdb_cxx-6.2.so',\n",
       " '/usr/lib/vlc/plugins/audio_filter/libugly_resampler_plugin.so',\n",
       " '/usr/bin/qvidcap',\n",
       " '/usr/lib/dri/crocus_dri.so',\n",
       " '/usr/bin/vgsplit',\n",
       " '/usr/bin/vigr',\n",
       " '/usr/lib/libdatrie.so.1.4.0',\n",
       " '/usr/lib/libva.so.2',\n",
       " '/usr/lib/gio/modules/libgiolibproxy.so',\n",
       " '/usr/lib/libgraphene-1.0.so.0.1000.8',\n",
       " '/usr/lib/libgomp.so.1.0.0',\n",
       " '/usr/bin/thin_trim',\n",
       " '/usr/lib/libfribidi.so',\n",
       " '/usr/lib/libspeex.so.1.5.2',\n",
       " '/usr/bin/sktest',\n",
       " '/usr/lib/libstdc++.so.6.0.30',\n",
       " '/usr/bin/gpg2',\n",
       " '/usr/bin/db5.3/db_log_verify',\n",
       " '/usr/lib/libc_malloc_debug.so',\n",
       " '/usr/lib/libubsan.so',\n",
       " '/usr/lib/gconv/EBCDIC-ES-A.so',\n",
       " '/usr/lib/vlc/plugins/demux/libflacsys_plugin.so',\n",
       " '/usr/lib/libwayland-client.so.0',\n",
       " '/usr/lib/libbd_dm.so.2',\n",
       " '/usr/lib/vlc/plugins/demux/libplaylist_plugin.so',\n",
       " '/usr/lib/libyaml-0.so.2',\n",
       " '/usr/lib/libxcb-xf86dri.so.0',\n",
       " '/usr/bin/sgdisk',\n",
       " '/usr/lib/vlc/plugins/access_output/libaccess_output_rist_plugin.so',\n",
       " '/usr/lib/gconv/EBCDIC-AT-DE.so',\n",
       " '/usr/bin/db_log_verify',\n",
       " '/usr/lib/libpcre2-8.so',\n",
       " '/usr/lib/libQt5X11Extras.so.5.15.8',\n",
       " '/usr/bin/vdir',\n",
       " '/usr/lib/libglslang-default-resource-limits.so',\n",
       " '/usr/bin/systemd-tmpfiles',\n",
       " '/usr/bin/iconvconfig',\n",
       " '/usr/lib/libubsan.so.1',\n",
       " '/usr/lib/libgo.so',\n",
       " '/usr/lib/vlc/plugins/access/libshm_plugin.so',\n",
       " '/usr/bin/usermod',\n",
       " '/usr/lib/libalpm.so.13.0.2',\n",
       " '/usr/bin/lvmsar',\n",
       " '/usr/lib/libtss2-mu.so.0',\n",
       " '/usr/lib/libavahi-common.so.3.5.4',\n",
       " '/usr/bin/gp-collect-app',\n",
       " '/usr/lib/qt/plugins/platforms/libqwayland-xcomposite-egl.so',\n",
       " '/usr/bin/sudo_sendlog',\n",
       " '/usr/bin/cjpeg',\n",
       " '/usr/lib/ts/dejitter.so',\n",
       " '/usr/bin/grpck',\n",
       " '/usr/lib/dri/virtio_gpu_dri.so',\n",
       " '/usr/bin/autrace',\n",
       " '/usr/lib/libxcb-render.so.0',\n",
       " '/usr/bin/extract_mpeg2',\n",
       " '/usr/lib/python3.10/lib-dynload/_blake2.cpython-310-x86_64-linux-gnu.so',\n",
       " '/usr/lib/Mcrt1.o',\n",
       " '/usr/lib/libxcb-dri3.so',\n",
       " '/usr/lib/libavutil.so',\n",
       " '/usr/lib/libgphobos.so.3',\n",
       " '/usr/bin/comm',\n",
       " '/usr/bin/xfs_spaceman',\n",
       " '/usr/bin/gpg-error',\n",
       " '/usr/lib/libRemarks.so',\n",
       " '/usr/lib/gconv/IBM1026.so',\n",
       " '/usr/lib/libatk-bridge-2.0.so.0.0.0',\n",
       " '/usr/bin/gif2rgb',\n",
       " '/usr/lib/libv4l2.so.0.0.0',\n",
       " '/usr/bin/networkctl',\n",
       " '/usr/lib/qt/plugins/platforms/libqminimal.so',\n",
       " '/usr/bin/qml',\n",
       " '/usr/bin/systemd-path',\n",
       " '/usr/lib/libavutil.so.57',\n",
       " '/usr/lib/libXxf86vm.so.1',\n",
       " '/usr/lib/libxcb-render-util.so.0',\n",
       " '/usr/lib/security/pam_mail.so',\n",
       " '/usr/lib/libopenjp2.so.7',\n",
       " '/usr/lib/libmatroska.so',\n",
       " '/usr/lib/xkbcommon/xkbcli-interactive-wayland',\n",
       " '/usr/lib/libgthread-2.0.so.0',\n",
       " '/usr/bin/pr',\n",
       " '/usr/lib/vlc/plugins/demux/libdirectory_demux_plugin.so',\n",
       " '/usr/lib/libicuio.so.72',\n",
       " '/usr/lib/vlc/plugins/packetizer/libpacketizer_dts_plugin.so',\n",
       " '/usr/lib/libgpgmepp.so',\n",
       " '/usr/bin/xfs_logprint',\n",
       " '/usr/lib/libKF5Wallet.so',\n",
       " '/usr/lib/libhistory.so.8.2',\n",
       " '/usr/lib/gconv/KOI8-RU.so',\n",
       " '/usr/lib/libgprofng.so',\n",
       " '/usr/bin/vgexport',\n",
       " '/usr/bin/systemd-dissect',\n",
       " '/usr/bin/objcopy',\n",
       " '/usr/bin/aulast',\n",
       " '/usr/lib/xtables/libxt_SECMARK.so',\n",
       " '/usr/lib/security/pam_group.so',\n",
       " '/usr/lib/libbd_utils.so',\n",
       " '/usr/lib/vlc/plugins/control/liblirc_plugin.so',\n",
       " '/usr/lib/libxcb-shm.so.0.0.0',\n",
       " '/usr/lib/libsubid.so',\n",
       " '/usr/lib/libgsm.so.1.0.22',\n",
       " '/usr/lib/libip4tc.so.2.0.0',\n",
       " '/usr/bin/fsfreeze',\n",
       " '/usr/lib/libKF5Codecs.so.5',\n",
       " '/usr/lib/libmenuw_g.a',\n",
       " '/usr/lib/qt/plugins/platforminputcontexts/libcomposeplatforminputcontextplugin.so',\n",
       " '/usr/bin/dbus-daemon',\n",
       " '/usr/lib/gconv/IBM903.so',\n",
       " '/usr/bin/mkfs.ext3',\n",
       " '/usr/lib/vlc/plugins/access/libdvdread_plugin.so',\n",
       " '/usr/lib/perl5/5.36/core_perl/auto/Digest/SHA/SHA.so',\n",
       " '/usr/bin/nl-rule-list',\n",
       " '/usr/bin/lvreduce',\n",
       " '/usr/lib/libkrb5support.so.0.1',\n",
       " '/usr/bin/sqldiff',\n",
       " '/usr/lib/libdca.so',\n",
       " '/usr/bin/fstrim',\n",
       " '/usr/bin/umount',\n",
       " '/usr/lib/libXrender.so.1',\n",
       " '/usr/bin/pathchk',\n",
       " '/usr/lib/libkmod.so.2',\n",
       " '/usr/bin/lsns',\n",
       " '/usr/lib/gconv/IBM905.so',\n",
       " '/usr/bin/pngfix',\n",
       " '/usr/lib/libstemmer.so.0.0.0',\n",
       " '/usr/lib/libjackserver.so.0.1.0',\n",
       " '/usr/bin/nettle-lfib-stream',\n",
       " '/usr/lib/qt/plugins/platforms/libqwayland-generic.so',\n",
       " '/usr/bin/mkfs.ext4',\n",
       " '/usr/lib/libGLX.so.0',\n",
       " '/DataCollection/venv/lib/python3.10/site-packages/numpy/core/_multiarray_umath.cpython-310-x86_64-linux-gnu.so',\n",
       " '/usr/lib/libXft.so.2.3.7',\n",
       " '/usr/lib/xtables/libip6t_frag.so',\n",
       " '/usr/lib/perl5/5.36/core_perl/auto/Digest/MD5/MD5.so',\n",
       " '/usr/lib/perl5/5.36/core_perl/auto/B/B.so',\n",
       " '/usr/bin/mkfs.msdos',\n",
       " '/usr/bin/tdbdump',\n",
       " '/usr/lib/systemd/systemd-network-generator',\n",
       " '/usr/lib/krb5/plugins/preauth/otp.so',\n",
       " '/usr/lib/libgettextpo.so.0.5.8',\n",
       " '/DataCollection/venv/lib/python3.10/site-packages/pandas/_libs/tslibs/offsets.cpython-310-x86_64-linux-gnu.so',\n",
       " '/usr/lib/libjacknet.so.0.1.0',\n",
       " '/usr/bin/passwd',\n",
       " '/usr/lib/libKF5XmlGui.so.5',\n",
       " '/usr/lib/gconv/IBM902.so',\n",
       " '/usr/lib/libarchive.so.13.6.2',\n",
       " '/usr/lib/libmicrohttpd.so',\n",
       " '/usr/lib/libssh2.so.1',\n",
       " '/usr/lib/vlc/plugins/video_output/libaa_plugin.so',\n",
       " '/usr/bin/muxer',\n",
       " '/usr/bin/systemd-creds',\n",
       " '/usr/lib/python3.10/lib-dynload/xxlimited.cpython-310-x86_64-linux-gnu.so',\n",
       " '/usr/lib/libKF5TextWidgets.so',\n",
       " '/usr/lib/libINIReader.so.0',\n",
       " '/usr/lib/liblua5.2.so.5.2',\n",
       " '/usr/lib/libcdda_interface.so.0.10.2',\n",
       " '/usr/lib/libthread_db.so',\n",
       " '/usr/lib/libfaad.so.2',\n",
       " '/usr/lib/security/pam_permit.so',\n",
       " '/DataCollection/venv/lib/python3.10/site-packages/pandas/_libs/parsers.cpython-310-x86_64-linux-gnu.so',\n",
       " '/usr/lib/libvolume_key.so',\n",
       " '/usr/lib/libxshmfence.so.1',\n",
       " '/usr/lib/libfribidi.so.0.4.0',\n",
       " '/usr/lib/qt/plugins/kf5/kio/kio_trash.so',\n",
       " '/usr/bin/fmt',\n",
       " '/usr/lib/libpostproc.so.56',\n",
       " '/usr/lib/libnss_db.so.2',\n",
       " '/usr/bin/x264',\n",
       " '/usr/lib/perl5/5.36/core_perl/auto/Math/BigInt/FastCalc/FastCalc.so',\n",
       " '/usr/lib/qt/plugins/crypto/libqca-softstore.so',\n",
       " '/usr/lib/libsharpyuv.so',\n",
       " '/usr/lib/vlc/plugins/stream_filter/libinflate_plugin.so',\n",
       " '/usr/lib/libunwind-ptrace.so',\n",
       " '/usr/bin/db_deadlock',\n",
       " '/usr/lib/liblzma.so.5.4.1',\n",
       " '/usr/bin/newuidmap',\n",
       " '/usr/lib/qt/plugins/bearer/libqconnmanbearer.so',\n",
       " '/usr/lib/libbd_vdo.so',\n",
       " '/usr/lib/vlc/plugins/access/libimem_plugin.so',\n",
       " '/usr/bin/faked',\n",
       " '/usr/lib/vlc/plugins/packetizer/libpacketizer_mpegaudio_plugin.so',\n",
       " '/usr/lib/audit/sotruss-lib.so',\n",
       " '/usr/bin/bunzip2',\n",
       " '/usr/lib/qt/qml/QtQuick.2/libqtquick2plugin.so',\n",
       " '/usr/lib/vlc/plugins/codec/libsubstx3g_plugin.so',\n",
       " '/usr/bin/btrfs-image',\n",
       " '/usr/bin/pacman',\n",
       " '/usr/bin/gentrigrams',\n",
       " '/DataCollection/venv/lib/python3.10/site-packages/numpy/core/lib/libnpymath.a',\n",
       " '/usr/bin/bzcat',\n",
       " '/usr/bin/dmsetup',\n",
       " '/usr/bin/xset',\n",
       " '/usr/lib/libqca-qt5.so.2',\n",
       " '/usr/lib/libgtk-3.so.0.2404.32',\n",
       " '/usr/bin/idevicebackup2',\n",
       " '/usr/lib/libnl-idiag-3.so',\n",
       " '/usr/bin/gifbuild',\n",
       " '/usr/lib/libnl-3.so.200.26.0',\n",
       " '/usr/lib/gconv/IBM1140.so',\n",
       " '/usr/bin/gdbm_load',\n",
       " '/usr/lib/vlc/plugins/codec/librawvideo_plugin.so',\n",
       " '/usr/lib/libnpth.so',\n",
       " '/usr/lib/libQt5MultimediaQuick.so.5.15.8',\n",
       " '/usr/lib/tc/q_atm.so',\n",
       " '/usr/lib/libfontconfig.so',\n",
       " '/usr/lib/libdrm_nouveau.so.2',\n",
       " '/usr/lib/xtables/libxt_TRACE.so',\n",
       " '/usr/bin/pwconv',\n",
       " '/usr/lib/xtables/libxt_rateest.so',\n",
       " '/usr/lib/vlc/plugins/audio_mixer/libfloat_mixer_plugin.so',\n",
       " '/usr/bin/getcap',\n",
       " '/usr/lib/vlc/plugins/audio_filter/libnormvol_plugin.so',\n",
       " '/usr/bin/avahi-resolve',\n",
       " '/usr/bin/nl-neigh-delete',\n",
       " '/usr/lib/gconv/BIG5.so',\n",
       " '/usr/bin/db_verify',\n",
       " '/usr/lib/libpcap.so.1',\n",
       " '/usr/lib/ts/linear.so',\n",
       " '/usr/lib/libgssapi_krb5.so',\n",
       " '/usr/bin/nl-util-addr',\n",
       " '/usr/bin/pinentry-gtk-2',\n",
       " '/usr/bin/e2undo',\n",
       " '/usr/lib/libtheoradec.so.1',\n",
       " '/usr/lib/libpolkit-agent-1.so.0.0.0',\n",
       " '/usr/lib/libdevmapper-event.so',\n",
       " '/usr/bin/lz4cat',\n",
       " '/usr/lib/gio/modules/libdconfsettings.so',\n",
       " '/usr/lib/libnetfilter_conntrack.so',\n",
       " '/usr/lib/gconv/libJIS.so',\n",
       " '/usr/lib/libkdb5.so.10.0',\n",
       " '/usr/bin/chmem',\n",
       " '/usr/bin/psfgettable',\n",
       " '/usr/bin/mkfs.fat',\n",
       " '/usr/lib/vlc/plugins/gui/libskins2_plugin.so',\n",
       " '/usr/bin/qcatool-qt5',\n",
       " '/usr/bin/nl-pktloc-lookup',\n",
       " '/usr/lib/vlc/plugins/access/libdvdnav_plugin.so',\n",
       " '/usr/bin/nettle-hash',\n",
       " '/usr/lib/libatk-1.0.so',\n",
       " '/usr/lib/libpangoft2-1.0.so.0.5000.12',\n",
       " '/usr/bin/pactl',\n",
       " '/usr/lib/gconv/IBM930.so',\n",
       " '/usr/bin/plistutil',\n",
       " '/usr/lib/libtss2-tctildr.so.0.0.0',\n",
       " '/usr/bin/write',\n",
       " '/usr/bin/a52dec',\n",
       " '/usr/lib/libdvbpsi.so',\n",
       " '/usr/lib/libv4l/v4l2convert.so',\n",
       " '/usr/lib/libxcb-util.so',\n",
       " '/usr/lib/xtables/libxt_tos.so',\n",
       " '/usr/lib/libicui18n.so.72.1',\n",
       " '/usr/lib/libpsl.so',\n",
       " '/usr/lib/libcom_err.so.2.1',\n",
       " '/usr/lib/libQt5KmsSupport.a',\n",
       " '/usr/lib/gconv/EBCDIC-IT.so',\n",
       " '/usr/lib/gconv/IBM1160.so',\n",
       " '/usr/lib/gconv/EBCDIC-DK-NO-A.so',\n",
       " '/usr/lib/libbd_nvdimm.so.2.0.0',\n",
       " '/usr/lib/libsoxr-lsr.so.0.1.9',\n",
       " '/usr/lib/libwebpmux.so.3.0.11',\n",
       " '/usr/lib/qt/plugins/generic/libqevdevkeyboardplugin.so',\n",
       " '/usr/lib/qt/qml/QtWayland/Client/TextureSharing/libqwaylandtexturesharing.so',\n",
       " '/usr/lib/libKF5KIOWidgets.so.5',\n",
       " '/usr/lib/liblsmash.so.2',\n",
       " '/usr/lib/vlc/plugins/text_renderer/libsvg_plugin.so',\n",
       " '/usr/lib/libxcb-sync.so.1',\n",
       " '/usr/lib/qt/plugins/wayland-shell-integration/libxdg-shell-v5.so',\n",
       " '/usr/lib/bash/tee',\n",
       " '/usr/lib/python3.10/site-packages/pydantic/json.cpython-310-x86_64-linux-gnu.so',\n",
       " '/usr/lib/libzimg.so',\n",
       " '/usr/lib/qt/plugins/kf5/ktranscript.so',\n",
       " '/usr/lib/vlc/plugins/access_output/libaccess_output_http_plugin.so',\n",
       " '/usr/lib/xkbcommon/xkbcli-interactive-evdev',\n",
       " '/usr/lib/vlc/plugins/audio_output/libafile_plugin.so',\n",
       " '/usr/lib/vlc/plugins/codec/libavcodec_plugin.so',\n",
       " '/usr/lib/gstreamer-1.0/libgstapp.so',\n",
       " '/usr/bin/bssh',\n",
       " '/DataCollection/venv/lib/python3.10/site-packages/pandas/_libs/ops_dispatch.cpython-310-x86_64-linux-gnu.so',\n",
       " '/usr/lib/vlc/plugins/codec/libsvcdsub_plugin.so',\n",
       " '/usr/lib/gtk-3.0/3.0.0/immodules/im-multipress.so',\n",
       " '/usr/lib/perl5/5.36/core_perl/auto/File/DosGlob/DosGlob.so',\n",
       " '/usr/lib/libxcb-shape.so.0.0.0',\n",
       " '/usr/lib/libmvec.so',\n",
       " '/usr/lib/libgstallocators-1.0.so.0.2200.0',\n",
       " '/usr/bin/pvscan',\n",
       " '/usr/lib/libjson-c.so.5.2.0',\n",
       " '/usr/bin/chgrp',\n",
       " '/usr/lib/libvlc.so',\n",
       " '/usr/lib/libpcre2-32.so',\n",
       " '/usr/lib/gstreamer-1.0/gst-ptp-helper',\n",
       " '/usr/lib/security/pam_wheel.so',\n",
       " '/DataCollection/venv/lib/python3.10/site-packages/numpy/random/lib/libnpyrandom.a',\n",
       " '/usr/bin/db5.3/db_tuner',\n",
       " '/usr/lib/python3.10/lib-dynload/_sqlite3.cpython-310-x86_64-linux-gnu.so',\n",
       " '/usr/lib/gconv/ISO8859-16.so',\n",
       " '/usr/lib/libKF5KIOFileWidgets.so.5',\n",
       " '/usr/lib/perl5/5.36/core_perl/auto/Encode/Symbol/Symbol.so',\n",
       " '/usr/lib/libmd4c-html.so.0',\n",
       " '/usr/lib/qt/plugins/kf5/urifilters/kurisearchfilter.so',\n",
       " '/usr/bin/untoast',\n",
       " '/usr/bin/aserver',\n",
       " '/usr/bin/iptables',\n",
       " '/usr/lib/libKF5ConfigWidgets.so.5.103.0',\n",
       " '/usr/lib/qt/plugins/wayland-shell-integration/libxdg-shell.so',\n",
       " '/usr/lib/udisks2/modules/libudisks2_btrfs.so',\n",
       " '/usr/bin/uuclient',\n",
       " '/usr/bin/bshell',\n",
       " '/usr/lib/libxvidcore.so.4.3',\n",
       " '/usr/lib/security/pam_rhosts.so',\n",
       " '/usr/lib/qt/plugins/platforms/libqvnc.so',\n",
       " '/usr/lib/libbytesize.so.1',\n",
       " '/usr/bin/dav1d',\n",
       " '/usr/lib/libtdb.so.1.4.8',\n",
       " '/usr/bin/rtstat',\n",
       " '/usr/lib/libwebpdecoder.so.3.1.6',\n",
       " '/usr/bin/timelineeditor',\n",
       " '/usr/lib/libplist++-2.0.so.3',\n",
       " '/usr/lib/vlc/plugins/video_chroma/libi420_yuy2_mmx_plugin.so',\n",
       " '/usr/lib/vlc/libvlc_vdpau.so',\n",
       " '/usr/lib/dri/r300_dri.so',\n",
       " '/usr/lib/libdbus-glib-1.so.2.3.5',\n",
       " '/usr/lib/gconv/ISO-IR-209.so',\n",
       " '/usr/lib/libQt5EglSupport.a',\n",
       " '/usr/lib/vlc/plugins/codec/libt140_plugin.so',\n",
       " '/usr/lib/libKF5Wallet.so.5.103.0',\n",
       " '/usr/bin/tiffmedian',\n",
       " '/usr/lib/vlc/plugins/codec/libx26410b_plugin.so',\n",
       " '/usr/lib/libKF5Completion.so.5.103.0',\n",
       " '/usr/bin/userdbctl',\n",
       " '/usr/bin/mpicalc',\n",
       " '/usr/lib/libverto-libevent.so.1',\n",
       " '/usr/lib/libgettextpo.so',\n",
       " '/usr/lib/qt/plugins/wayland-shell-integration/libfullscreen-shell-v1.so',\n",
       " '/usr/lib/libEGL_mesa.so',\n",
       " '/usr/lib/libatk-1.0.so.0',\n",
       " '/usr/bin/dvcont',\n",
       " '/usr/lib/libgnutls-openssl.so.27.0.2',\n",
       " '/usr/lib/libssh.so',\n",
       " '/usr/bin/stty',\n",
       " '/usr/lib/vlc/plugins/audio_output/libamem_plugin.so',\n",
       " '/usr/lib/libopus.so.0.8.0',\n",
       " '/usr/lib/vlc/plugins/codec/libjpeg_plugin.so',\n",
       " '/usr/lib/libdaemon.so.0.5.0',\n",
       " '/usr/lib/qt/plugins/wayland-graphics-integration-server/libqt-wayland-compositor-vulkan-server.so',\n",
       " '/usr/lib/vlc/plugins/audio_filter/libequalizer_plugin.so',\n",
       " '/usr/lib/libcap.so',\n",
       " '/DataCollection/venv/lib/python3.10/site-packages/setuptools/gui-32.exe',\n",
       " '/usr/lib/libSPIRV-Tools-link.so',\n",
       " '/usr/lib/libxcb-icccm.so.4',\n",
       " '/usr/bin/sndfile-deinterleave',\n",
       " '/usr/lib/libavahi-ui-gtk3.so',\n",
       " '/usr/lib/libnss_compat.so.2',\n",
       " '/usr/bin/systemd-socket-activate',\n",
       " '/DataCollection/venv/lib/python3.10/site-packages/pip/_vendor/distlib/t32.exe',\n",
       " '/usr/lib/libgif.so.7',\n",
       " '/DataCollection/venv/lib/python3.10/site-packages/pandas/_libs/hashing.cpython-310-x86_64-linux-gnu.so',\n",
       " '/usr/lib/libtss2-rc.so',\n",
       " '/usr/lib/libnl-idiag-3.so.200.26.0',\n",
       " '/usr/lib/libpanelw.so.6',\n",
       " '/usr/lib/xtables/libxt_pkttype.so',\n",
       " '/usr/lib/bellagio/libomxaudio_effects.so',\n",
       " '/usr/lib/libvorbisenc.so',\n",
       " '/usr/lib/libspeexdsp.so.1.5.2',\n",
       " '/usr/lib/chromium/chrome-sandbox',\n",
       " '/usr/lib/qt/plugins/designer/kiconthemes5widgets.so',\n",
       " '/usr/lib/bash/csv',\n",
       " '/usr/lib/libXt.so.6',\n",
       " '/usr/lib/python3.10/site-packages/Cython/Runtime/refnanny.cpython-310-x86_64-linux-gnu.so',\n",
       " '/usr/lib/vlc/plugins/services_discovery/libupnp_plugin.so',\n",
       " '/usr/lib/libQt5WaylandCompositor.so',\n",
       " '/usr/lib/awk/pwcat',\n",
       " '/usr/lib/vlc/plugins/video_filter/libball_plugin.so',\n",
       " '/usr/lib/libgtk-3.so',\n",
       " '/usr/lib/libedit.so.0.0.68',\n",
       " '/usr/lib/libelf.so',\n",
       " '/usr/bin/groupmems',\n",
       " '/usr/bin/bzip2recover',\n",
       " '/usr/lib/xtables/libxt_ipvs.so',\n",
       " '/usr/lib/libxcb-composite.so.0.0.0',\n",
       " '/usr/bin/dirmngr-client',\n",
       " '/usr/lib/gstreamer-1.0/libgsttheora.so',\n",
       " '/usr/lib/libKF5SonnetCore.so.5',\n",
       " '/usr/lib/python3.10/site-packages/pydantic/fields.cpython-310-x86_64-linux-gnu.so',\n",
       " '/usr/lib/libQt5X11Extras.so.5.15',\n",
       " '/usr/bin/tr',\n",
       " '/usr/bin/alsoft-config',\n",
       " '/usr/lib/libKF5Solid.so',\n",
       " '/usr/lib/qt/qml/QtMultimedia/libdeclarative_multimedia.so',\n",
       " '/usr/lib/sasl2/libsasldb.so.3.0.0',\n",
       " '/usr/lib/libSvtAv1Dec.so.0.8.7',\n",
       " '/usr/lib/libinput/libinput-debug-events',\n",
       " '/usr/bin/gdk-pixbuf-thumbnailer',\n",
       " '/usr/lib/libtss2-sys.so.1',\n",
       " '/usr/lib/libQt5MultimediaWidgets.so.5.15',\n",
       " '/usr/lib/vlc/plugins/video_chroma/libgrey_yuv_plugin.so',\n",
       " '/usr/bin/omxregister-bellagio',\n",
       " '/usr/lib/libQt5InputSupport.a',\n",
       " '/usr/lib/vlc/plugins/stream_filter/libskiptags_plugin.so',\n",
       " '/usr/lib/libcurl.so.4',\n",
       " '/usr/lib/gconv/IBM297.so',\n",
       " '/usr/lib/libpsl.so.5',\n",
       " '/usr/lib/libgpg-error.so.0.33.1',\n",
       " '/usr/bin/e2image',\n",
       " '/usr/lib/libXrender.so',\n",
       " '/usr/bin/xfs_repair',\n",
       " '/usr/lib/gconv/IBM904.so',\n",
       " '/usr/lib/libss.so.2',\n",
       " '/usr/lib/libSM.so.6.0.1',\n",
       " '/usr/lib/libixml.so',\n",
       " '/usr/bin/nf-monitor',\n",
       " '/usr/lib/gconv/ISO646.so',\n",
       " '/usr/lib/libQt5XcbQpa.so.5.15',\n",
       " '/usr/lib/omxloaders/libomxdynamicloader.so.0',\n",
       " '/usr/lib/libjpeg.so',\n",
       " '/usr/lib/libjsoncpp.so',\n",
       " '/usr/lib/libxkbcommon-x11.so',\n",
       " '/usr/bin/spirv-as',\n",
       " '/usr/lib/gconv/TIS-620.so',\n",
       " '/usr/lib/libtss2-fapi.so.1',\n",
       " '/usr/lib/qt/plugins/xcbglintegrations/libqxcb-glx-integration.so',\n",
       " '/usr/lib/libdrm.so.2.4.0',\n",
       " '/usr/lib/xtables/libxt_REDIRECT.so',\n",
       " '/usr/bin/pvdisplay',\n",
       " '/usr/lib/libbd_crypto.so',\n",
       " '/usr/lib/gstreamer-1.0/libgstaudioresample.so',\n",
       " '/usr/bin/vbltest',\n",
       " '/usr/bin/jpgicc',\n",
       " '/usr/bin/iptables-legacy-save',\n",
       " '/usr/lib/libasyncns.so.0',\n",
       " '/usr/lib/libKF5DBusAddons.so.5',\n",
       " '/usr/lib/libverto.so.1.0.0',\n",
       " '/usr/lib/libQt5WaylandClient.so',\n",
       " '/usr/lib/libQt5Multimedia.so.5',\n",
       " '/usr/lib/dri/kms_swrast_dri.so',\n",
       " '/usr/lib/libgssrpc.so',\n",
       " '/usr/lib/liburcu-memb.so.8',\n",
       " '/usr/bin/shred',\n",
       " '/usr/bin/systemd-nspawn',\n",
       " '/usr/lib/libglapi.so.0',\n",
       " '/usr/lib/bash/id',\n",
       " '/usr/lib/libm-2.37.a',\n",
       " '/usr/bin/idevicepair',\n",
       " '/usr/lib/vlc/vlc-cache-gen',\n",
       " '/usr/lib/ts/waveshare.so',\n",
       " '/usr/lib/gtk-3.0/3.0.0/immodules/im-am-et.so',\n",
       " '/usr/lib/libunwind-setjmp.so.0',\n",
       " '/usr/lib/libsmartcols.so.1.1.0',\n",
       " '/usr/lib/libusb-1.0.so.0',\n",
       " '/usr/lib/gconv/IBM803.so',\n",
       " '/usr/lib/libcurl.so',\n",
       " '/usr/lib/libbd_mdraid.so',\n",
       " '/usr/lib/jack/jack_net.so',\n",
       " '/usr/lib/xtables/libxt_osf.so',\n",
       " '/usr/bin/gifclrmp',\n",
       " '/usr/bin/gapplication',\n",
       " '/usr/lib/vlc/plugins/video_filter/libripple_plugin.so',\n",
       " '/usr/lib/libpopt.a',\n",
       " '/usr/bin/bzip2',\n",
       " '/usr/lib/libxcb-present.so.0.0.0',\n",
       " '/usr/lib/libavutil.so.56',\n",
       " '/usr/bin/drmdevice',\n",
       " '/usr/bin/pk12util',\n",
       " '/usr/bin/signver',\n",
       " '/usr/lib/libicuio.so.72.1',\n",
       " '/DataCollection/venv/lib/python3.10/site-packages/pandas/_libs/indexing.cpython-310-x86_64-linux-gnu.so',\n",
       " '/usr/bin/chromedriver',\n",
       " '/usr/lib/systemd/systemd-journal-remote',\n",
       " '/usr/bin/pinentry-qt',\n",
       " '/usr/lib/libjackserver.so',\n",
       " '/usr/lib/libquadmath.so.0',\n",
       " '/usr/lib/libogg.so.0',\n",
       " '/usr/bin/pvremove',\n",
       " '/usr/lib/engines-3/loader_attic.so',\n",
       " '/usr/lib/libgstreamer-1.0.so',\n",
       " '/usr/lib/libz.so',\n",
       " '/usr/lib/libgettextlib.so',\n",
       " '/usr/lib/libgstnet-1.0.so.0',\n",
       " '/usr/lib/libGLX.so',\n",
       " '/usr/lib/gconv/ISO8859-14.so',\n",
       " '/usr/lib/libgstgl-1.0.so',\n",
       " '/DataCollection/venv/lib/python3.10/site-packages/setuptools/cli.exe',\n",
       " '/usr/lib/libv4l2rds.so.0.0.0',\n",
       " '/usr/bin/rmmod',\n",
       " '/usr/bin/qmlscene',\n",
       " '/usr/bin/systemd-machine-id-setup',\n",
       " '/usr/lib/libnsl.so',\n",
       " '/usr/bin/dvb-fe-tool',\n",
       " '/usr/lib/libKF5Completion.so.5',\n",
       " '/usr/lib/libxcb-dri2.so.0',\n",
       " '/usr/lib/libQt5Network.so.5',\n",
       " '/usr/lib/libwoff2dec.so',\n",
       " '/usr/lib/gstreamer-1.0/libgstvolume.so',\n",
       " '/usr/lib/libXrandr.so',\n",
       " '/usr/bin/memusagestat',\n",
       " '/usr/bin/pvmove',\n",
       " '/usr/lib/vlc/plugins/codec/liblpcm_plugin.so',\n",
       " '/usr/lib/vlc/plugins/spu/libmosaic_plugin.so',\n",
       " '/usr/bin/canberra-boot',\n",
       " '/usr/lib/tracker3/sparql',\n",
       " '/usr/lib/libnl-3.so.200',\n",
       " '/usr/lib/libtiff.so.6.0.0',\n",
       " '/usr/bin/psfaddtable',\n",
       " '/usr/bin/xtables-monitor',\n",
       " '/usr/lib/libXdamage.so.1.1.0',\n",
       " '/usr/lib/libgstbase-1.0.so',\n",
       " '/usr/bin/ndctl',\n",
       " '/usr/lib/libprocps.so',\n",
       " '/usr/lib/libQt5ThemeSupport.a',\n",
       " '/usr/lib/xtables/libxt_socket.so',\n",
       " '/usr/lib/qt/plugins/sqldrivers/libqsqltds.so',\n",
       " '/usr/lib/bash/fdflags',\n",
       " '/usr/bin/raw2tiff',\n",
       " '/usr/lib/python3.10/site-packages/Cython/Plex/Actions.cpython-310-x86_64-linux-gnu.so',\n",
       " '/usr/lib/getconf/POSIX_V7_LP64_OFF64',\n",
       " '/usr/lib/libattr.so',\n",
       " '/usr/bin/qmleasing-qt5',\n",
       " '/usr/bin/fribidi',\n",
       " '/usr/bin/nl-tctree-list',\n",
       " '/usr/bin/devlink',\n",
       " '/usr/lib/libevent_extra-2.1.so',\n",
       " '/usr/lib/python3.10/site-packages/tdb.cpython-310-x86_64-linux-gnu.so',\n",
       " '/usr/bin/cache_dump',\n",
       " '/usr/lib/libmodplug.so.1.0.0',\n",
       " '/usr/lib/librav1e.so.0',\n",
       " '/usr/lib/tc/m_ipt.so',\n",
       " '/usr/lib/libffi.so',\n",
       " '/usr/bin/volume_key',\n",
       " '/usr/lib/libxcb-dpms.so',\n",
       " '/usr/lib/libtdb.so.1',\n",
       " '/usr/lib/libk5crypto.so.3.1',\n",
       " '/usr/lib/libusbmuxd-2.0.so',\n",
       " '/usr/lib/python3.10/lib-dynload/_curses_panel.cpython-310-x86_64-linux-gnu.so',\n",
       " '/usr/lib/systemd/systemd-pstore',\n",
       " '/usr/bin/webpmux',\n",
       " '/usr/lib/libjack.so',\n",
       " '/usr/bin/ip6tables-restore',\n",
       " '/usr/bin/msguniq',\n",
       " '/usr/lib/libQt5EglFsKmsSupport.so.5.15.8',\n",
       " '/usr/bin/nice',\n",
       " '/usr/lib/guile/3.0/extensions/guile-gnutls-v-2.so.0.0.0',\n",
       " '/usr/lib/awk/grcat',\n",
       " '/usr/bin/iptables-save',\n",
       " '/usr/lib/libavcodec.so.58',\n",
       " '/usr/bin/factor',\n",
       " '/usr/lib/libbpf.so.1.0.1',\n",
       " '/usr/lib/libxslt.so.1',\n",
       " '/usr/bin/psl',\n",
       " '/usr/lib/libmpcdec.so.6.1.0',\n",
       " '/usr/bin/peekfd',\n",
       " '/usr/lib/liba52.so',\n",
       " '/usr/lib/xtables/libxt_time.so',\n",
       " '/usr/lib/gconv/CP1254.so',\n",
       " '/usr/lib/xtables/libipt_NETMAP.so',\n",
       " '/usr/lib/libQt5Concurrent.so.5.15.8',\n",
       " '/usr/bin/extract_a52',\n",
       " '/usr/bin/blockdev',\n",
       " '/usr/bin/nl-qdisc-list',\n",
       " '/usr/bin/irqtop',\n",
       " '/usr/lib/libdvbpsi.so.10.0.0',\n",
       " '/usr/lib/libxkbregistry.so',\n",
       " '/usr/bin/libinput',\n",
       " '/usr/lib/libcairo-script-interpreter.so.2.11708.0',\n",
       " '/DataCollection/venv/lib/python3.10/site-packages/pandas/_libs/ops.cpython-310-x86_64-linux-gnu.so',\n",
       " '/usr/lib/qt/plugins/audio/libqtmedia_pulse.so',\n",
       " '/usr/lib/libFLAC.so.12.0.0',\n",
       " '/usr/lib/libxcb-xf86dri.so.0.0.0',\n",
       " '/usr/lib/libmp3lame.so.0',\n",
       " '/usr/lib/vlc/plugins/mux/libmux_wav_plugin.so',\n",
       " '/usr/bin/vgdisplay',\n",
       " '/usr/lib/libSPIRV.a',\n",
       " '/usr/lib/libtracker-sparql-3.0.so.0',\n",
       " '/usr/lib/liburcu-signal.so',\n",
       " '/usr/lib/vlc/plugins/visualization/libgoom_plugin.so',\n",
       " '/usr/bin/orcc',\n",
       " '/usr/bin/gpgv',\n",
       " '/usr/lib/gconv/IBM864.so',\n",
       " '/usr/lib/libnettle.so',\n",
       " '/usr/lib/libQt5Quick.so',\n",
       " '/usr/lib/dri/swrast_dri.so',\n",
       " '/usr/bin/spirv-cfg',\n",
       " '/usr/bin/eject',\n",
       " '/usr/lib/libxcb-xf86dri.so',\n",
       " '/usr/lib/qt/plugins/qmltooling/libqmldbg_profiler.so',\n",
       " '/usr/bin/ausyscall',\n",
       " '/usr/bin/idn2',\n",
       " '/usr/lib/gconv/IBM1047.so',\n",
       " '/usr/lib/qt/plugins/qmltooling/libqmldbg_quickprofiler.so',\n",
       " '/usr/bin/gdk-pixbuf-pixdata',\n",
       " '/usr/lib/libstdc++.so',\n",
       " '/usr/bin/perl',\n",
       " '/usr/lib/libQt5Qml.so.5.15',\n",
       " '/usr/lib/libavahi-ui-gtk3.so.0.1.4',\n",
       " '/usr/lib/libpolkit-qt5-agent-1.so.1',\n",
       " '/usr/bin/vgmerge',\n",
       " '/usr/lib/systemd/user-generators/systemd-xdg-autostart-generator',\n",
       " '/usr/lib/libxcb-composite.so.0',\n",
       " '/usr/lib/qt/plugins/designer/kitemviews5widgets.so',\n",
       " '/usr/lib/libxcb-xkb.so.1.0.0',\n",
       " '/usr/lib/sasl2/libanonymous.so.3',\n",
       " '/usr/lib/python3.10/lib-dynload/_lzma.cpython-310-x86_64-linux-gnu.so',\n",
       " '/usr/lib/libOpenGL.so',\n",
       " '/usr/lib/gconv/IBM1097.so',\n",
       " '/usr/lib/vlc/plugins/access/libavio_plugin.so',\n",
       " '/usr/lib/sudo/libsudo_util.so.0.0.0',\n",
       " '/usr/lib/libOpenCL.so.1',\n",
       " '/usr/bin/gtk-builder-tool',\n",
       " '/usr/lib/libavdevice.so',\n",
       " '/usr/lib/qt/plugins/platforms/libqminimalegl.so',\n",
       " '/usr/lib/qt/plugins/generic/libqevdevmouseplugin.so',\n",
       " '/usr/lib/libfaad.so',\n",
       " '/usr/lib/libcrypt.so.2.0.0',\n",
       " '/usr/lib/systemd/systemd',\n",
       " '/usr/lib/python3.10/lib-dynload/_decimal.cpython-310-x86_64-linux-gnu.so',\n",
       " '/usr/lib/tracker-xdg-portal-3',\n",
       " '/usr/lib/libusb-1.0.so',\n",
       " '/usr/lib/libcairo.so.2.11708.0',\n",
       " '/usr/bin/flock',\n",
       " '/usr/lib/xtables/libebt_mark.so',\n",
       " '/usr/lib/systemd/systemd-journal-upload',\n",
       " '/usr/lib/python3.10/lib-dynload/mmap.cpython-310-x86_64-linux-gnu.so',\n",
       " '/usr/lib/libhogweed.so.6.6',\n",
       " '/usr/lib/libepoxy.so.0.0.0',\n",
       " '/usr/lib/bash/strftime',\n",
       " '/usr/lib/libupower-glib.so',\n",
       " '/usr/lib/libusb-1.0.so.0.3.0',\n",
       " '/usr/lib/librom1394.so.0',\n",
       " '/usr/lib/libmpfr.so.6.2.0',\n",
       " '/usr/lib/libz.so.1.2.13',\n",
       " '/usr/lib/libXau.so.6.0.0',\n",
       " ...]"
      ]
     },
     "execution_count": 43,
     "metadata": {},
     "output_type": "execute_result"
    }
   ],
   "source": [
    "headlist(set(DFS['man_cat'].filename))"
   ]
  },
  {
   "cell_type": "code",
   "execution_count": 38,
   "id": "37d45ef0",
   "metadata": {},
   "outputs": [
    {
     "name": "stdout",
     "output_type": "stream",
     "text": [
      "man_cat:\n",
      "\t/usr/lib/libgcrypt.so\n",
      "\t/usr/lib/libgcrypt.so.20.4.1\n",
      "\t/usr/lib/libgnutls.so.30.34.3\n",
      "\t/usr/lib/libcrypto.so\n",
      "\t/usr/lib/chromium/chromium\n",
      "\t/usr/bin/chromedriver\n",
      "\t/usr/lib/libcrypto.so.3\n",
      "\t/usr/lib/libgnutls.so\n",
      "\t/usr/lib/libgnutls.so.30\n",
      "\t/usr/lib/libgcrypt.so.20\n",
      "\t/usr/lib/libfreeblpriv3.so\n",
      "\n"
     ]
    }
   ],
   "source": [
    "find_instruction(\"Advanced Encryption Standard (AES) instructions set\", keys=['man_cat'], show=True);"
   ]
  },
  {
   "cell_type": "code",
   "execution_count": 40,
   "id": "0077d34d",
   "metadata": {},
   "outputs": [],
   "source": [
    "add_dataframe(\"tmp\", DFS['ubu_cat'][DFS['ubu_cat']['filename'] == '/usr/lib/x86_64-linux-gnu/libcrypto.so.3'])"
   ]
  },
  {
   "cell_type": "code",
   "execution_count": 44,
   "id": "53d16b56",
   "metadata": {},
   "outputs": [
    {
     "ename": "KeyError",
     "evalue": "'je'",
     "output_type": "error",
     "traceback": [
      "\u001b[0;31m---------------------------------------------------------------------------\u001b[0m",
      "\u001b[0;31mKeyError\u001b[0m                                  Traceback (most recent call last)",
      "Cell \u001b[0;32mIn[44], line 1\u001b[0m\n\u001b[0;32m----> 1\u001b[0m \u001b[43mINSTRUCTIONS_INFO\u001b[49m\u001b[43m[\u001b[49m\u001b[38;5;124;43m\"\u001b[39;49m\u001b[38;5;124;43mje\u001b[39;49m\u001b[38;5;124;43m\"\u001b[39;49m\u001b[43m]\u001b[49m\n",
      "\u001b[0;31mKeyError\u001b[0m: 'je'"
     ]
    }
   ],
   "source": [
    "INSTRUCTIONS_INFO[\"je\"]"
   ]
  },
  {
   "cell_type": "code",
   "execution_count": 68,
   "id": "91289331",
   "metadata": {},
   "outputs": [
    {
     "data": {
      "application/vnd.plotly.v1+json": {
       "config": {
        "plotlyServerURL": "https://plot.ly"
       },
       "data": [
        {
         "alignmentgroup": "True",
         "bingroup": "x",
         "histfunc": "sum",
         "histnorm": "percent",
         "hovertemplate": "variable=manjaro_categories<br>index=%{x}<br>percent of sum of value=%{y}<extra></extra>",
         "legendgroup": "manjaro_categories",
         "marker": {
          "color": "#636efa",
          "pattern": {
           "shape": ""
          }
         },
         "name": "manjaro_categories",
         "offsetgroup": "manjaro_categories",
         "orientation": "v",
         "showlegend": true,
         "type": "histogram",
         "x": [
          "Central Processing Unit (CPU) instructions set",
          "Other",
          "Single Instruction Multiple Data (SIMD) instructions set",
          "Floating-Point Unit (FPU) instructions set",
          "Advanced Encryption Standard (AES) instructions set",
          "Transactional Synchronization Extensions (TSX) instructions set",
          "Memory Protection Extensions (MPX) instructions set",
          "Virtual Machine Extensions (VMX) instructions set"
         ],
         "xaxis": "x",
         "y": [
          371073285,
          46447444,
          2052056,
          10380,
          9087,
          209,
          15,
          8
         ],
         "yaxis": "y"
        },
        {
         "alignmentgroup": "True",
         "bingroup": "x",
         "histfunc": "sum",
         "histnorm": "percent",
         "hovertemplate": "variable=opensuse_categories<br>index=%{x}<br>percent of sum of value=%{y}<extra></extra>",
         "legendgroup": "opensuse_categories",
         "marker": {
          "color": "#EF553B",
          "pattern": {
           "shape": ""
          }
         },
         "name": "opensuse_categories",
         "offsetgroup": "opensuse_categories",
         "orientation": "v",
         "showlegend": true,
         "type": "histogram",
         "x": [
          "Central Processing Unit (CPU) instructions set",
          "Other",
          "Single Instruction Multiple Data (SIMD) instructions set",
          "Floating-Point Unit (FPU) instructions set",
          "Advanced Encryption Standard (AES) instructions set",
          "Transactional Synchronization Extensions (TSX) instructions set",
          "Memory Protection Extensions (MPX) instructions set",
          "Virtual Machine Extensions (VMX) instructions set"
         ],
         "xaxis": "x",
         "y": [
          230833700,
          21498492,
          828117,
          7212,
          8230,
          134,
          13,
          10
         ],
         "yaxis": "y"
        },
        {
         "alignmentgroup": "True",
         "bingroup": "x",
         "histfunc": "sum",
         "histnorm": "percent",
         "hovertemplate": "variable=ubuntu_categories<br>index=%{x}<br>percent of sum of value=%{y}<extra></extra>",
         "legendgroup": "ubuntu_categories",
         "marker": {
          "color": "#00cc96",
          "pattern": {
           "shape": ""
          }
         },
         "name": "ubuntu_categories",
         "offsetgroup": "ubuntu_categories",
         "orientation": "v",
         "showlegend": true,
         "type": "histogram",
         "x": [
          "Central Processing Unit (CPU) instructions set",
          "Other",
          "Single Instruction Multiple Data (SIMD) instructions set",
          "Floating-Point Unit (FPU) instructions set",
          "Advanced Encryption Standard (AES) instructions set",
          "Transactional Synchronization Extensions (TSX) instructions set",
          "Memory Protection Extensions (MPX) instructions set",
          "Virtual Machine Extensions (VMX) instructions set"
         ],
         "xaxis": "x",
         "y": [
          258376780,
          27785911,
          1021755,
          10417,
          4918,
          189,
          7,
          4
         ],
         "yaxis": "y"
        }
       ],
       "layout": {
        "barmode": "group",
        "legend": {
         "orientation": "h",
         "title": {
          "text": "variable"
         },
         "tracegroupgap": 0,
         "x": 0,
         "xanchor": "left",
         "y": 1.02,
         "yanchor": "bottom"
        },
        "margin": {
         "t": 60
        },
        "template": {
         "data": {
          "bar": [
           {
            "error_x": {
             "color": "#2a3f5f"
            },
            "error_y": {
             "color": "#2a3f5f"
            },
            "marker": {
             "line": {
              "color": "#E5ECF6",
              "width": 0.5
             },
             "pattern": {
              "fillmode": "overlay",
              "size": 10,
              "solidity": 0.2
             }
            },
            "type": "bar"
           }
          ],
          "barpolar": [
           {
            "marker": {
             "line": {
              "color": "#E5ECF6",
              "width": 0.5
             },
             "pattern": {
              "fillmode": "overlay",
              "size": 10,
              "solidity": 0.2
             }
            },
            "type": "barpolar"
           }
          ],
          "carpet": [
           {
            "aaxis": {
             "endlinecolor": "#2a3f5f",
             "gridcolor": "white",
             "linecolor": "white",
             "minorgridcolor": "white",
             "startlinecolor": "#2a3f5f"
            },
            "baxis": {
             "endlinecolor": "#2a3f5f",
             "gridcolor": "white",
             "linecolor": "white",
             "minorgridcolor": "white",
             "startlinecolor": "#2a3f5f"
            },
            "type": "carpet"
           }
          ],
          "choropleth": [
           {
            "colorbar": {
             "outlinewidth": 0,
             "ticks": ""
            },
            "type": "choropleth"
           }
          ],
          "contour": [
           {
            "colorbar": {
             "outlinewidth": 0,
             "ticks": ""
            },
            "colorscale": [
             [
              0,
              "#0d0887"
             ],
             [
              0.1111111111111111,
              "#46039f"
             ],
             [
              0.2222222222222222,
              "#7201a8"
             ],
             [
              0.3333333333333333,
              "#9c179e"
             ],
             [
              0.4444444444444444,
              "#bd3786"
             ],
             [
              0.5555555555555556,
              "#d8576b"
             ],
             [
              0.6666666666666666,
              "#ed7953"
             ],
             [
              0.7777777777777778,
              "#fb9f3a"
             ],
             [
              0.8888888888888888,
              "#fdca26"
             ],
             [
              1,
              "#f0f921"
             ]
            ],
            "type": "contour"
           }
          ],
          "contourcarpet": [
           {
            "colorbar": {
             "outlinewidth": 0,
             "ticks": ""
            },
            "type": "contourcarpet"
           }
          ],
          "heatmap": [
           {
            "colorbar": {
             "outlinewidth": 0,
             "ticks": ""
            },
            "colorscale": [
             [
              0,
              "#0d0887"
             ],
             [
              0.1111111111111111,
              "#46039f"
             ],
             [
              0.2222222222222222,
              "#7201a8"
             ],
             [
              0.3333333333333333,
              "#9c179e"
             ],
             [
              0.4444444444444444,
              "#bd3786"
             ],
             [
              0.5555555555555556,
              "#d8576b"
             ],
             [
              0.6666666666666666,
              "#ed7953"
             ],
             [
              0.7777777777777778,
              "#fb9f3a"
             ],
             [
              0.8888888888888888,
              "#fdca26"
             ],
             [
              1,
              "#f0f921"
             ]
            ],
            "type": "heatmap"
           }
          ],
          "heatmapgl": [
           {
            "colorbar": {
             "outlinewidth": 0,
             "ticks": ""
            },
            "colorscale": [
             [
              0,
              "#0d0887"
             ],
             [
              0.1111111111111111,
              "#46039f"
             ],
             [
              0.2222222222222222,
              "#7201a8"
             ],
             [
              0.3333333333333333,
              "#9c179e"
             ],
             [
              0.4444444444444444,
              "#bd3786"
             ],
             [
              0.5555555555555556,
              "#d8576b"
             ],
             [
              0.6666666666666666,
              "#ed7953"
             ],
             [
              0.7777777777777778,
              "#fb9f3a"
             ],
             [
              0.8888888888888888,
              "#fdca26"
             ],
             [
              1,
              "#f0f921"
             ]
            ],
            "type": "heatmapgl"
           }
          ],
          "histogram": [
           {
            "marker": {
             "pattern": {
              "fillmode": "overlay",
              "size": 10,
              "solidity": 0.2
             }
            },
            "type": "histogram"
           }
          ],
          "histogram2d": [
           {
            "colorbar": {
             "outlinewidth": 0,
             "ticks": ""
            },
            "colorscale": [
             [
              0,
              "#0d0887"
             ],
             [
              0.1111111111111111,
              "#46039f"
             ],
             [
              0.2222222222222222,
              "#7201a8"
             ],
             [
              0.3333333333333333,
              "#9c179e"
             ],
             [
              0.4444444444444444,
              "#bd3786"
             ],
             [
              0.5555555555555556,
              "#d8576b"
             ],
             [
              0.6666666666666666,
              "#ed7953"
             ],
             [
              0.7777777777777778,
              "#fb9f3a"
             ],
             [
              0.8888888888888888,
              "#fdca26"
             ],
             [
              1,
              "#f0f921"
             ]
            ],
            "type": "histogram2d"
           }
          ],
          "histogram2dcontour": [
           {
            "colorbar": {
             "outlinewidth": 0,
             "ticks": ""
            },
            "colorscale": [
             [
              0,
              "#0d0887"
             ],
             [
              0.1111111111111111,
              "#46039f"
             ],
             [
              0.2222222222222222,
              "#7201a8"
             ],
             [
              0.3333333333333333,
              "#9c179e"
             ],
             [
              0.4444444444444444,
              "#bd3786"
             ],
             [
              0.5555555555555556,
              "#d8576b"
             ],
             [
              0.6666666666666666,
              "#ed7953"
             ],
             [
              0.7777777777777778,
              "#fb9f3a"
             ],
             [
              0.8888888888888888,
              "#fdca26"
             ],
             [
              1,
              "#f0f921"
             ]
            ],
            "type": "histogram2dcontour"
           }
          ],
          "mesh3d": [
           {
            "colorbar": {
             "outlinewidth": 0,
             "ticks": ""
            },
            "type": "mesh3d"
           }
          ],
          "parcoords": [
           {
            "line": {
             "colorbar": {
              "outlinewidth": 0,
              "ticks": ""
             }
            },
            "type": "parcoords"
           }
          ],
          "pie": [
           {
            "automargin": true,
            "type": "pie"
           }
          ],
          "scatter": [
           {
            "fillpattern": {
             "fillmode": "overlay",
             "size": 10,
             "solidity": 0.2
            },
            "type": "scatter"
           }
          ],
          "scatter3d": [
           {
            "line": {
             "colorbar": {
              "outlinewidth": 0,
              "ticks": ""
             }
            },
            "marker": {
             "colorbar": {
              "outlinewidth": 0,
              "ticks": ""
             }
            },
            "type": "scatter3d"
           }
          ],
          "scattercarpet": [
           {
            "marker": {
             "colorbar": {
              "outlinewidth": 0,
              "ticks": ""
             }
            },
            "type": "scattercarpet"
           }
          ],
          "scattergeo": [
           {
            "marker": {
             "colorbar": {
              "outlinewidth": 0,
              "ticks": ""
             }
            },
            "type": "scattergeo"
           }
          ],
          "scattergl": [
           {
            "marker": {
             "colorbar": {
              "outlinewidth": 0,
              "ticks": ""
             }
            },
            "type": "scattergl"
           }
          ],
          "scattermapbox": [
           {
            "marker": {
             "colorbar": {
              "outlinewidth": 0,
              "ticks": ""
             }
            },
            "type": "scattermapbox"
           }
          ],
          "scatterpolar": [
           {
            "marker": {
             "colorbar": {
              "outlinewidth": 0,
              "ticks": ""
             }
            },
            "type": "scatterpolar"
           }
          ],
          "scatterpolargl": [
           {
            "marker": {
             "colorbar": {
              "outlinewidth": 0,
              "ticks": ""
             }
            },
            "type": "scatterpolargl"
           }
          ],
          "scatterternary": [
           {
            "marker": {
             "colorbar": {
              "outlinewidth": 0,
              "ticks": ""
             }
            },
            "type": "scatterternary"
           }
          ],
          "surface": [
           {
            "colorbar": {
             "outlinewidth": 0,
             "ticks": ""
            },
            "colorscale": [
             [
              0,
              "#0d0887"
             ],
             [
              0.1111111111111111,
              "#46039f"
             ],
             [
              0.2222222222222222,
              "#7201a8"
             ],
             [
              0.3333333333333333,
              "#9c179e"
             ],
             [
              0.4444444444444444,
              "#bd3786"
             ],
             [
              0.5555555555555556,
              "#d8576b"
             ],
             [
              0.6666666666666666,
              "#ed7953"
             ],
             [
              0.7777777777777778,
              "#fb9f3a"
             ],
             [
              0.8888888888888888,
              "#fdca26"
             ],
             [
              1,
              "#f0f921"
             ]
            ],
            "type": "surface"
           }
          ],
          "table": [
           {
            "cells": {
             "fill": {
              "color": "#EBF0F8"
             },
             "line": {
              "color": "white"
             }
            },
            "header": {
             "fill": {
              "color": "#C8D4E3"
             },
             "line": {
              "color": "white"
             }
            },
            "type": "table"
           }
          ]
         },
         "layout": {
          "annotationdefaults": {
           "arrowcolor": "#2a3f5f",
           "arrowhead": 0,
           "arrowwidth": 1
          },
          "autotypenumbers": "strict",
          "coloraxis": {
           "colorbar": {
            "outlinewidth": 0,
            "ticks": ""
           }
          },
          "colorscale": {
           "diverging": [
            [
             0,
             "#8e0152"
            ],
            [
             0.1,
             "#c51b7d"
            ],
            [
             0.2,
             "#de77ae"
            ],
            [
             0.3,
             "#f1b6da"
            ],
            [
             0.4,
             "#fde0ef"
            ],
            [
             0.5,
             "#f7f7f7"
            ],
            [
             0.6,
             "#e6f5d0"
            ],
            [
             0.7,
             "#b8e186"
            ],
            [
             0.8,
             "#7fbc41"
            ],
            [
             0.9,
             "#4d9221"
            ],
            [
             1,
             "#276419"
            ]
           ],
           "sequential": [
            [
             0,
             "#0d0887"
            ],
            [
             0.1111111111111111,
             "#46039f"
            ],
            [
             0.2222222222222222,
             "#7201a8"
            ],
            [
             0.3333333333333333,
             "#9c179e"
            ],
            [
             0.4444444444444444,
             "#bd3786"
            ],
            [
             0.5555555555555556,
             "#d8576b"
            ],
            [
             0.6666666666666666,
             "#ed7953"
            ],
            [
             0.7777777777777778,
             "#fb9f3a"
            ],
            [
             0.8888888888888888,
             "#fdca26"
            ],
            [
             1,
             "#f0f921"
            ]
           ],
           "sequentialminus": [
            [
             0,
             "#0d0887"
            ],
            [
             0.1111111111111111,
             "#46039f"
            ],
            [
             0.2222222222222222,
             "#7201a8"
            ],
            [
             0.3333333333333333,
             "#9c179e"
            ],
            [
             0.4444444444444444,
             "#bd3786"
            ],
            [
             0.5555555555555556,
             "#d8576b"
            ],
            [
             0.6666666666666666,
             "#ed7953"
            ],
            [
             0.7777777777777778,
             "#fb9f3a"
            ],
            [
             0.8888888888888888,
             "#fdca26"
            ],
            [
             1,
             "#f0f921"
            ]
           ]
          },
          "colorway": [
           "#636efa",
           "#EF553B",
           "#00cc96",
           "#ab63fa",
           "#FFA15A",
           "#19d3f3",
           "#FF6692",
           "#B6E880",
           "#FF97FF",
           "#FECB52"
          ],
          "font": {
           "color": "#2a3f5f"
          },
          "geo": {
           "bgcolor": "white",
           "lakecolor": "white",
           "landcolor": "#E5ECF6",
           "showlakes": true,
           "showland": true,
           "subunitcolor": "white"
          },
          "hoverlabel": {
           "align": "left"
          },
          "hovermode": "closest",
          "mapbox": {
           "style": "light"
          },
          "paper_bgcolor": "white",
          "plot_bgcolor": "#E5ECF6",
          "polar": {
           "angularaxis": {
            "gridcolor": "white",
            "linecolor": "white",
            "ticks": ""
           },
           "bgcolor": "#E5ECF6",
           "radialaxis": {
            "gridcolor": "white",
            "linecolor": "white",
            "ticks": ""
           }
          },
          "scene": {
           "xaxis": {
            "backgroundcolor": "#E5ECF6",
            "gridcolor": "white",
            "gridwidth": 2,
            "linecolor": "white",
            "showbackground": true,
            "ticks": "",
            "zerolinecolor": "white"
           },
           "yaxis": {
            "backgroundcolor": "#E5ECF6",
            "gridcolor": "white",
            "gridwidth": 2,
            "linecolor": "white",
            "showbackground": true,
            "ticks": "",
            "zerolinecolor": "white"
           },
           "zaxis": {
            "backgroundcolor": "#E5ECF6",
            "gridcolor": "white",
            "gridwidth": 2,
            "linecolor": "white",
            "showbackground": true,
            "ticks": "",
            "zerolinecolor": "white"
           }
          },
          "shapedefaults": {
           "line": {
            "color": "#2a3f5f"
           }
          },
          "ternary": {
           "aaxis": {
            "gridcolor": "white",
            "linecolor": "white",
            "ticks": ""
           },
           "baxis": {
            "gridcolor": "white",
            "linecolor": "white",
            "ticks": ""
           },
           "bgcolor": "#E5ECF6",
           "caxis": {
            "gridcolor": "white",
            "linecolor": "white",
            "ticks": ""
           }
          },
          "title": {
           "x": 0.05
          },
          "xaxis": {
           "automargin": true,
           "gridcolor": "white",
           "linecolor": "white",
           "ticks": "",
           "title": {
            "standoff": 15
           },
           "zerolinecolor": "white",
           "zerolinewidth": 2
          },
          "yaxis": {
           "automargin": true,
           "gridcolor": "white",
           "linecolor": "white",
           "ticks": "",
           "title": {
            "standoff": 15
           },
           "zerolinecolor": "white",
           "zerolinewidth": 2
          }
         }
        },
        "width": 1000,
        "xaxis": {
         "anchor": "y",
         "domain": [
          0,
          1
         ],
         "title": {
          "text": "index"
         }
        },
        "yaxis": {
         "anchor": "x",
         "domain": [
          0,
          1
         ],
         "title": {
          "text": "percent of sum of value"
         }
        }
       }
      },
      "text/html": [
       "<div>                            <div id=\"a574d231-781a-48a3-bc8c-c5cb4851c7ca\" class=\"plotly-graph-div\" style=\"height:525px; width:1000px;\"></div>            <script type=\"text/javascript\">                require([\"plotly\"], function(Plotly) {                    window.PLOTLYENV=window.PLOTLYENV || {};                                    if (document.getElementById(\"a574d231-781a-48a3-bc8c-c5cb4851c7ca\")) {                    Plotly.newPlot(                        \"a574d231-781a-48a3-bc8c-c5cb4851c7ca\",                        [{\"alignmentgroup\":\"True\",\"bingroup\":\"x\",\"histfunc\":\"sum\",\"histnorm\":\"percent\",\"hovertemplate\":\"variable=manjaro_categories<br>index=%{x}<br>percent of sum of value=%{y}<extra></extra>\",\"legendgroup\":\"manjaro_categories\",\"marker\":{\"color\":\"#636efa\",\"pattern\":{\"shape\":\"\"}},\"name\":\"manjaro_categories\",\"offsetgroup\":\"manjaro_categories\",\"orientation\":\"v\",\"showlegend\":true,\"x\":[\"Central Processing Unit (CPU) instructions set\",\"Other\",\"Single Instruction Multiple Data (SIMD) instructions set\",\"Floating-Point Unit (FPU) instructions set\",\"Advanced Encryption Standard (AES) instructions set\",\"Transactional Synchronization Extensions (TSX) instructions set\",\"Memory Protection Extensions (MPX) instructions set\",\"Virtual Machine Extensions (VMX) instructions set\"],\"xaxis\":\"x\",\"y\":[371073285,46447444,2052056,10380,9087,209,15,8],\"yaxis\":\"y\",\"type\":\"histogram\"},{\"alignmentgroup\":\"True\",\"bingroup\":\"x\",\"histfunc\":\"sum\",\"histnorm\":\"percent\",\"hovertemplate\":\"variable=opensuse_categories<br>index=%{x}<br>percent of sum of value=%{y}<extra></extra>\",\"legendgroup\":\"opensuse_categories\",\"marker\":{\"color\":\"#EF553B\",\"pattern\":{\"shape\":\"\"}},\"name\":\"opensuse_categories\",\"offsetgroup\":\"opensuse_categories\",\"orientation\":\"v\",\"showlegend\":true,\"x\":[\"Central Processing Unit (CPU) instructions set\",\"Other\",\"Single Instruction Multiple Data (SIMD) instructions set\",\"Floating-Point Unit (FPU) instructions set\",\"Advanced Encryption Standard (AES) instructions set\",\"Transactional Synchronization Extensions (TSX) instructions set\",\"Memory Protection Extensions (MPX) instructions set\",\"Virtual Machine Extensions (VMX) instructions set\"],\"xaxis\":\"x\",\"y\":[230833700,21498492,828117,7212,8230,134,13,10],\"yaxis\":\"y\",\"type\":\"histogram\"},{\"alignmentgroup\":\"True\",\"bingroup\":\"x\",\"histfunc\":\"sum\",\"histnorm\":\"percent\",\"hovertemplate\":\"variable=ubuntu_categories<br>index=%{x}<br>percent of sum of value=%{y}<extra></extra>\",\"legendgroup\":\"ubuntu_categories\",\"marker\":{\"color\":\"#00cc96\",\"pattern\":{\"shape\":\"\"}},\"name\":\"ubuntu_categories\",\"offsetgroup\":\"ubuntu_categories\",\"orientation\":\"v\",\"showlegend\":true,\"x\":[\"Central Processing Unit (CPU) instructions set\",\"Other\",\"Single Instruction Multiple Data (SIMD) instructions set\",\"Floating-Point Unit (FPU) instructions set\",\"Advanced Encryption Standard (AES) instructions set\",\"Transactional Synchronization Extensions (TSX) instructions set\",\"Memory Protection Extensions (MPX) instructions set\",\"Virtual Machine Extensions (VMX) instructions set\"],\"xaxis\":\"x\",\"y\":[258376780,27785911,1021755,10417,4918,189,7,4],\"yaxis\":\"y\",\"type\":\"histogram\"}],                        {\"template\":{\"data\":{\"histogram2dcontour\":[{\"type\":\"histogram2dcontour\",\"colorbar\":{\"outlinewidth\":0,\"ticks\":\"\"},\"colorscale\":[[0.0,\"#0d0887\"],[0.1111111111111111,\"#46039f\"],[0.2222222222222222,\"#7201a8\"],[0.3333333333333333,\"#9c179e\"],[0.4444444444444444,\"#bd3786\"],[0.5555555555555556,\"#d8576b\"],[0.6666666666666666,\"#ed7953\"],[0.7777777777777778,\"#fb9f3a\"],[0.8888888888888888,\"#fdca26\"],[1.0,\"#f0f921\"]]}],\"choropleth\":[{\"type\":\"choropleth\",\"colorbar\":{\"outlinewidth\":0,\"ticks\":\"\"}}],\"histogram2d\":[{\"type\":\"histogram2d\",\"colorbar\":{\"outlinewidth\":0,\"ticks\":\"\"},\"colorscale\":[[0.0,\"#0d0887\"],[0.1111111111111111,\"#46039f\"],[0.2222222222222222,\"#7201a8\"],[0.3333333333333333,\"#9c179e\"],[0.4444444444444444,\"#bd3786\"],[0.5555555555555556,\"#d8576b\"],[0.6666666666666666,\"#ed7953\"],[0.7777777777777778,\"#fb9f3a\"],[0.8888888888888888,\"#fdca26\"],[1.0,\"#f0f921\"]]}],\"heatmap\":[{\"type\":\"heatmap\",\"colorbar\":{\"outlinewidth\":0,\"ticks\":\"\"},\"colorscale\":[[0.0,\"#0d0887\"],[0.1111111111111111,\"#46039f\"],[0.2222222222222222,\"#7201a8\"],[0.3333333333333333,\"#9c179e\"],[0.4444444444444444,\"#bd3786\"],[0.5555555555555556,\"#d8576b\"],[0.6666666666666666,\"#ed7953\"],[0.7777777777777778,\"#fb9f3a\"],[0.8888888888888888,\"#fdca26\"],[1.0,\"#f0f921\"]]}],\"heatmapgl\":[{\"type\":\"heatmapgl\",\"colorbar\":{\"outlinewidth\":0,\"ticks\":\"\"},\"colorscale\":[[0.0,\"#0d0887\"],[0.1111111111111111,\"#46039f\"],[0.2222222222222222,\"#7201a8\"],[0.3333333333333333,\"#9c179e\"],[0.4444444444444444,\"#bd3786\"],[0.5555555555555556,\"#d8576b\"],[0.6666666666666666,\"#ed7953\"],[0.7777777777777778,\"#fb9f3a\"],[0.8888888888888888,\"#fdca26\"],[1.0,\"#f0f921\"]]}],\"contourcarpet\":[{\"type\":\"contourcarpet\",\"colorbar\":{\"outlinewidth\":0,\"ticks\":\"\"}}],\"contour\":[{\"type\":\"contour\",\"colorbar\":{\"outlinewidth\":0,\"ticks\":\"\"},\"colorscale\":[[0.0,\"#0d0887\"],[0.1111111111111111,\"#46039f\"],[0.2222222222222222,\"#7201a8\"],[0.3333333333333333,\"#9c179e\"],[0.4444444444444444,\"#bd3786\"],[0.5555555555555556,\"#d8576b\"],[0.6666666666666666,\"#ed7953\"],[0.7777777777777778,\"#fb9f3a\"],[0.8888888888888888,\"#fdca26\"],[1.0,\"#f0f921\"]]}],\"surface\":[{\"type\":\"surface\",\"colorbar\":{\"outlinewidth\":0,\"ticks\":\"\"},\"colorscale\":[[0.0,\"#0d0887\"],[0.1111111111111111,\"#46039f\"],[0.2222222222222222,\"#7201a8\"],[0.3333333333333333,\"#9c179e\"],[0.4444444444444444,\"#bd3786\"],[0.5555555555555556,\"#d8576b\"],[0.6666666666666666,\"#ed7953\"],[0.7777777777777778,\"#fb9f3a\"],[0.8888888888888888,\"#fdca26\"],[1.0,\"#f0f921\"]]}],\"mesh3d\":[{\"type\":\"mesh3d\",\"colorbar\":{\"outlinewidth\":0,\"ticks\":\"\"}}],\"scatter\":[{\"fillpattern\":{\"fillmode\":\"overlay\",\"size\":10,\"solidity\":0.2},\"type\":\"scatter\"}],\"parcoords\":[{\"type\":\"parcoords\",\"line\":{\"colorbar\":{\"outlinewidth\":0,\"ticks\":\"\"}}}],\"scatterpolargl\":[{\"type\":\"scatterpolargl\",\"marker\":{\"colorbar\":{\"outlinewidth\":0,\"ticks\":\"\"}}}],\"bar\":[{\"error_x\":{\"color\":\"#2a3f5f\"},\"error_y\":{\"color\":\"#2a3f5f\"},\"marker\":{\"line\":{\"color\":\"#E5ECF6\",\"width\":0.5},\"pattern\":{\"fillmode\":\"overlay\",\"size\":10,\"solidity\":0.2}},\"type\":\"bar\"}],\"scattergeo\":[{\"type\":\"scattergeo\",\"marker\":{\"colorbar\":{\"outlinewidth\":0,\"ticks\":\"\"}}}],\"scatterpolar\":[{\"type\":\"scatterpolar\",\"marker\":{\"colorbar\":{\"outlinewidth\":0,\"ticks\":\"\"}}}],\"histogram\":[{\"marker\":{\"pattern\":{\"fillmode\":\"overlay\",\"size\":10,\"solidity\":0.2}},\"type\":\"histogram\"}],\"scattergl\":[{\"type\":\"scattergl\",\"marker\":{\"colorbar\":{\"outlinewidth\":0,\"ticks\":\"\"}}}],\"scatter3d\":[{\"type\":\"scatter3d\",\"line\":{\"colorbar\":{\"outlinewidth\":0,\"ticks\":\"\"}},\"marker\":{\"colorbar\":{\"outlinewidth\":0,\"ticks\":\"\"}}}],\"scattermapbox\":[{\"type\":\"scattermapbox\",\"marker\":{\"colorbar\":{\"outlinewidth\":0,\"ticks\":\"\"}}}],\"scatterternary\":[{\"type\":\"scatterternary\",\"marker\":{\"colorbar\":{\"outlinewidth\":0,\"ticks\":\"\"}}}],\"scattercarpet\":[{\"type\":\"scattercarpet\",\"marker\":{\"colorbar\":{\"outlinewidth\":0,\"ticks\":\"\"}}}],\"carpet\":[{\"aaxis\":{\"endlinecolor\":\"#2a3f5f\",\"gridcolor\":\"white\",\"linecolor\":\"white\",\"minorgridcolor\":\"white\",\"startlinecolor\":\"#2a3f5f\"},\"baxis\":{\"endlinecolor\":\"#2a3f5f\",\"gridcolor\":\"white\",\"linecolor\":\"white\",\"minorgridcolor\":\"white\",\"startlinecolor\":\"#2a3f5f\"},\"type\":\"carpet\"}],\"table\":[{\"cells\":{\"fill\":{\"color\":\"#EBF0F8\"},\"line\":{\"color\":\"white\"}},\"header\":{\"fill\":{\"color\":\"#C8D4E3\"},\"line\":{\"color\":\"white\"}},\"type\":\"table\"}],\"barpolar\":[{\"marker\":{\"line\":{\"color\":\"#E5ECF6\",\"width\":0.5},\"pattern\":{\"fillmode\":\"overlay\",\"size\":10,\"solidity\":0.2}},\"type\":\"barpolar\"}],\"pie\":[{\"automargin\":true,\"type\":\"pie\"}]},\"layout\":{\"autotypenumbers\":\"strict\",\"colorway\":[\"#636efa\",\"#EF553B\",\"#00cc96\",\"#ab63fa\",\"#FFA15A\",\"#19d3f3\",\"#FF6692\",\"#B6E880\",\"#FF97FF\",\"#FECB52\"],\"font\":{\"color\":\"#2a3f5f\"},\"hovermode\":\"closest\",\"hoverlabel\":{\"align\":\"left\"},\"paper_bgcolor\":\"white\",\"plot_bgcolor\":\"#E5ECF6\",\"polar\":{\"bgcolor\":\"#E5ECF6\",\"angularaxis\":{\"gridcolor\":\"white\",\"linecolor\":\"white\",\"ticks\":\"\"},\"radialaxis\":{\"gridcolor\":\"white\",\"linecolor\":\"white\",\"ticks\":\"\"}},\"ternary\":{\"bgcolor\":\"#E5ECF6\",\"aaxis\":{\"gridcolor\":\"white\",\"linecolor\":\"white\",\"ticks\":\"\"},\"baxis\":{\"gridcolor\":\"white\",\"linecolor\":\"white\",\"ticks\":\"\"},\"caxis\":{\"gridcolor\":\"white\",\"linecolor\":\"white\",\"ticks\":\"\"}},\"coloraxis\":{\"colorbar\":{\"outlinewidth\":0,\"ticks\":\"\"}},\"colorscale\":{\"sequential\":[[0.0,\"#0d0887\"],[0.1111111111111111,\"#46039f\"],[0.2222222222222222,\"#7201a8\"],[0.3333333333333333,\"#9c179e\"],[0.4444444444444444,\"#bd3786\"],[0.5555555555555556,\"#d8576b\"],[0.6666666666666666,\"#ed7953\"],[0.7777777777777778,\"#fb9f3a\"],[0.8888888888888888,\"#fdca26\"],[1.0,\"#f0f921\"]],\"sequentialminus\":[[0.0,\"#0d0887\"],[0.1111111111111111,\"#46039f\"],[0.2222222222222222,\"#7201a8\"],[0.3333333333333333,\"#9c179e\"],[0.4444444444444444,\"#bd3786\"],[0.5555555555555556,\"#d8576b\"],[0.6666666666666666,\"#ed7953\"],[0.7777777777777778,\"#fb9f3a\"],[0.8888888888888888,\"#fdca26\"],[1.0,\"#f0f921\"]],\"diverging\":[[0,\"#8e0152\"],[0.1,\"#c51b7d\"],[0.2,\"#de77ae\"],[0.3,\"#f1b6da\"],[0.4,\"#fde0ef\"],[0.5,\"#f7f7f7\"],[0.6,\"#e6f5d0\"],[0.7,\"#b8e186\"],[0.8,\"#7fbc41\"],[0.9,\"#4d9221\"],[1,\"#276419\"]]},\"xaxis\":{\"gridcolor\":\"white\",\"linecolor\":\"white\",\"ticks\":\"\",\"title\":{\"standoff\":15},\"zerolinecolor\":\"white\",\"automargin\":true,\"zerolinewidth\":2},\"yaxis\":{\"gridcolor\":\"white\",\"linecolor\":\"white\",\"ticks\":\"\",\"title\":{\"standoff\":15},\"zerolinecolor\":\"white\",\"automargin\":true,\"zerolinewidth\":2},\"scene\":{\"xaxis\":{\"backgroundcolor\":\"#E5ECF6\",\"gridcolor\":\"white\",\"linecolor\":\"white\",\"showbackground\":true,\"ticks\":\"\",\"zerolinecolor\":\"white\",\"gridwidth\":2},\"yaxis\":{\"backgroundcolor\":\"#E5ECF6\",\"gridcolor\":\"white\",\"linecolor\":\"white\",\"showbackground\":true,\"ticks\":\"\",\"zerolinecolor\":\"white\",\"gridwidth\":2},\"zaxis\":{\"backgroundcolor\":\"#E5ECF6\",\"gridcolor\":\"white\",\"linecolor\":\"white\",\"showbackground\":true,\"ticks\":\"\",\"zerolinecolor\":\"white\",\"gridwidth\":2}},\"shapedefaults\":{\"line\":{\"color\":\"#2a3f5f\"}},\"annotationdefaults\":{\"arrowcolor\":\"#2a3f5f\",\"arrowhead\":0,\"arrowwidth\":1},\"geo\":{\"bgcolor\":\"white\",\"landcolor\":\"#E5ECF6\",\"subunitcolor\":\"white\",\"showland\":true,\"showlakes\":true,\"lakecolor\":\"white\"},\"title\":{\"x\":0.05},\"mapbox\":{\"style\":\"light\"}}},\"xaxis\":{\"anchor\":\"y\",\"domain\":[0.0,1.0],\"title\":{\"text\":\"index\"}},\"yaxis\":{\"anchor\":\"x\",\"domain\":[0.0,1.0],\"title\":{\"text\":\"percent of sum of value\"}},\"legend\":{\"title\":{\"text\":\"variable\"},\"tracegroupgap\":0,\"orientation\":\"h\",\"yanchor\":\"bottom\",\"y\":1.02,\"xanchor\":\"left\",\"x\":0},\"margin\":{\"t\":60},\"barmode\":\"group\",\"width\":1000},                        {\"responsive\": true}                    ).then(function(){\n",
       "                            \n",
       "var gd = document.getElementById('a574d231-781a-48a3-bc8c-c5cb4851c7ca');\n",
       "var x = new MutationObserver(function (mutations, observer) {{\n",
       "        var display = window.getComputedStyle(gd).display;\n",
       "        if (!display || display === 'none') {{\n",
       "            console.log([gd, 'removed!']);\n",
       "            Plotly.purge(gd);\n",
       "            observer.disconnect();\n",
       "        }}\n",
       "}});\n",
       "\n",
       "// Listen for the removal of the full notebook cells\n",
       "var notebookContainer = gd.closest('#notebook-container');\n",
       "if (notebookContainer) {{\n",
       "    x.observe(notebookContainer, {childList: true});\n",
       "}}\n",
       "\n",
       "// Listen for the clearing of the current output cell\n",
       "var outputEl = gd.closest('.output');\n",
       "if (outputEl) {{\n",
       "    x.observe(outputEl, {childList: true});\n",
       "}}\n",
       "\n",
       "                        })                };                });            </script>        </div>"
      ]
     },
     "metadata": {},
     "output_type": "display_data"
    }
   ],
   "source": [
    "sum_categories_histogram(percent=True, width=1000)"
   ]
  },
  {
   "cell_type": "code",
   "execution_count": 73,
   "id": "f9908bec",
   "metadata": {},
   "outputs": [
    {
     "ename": "KeyError",
     "evalue": "'repz'",
     "output_type": "error",
     "traceback": [
      "\u001b[0;31m---------------------------------------------------------------------------\u001b[0m",
      "\u001b[0;31mKeyError\u001b[0m                                  Traceback (most recent call last)",
      "Cell \u001b[0;32mIn[73], line 1\u001b[0m\n\u001b[0;32m----> 1\u001b[0m \u001b[43mINSTRUCTIONS_INFO\u001b[49m\u001b[43m[\u001b[49m\u001b[38;5;124;43m\"\u001b[39;49m\u001b[38;5;124;43mrepz\u001b[39;49m\u001b[38;5;124;43m\"\u001b[39;49m\u001b[43m]\u001b[49m\n",
      "\u001b[0;31mKeyError\u001b[0m: 'repz'"
     ]
    }
   ],
   "source": [
    "INSTRUCTIONS_INFO[\"repz\"]"
   ]
  },
  {
   "cell_type": "code",
   "execution_count": 25,
   "id": "baa19ceb",
   "metadata": {},
   "outputs": [
    {
     "data": {
      "application/vnd.plotly.v1+json": {
       "config": {
        "plotlyServerURL": "https://plot.ly"
       },
       "data": [
        {
         "alignmentgroup": "True",
         "bingroup": "x",
         "histfunc": "sum",
         "histnorm": "percent",
         "hovertemplate": "variable=manjaro_groups<br>index=%{x}<br>percent of sum of value=%{y}<extra></extra>",
         "legendgroup": "manjaro_groups",
         "marker": {
          "color": "#636efa",
          "pattern": {
           "shape": ""
          }
         },
         "name": "manjaro_groups",
         "offsetgroup": "manjaro_groups",
         "orientation": "v",
         "showlegend": true,
         "type": "histogram",
         "x": [
          "System Instructions",
          "Control Transfer Instructions",
          "Binary Arithmetic Instructions",
          "Other",
          "Miscellaneous Instructions",
          "Data Transfer Instructions",
          "Logical Instructions",
          "Bit and Byte Instructions",
          "Shift and Rotate Instructions",
          "I/O and String Instructions",
          "Insert Instructions",
          "Fused Arithmetic Instructions",
          "Shuffle Instructions",
          "Extract Instructions",
          "Cacheability Control, Prefetch and Ordering Instructions",
          "Bit manipulation instructions",
          "Unpack Instructions",
          "AVX Initialization Instructions",
          "Primitives of Functions",
          "Pack Instructions",
          "High Level Procedure Instructions",
          "Packed Arithmetic Instructions",
          "Conversion Instructions",
          "Comparison Instructions",
          "Advanced Encryption Standard (AES) instructions set",
          "Flag Control Instructions",
          "Load Constants Instructions",
          "Control Instructions",
          "Blending Instructions",
          "Gather Instructions",
          "Opmask Instructions",
          "Broadcast Instructions",
          "Secure Hash Algorithm Instructions",
          "Permute Instructions",
          "Basic Arithmetic Instructions",
          "Scatter Instructions",
          "Transactional Synchronization Extensions (TSX) instructions set",
          "State Management Instructions",
          "Transcendental Instructions",
          "Random Number Generator Instructions",
          "Expand Instructions",
          "Compress Instructions",
          "FPU and SIMD State Management Instructions",
          "Memory Protection Extensions (MPX) instructions set",
          "VMCS-maintenance Instructions",
          "Segment Register Instructions",
          "Decimal Arithmetic Instructions"
         ],
         "xaxis": "x",
         "y": [
          139266497,
          79876348,
          43035175,
          46447444,
          36170770,
          29827813,
          17800306,
          17302108,
          7380731,
          1609133,
          141057,
          87549,
          131060,
          93043,
          70896,
          45187,
          59787,
          45628,
          40636,
          32002,
          26341,
          21653,
          24398,
          11595,
          9087,
          6510,
          4192,
          3692,
          4612,
          3880,
          2903,
          3652,
          2779,
          2480,
          637,
          239,
          209,
          192,
          84,
          54,
          48,
          36,
          11,
          15,
          8,
          6,
          1
         ],
         "yaxis": "y"
        },
        {
         "alignmentgroup": "True",
         "bingroup": "x",
         "histfunc": "sum",
         "histnorm": "percent",
         "hovertemplate": "variable=opensuse_groups<br>index=%{x}<br>percent of sum of value=%{y}<extra></extra>",
         "legendgroup": "opensuse_groups",
         "marker": {
          "color": "#EF553B",
          "pattern": {
           "shape": ""
          }
         },
         "name": "opensuse_groups",
         "offsetgroup": "opensuse_groups",
         "orientation": "v",
         "showlegend": true,
         "type": "histogram",
         "x": [
          "System Instructions",
          "Control Transfer Instructions",
          "Binary Arithmetic Instructions",
          "Other",
          "Miscellaneous Instructions",
          "Data Transfer Instructions",
          "Logical Instructions",
          "Bit and Byte Instructions",
          "Shift and Rotate Instructions",
          "I/O and String Instructions",
          "Insert Instructions",
          "Fused Arithmetic Instructions",
          "Shuffle Instructions",
          "Extract Instructions",
          "Cacheability Control, Prefetch and Ordering Instructions",
          "Bit manipulation instructions",
          "Unpack Instructions",
          "AVX Initialization Instructions",
          "Primitives of Functions",
          "Pack Instructions",
          "High Level Procedure Instructions",
          "Packed Arithmetic Instructions",
          "Conversion Instructions",
          "Comparison Instructions",
          "Advanced Encryption Standard (AES) instructions set",
          "Flag Control Instructions",
          "Load Constants Instructions",
          "Control Instructions",
          "Blending Instructions",
          "Gather Instructions",
          "Opmask Instructions",
          "Broadcast Instructions",
          "Secure Hash Algorithm Instructions",
          "Permute Instructions",
          "Basic Arithmetic Instructions",
          "Scatter Instructions",
          "Transactional Synchronization Extensions (TSX) instructions set",
          "State Management Instructions",
          "Transcendental Instructions",
          "Random Number Generator Instructions",
          "Expand Instructions",
          "Compress Instructions",
          "FPU and SIMD State Management Instructions",
          "Memory Protection Extensions (MPX) instructions set",
          "VMCS-maintenance Instructions",
          "Segment Register Instructions",
          "Decimal Arithmetic Instructions"
         ],
         "xaxis": "x",
         "y": [
          84573712,
          54580006,
          25062681,
          21498492,
          22495862,
          18448820,
          10780910,
          10431309,
          3976356,
          926926,
          41074,
          71916,
          26236,
          30547,
          43481,
          38917,
          20746,
          27670,
          10284,
          13205,
          8757,
          14348,
          8665,
          7053,
          8230,
          8950,
          1897,
          2745,
          3035,
          3146,
          2660,
          2646,
          2818,
          244,
          933,
          207,
          134,
          72,
          50,
          53,
          48,
          24,
          11,
          13,
          10,
          7,
          2
         ],
         "yaxis": "y"
        },
        {
         "alignmentgroup": "True",
         "bingroup": "x",
         "histfunc": "sum",
         "histnorm": "percent",
         "hovertemplate": "variable=ubuntu_groups<br>index=%{x}<br>percent of sum of value=%{y}<extra></extra>",
         "legendgroup": "ubuntu_groups",
         "marker": {
          "color": "#00cc96",
          "pattern": {
           "shape": ""
          }
         },
         "name": "ubuntu_groups",
         "offsetgroup": "ubuntu_groups",
         "orientation": "v",
         "showlegend": true,
         "type": "histogram",
         "x": [
          "System Instructions",
          "Control Transfer Instructions",
          "Binary Arithmetic Instructions",
          "Other",
          "Miscellaneous Instructions",
          "Data Transfer Instructions",
          "Logical Instructions",
          "Bit and Byte Instructions",
          "Shift and Rotate Instructions",
          "I/O and String Instructions",
          "Insert Instructions",
          "Fused Arithmetic Instructions",
          "Shuffle Instructions",
          "Extract Instructions",
          "Cacheability Control, Prefetch and Ordering Instructions",
          "Bit manipulation instructions",
          "Unpack Instructions",
          "AVX Initialization Instructions",
          "Primitives of Functions",
          "Pack Instructions",
          "High Level Procedure Instructions",
          "Packed Arithmetic Instructions",
          "Conversion Instructions",
          "Comparison Instructions",
          "Advanced Encryption Standard (AES) instructions set",
          "Flag Control Instructions",
          "Load Constants Instructions",
          "Control Instructions",
          "Blending Instructions",
          "Gather Instructions",
          "Opmask Instructions",
          "Broadcast Instructions",
          "Secure Hash Algorithm Instructions",
          "Permute Instructions",
          "Basic Arithmetic Instructions",
          "Scatter Instructions",
          "Transactional Synchronization Extensions (TSX) instructions set",
          "State Management Instructions",
          "Transcendental Instructions",
          "Random Number Generator Instructions",
          "Expand Instructions",
          "Compress Instructions",
          "FPU and SIMD State Management Instructions",
          "Memory Protection Extensions (MPX) instructions set",
          "VMCS-maintenance Instructions",
          "Segment Register Instructions",
          "Decimal Arithmetic Instructions"
         ],
         "xaxis": "x",
         "y": [
          97530776,
          54482730,
          29320230,
          27785911,
          25604054,
          20365193,
          13367931,
          11842348,
          5309283,
          1107275,
          66601,
          70054,
          62324,
          37229,
          36571,
          53781,
          22669,
          25499,
          19739,
          12222,
          19699,
          9945,
          9328,
          10194,
          4918,
          3544,
          4955,
          3509,
          1987,
          2145,
          2254,
          1512,
          1314,
          1157,
          320,
          149,
          189,
          72,
          201,
          113,
          0,
          28,
          14,
          7,
          4,
          3,
          0
         ],
         "yaxis": "y"
        }
       ],
       "layout": {
        "barmode": "group",
        "legend": {
         "orientation": "h",
         "title": {
          "text": "variable"
         },
         "tracegroupgap": 0,
         "x": 0,
         "xanchor": "left",
         "y": 1.02,
         "yanchor": "bottom"
        },
        "margin": {
         "t": 60
        },
        "template": {
         "data": {
          "bar": [
           {
            "error_x": {
             "color": "#2a3f5f"
            },
            "error_y": {
             "color": "#2a3f5f"
            },
            "marker": {
             "line": {
              "color": "#E5ECF6",
              "width": 0.5
             },
             "pattern": {
              "fillmode": "overlay",
              "size": 10,
              "solidity": 0.2
             }
            },
            "type": "bar"
           }
          ],
          "barpolar": [
           {
            "marker": {
             "line": {
              "color": "#E5ECF6",
              "width": 0.5
             },
             "pattern": {
              "fillmode": "overlay",
              "size": 10,
              "solidity": 0.2
             }
            },
            "type": "barpolar"
           }
          ],
          "carpet": [
           {
            "aaxis": {
             "endlinecolor": "#2a3f5f",
             "gridcolor": "white",
             "linecolor": "white",
             "minorgridcolor": "white",
             "startlinecolor": "#2a3f5f"
            },
            "baxis": {
             "endlinecolor": "#2a3f5f",
             "gridcolor": "white",
             "linecolor": "white",
             "minorgridcolor": "white",
             "startlinecolor": "#2a3f5f"
            },
            "type": "carpet"
           }
          ],
          "choropleth": [
           {
            "colorbar": {
             "outlinewidth": 0,
             "ticks": ""
            },
            "type": "choropleth"
           }
          ],
          "contour": [
           {
            "colorbar": {
             "outlinewidth": 0,
             "ticks": ""
            },
            "colorscale": [
             [
              0,
              "#0d0887"
             ],
             [
              0.1111111111111111,
              "#46039f"
             ],
             [
              0.2222222222222222,
              "#7201a8"
             ],
             [
              0.3333333333333333,
              "#9c179e"
             ],
             [
              0.4444444444444444,
              "#bd3786"
             ],
             [
              0.5555555555555556,
              "#d8576b"
             ],
             [
              0.6666666666666666,
              "#ed7953"
             ],
             [
              0.7777777777777778,
              "#fb9f3a"
             ],
             [
              0.8888888888888888,
              "#fdca26"
             ],
             [
              1,
              "#f0f921"
             ]
            ],
            "type": "contour"
           }
          ],
          "contourcarpet": [
           {
            "colorbar": {
             "outlinewidth": 0,
             "ticks": ""
            },
            "type": "contourcarpet"
           }
          ],
          "heatmap": [
           {
            "colorbar": {
             "outlinewidth": 0,
             "ticks": ""
            },
            "colorscale": [
             [
              0,
              "#0d0887"
             ],
             [
              0.1111111111111111,
              "#46039f"
             ],
             [
              0.2222222222222222,
              "#7201a8"
             ],
             [
              0.3333333333333333,
              "#9c179e"
             ],
             [
              0.4444444444444444,
              "#bd3786"
             ],
             [
              0.5555555555555556,
              "#d8576b"
             ],
             [
              0.6666666666666666,
              "#ed7953"
             ],
             [
              0.7777777777777778,
              "#fb9f3a"
             ],
             [
              0.8888888888888888,
              "#fdca26"
             ],
             [
              1,
              "#f0f921"
             ]
            ],
            "type": "heatmap"
           }
          ],
          "heatmapgl": [
           {
            "colorbar": {
             "outlinewidth": 0,
             "ticks": ""
            },
            "colorscale": [
             [
              0,
              "#0d0887"
             ],
             [
              0.1111111111111111,
              "#46039f"
             ],
             [
              0.2222222222222222,
              "#7201a8"
             ],
             [
              0.3333333333333333,
              "#9c179e"
             ],
             [
              0.4444444444444444,
              "#bd3786"
             ],
             [
              0.5555555555555556,
              "#d8576b"
             ],
             [
              0.6666666666666666,
              "#ed7953"
             ],
             [
              0.7777777777777778,
              "#fb9f3a"
             ],
             [
              0.8888888888888888,
              "#fdca26"
             ],
             [
              1,
              "#f0f921"
             ]
            ],
            "type": "heatmapgl"
           }
          ],
          "histogram": [
           {
            "marker": {
             "pattern": {
              "fillmode": "overlay",
              "size": 10,
              "solidity": 0.2
             }
            },
            "type": "histogram"
           }
          ],
          "histogram2d": [
           {
            "colorbar": {
             "outlinewidth": 0,
             "ticks": ""
            },
            "colorscale": [
             [
              0,
              "#0d0887"
             ],
             [
              0.1111111111111111,
              "#46039f"
             ],
             [
              0.2222222222222222,
              "#7201a8"
             ],
             [
              0.3333333333333333,
              "#9c179e"
             ],
             [
              0.4444444444444444,
              "#bd3786"
             ],
             [
              0.5555555555555556,
              "#d8576b"
             ],
             [
              0.6666666666666666,
              "#ed7953"
             ],
             [
              0.7777777777777778,
              "#fb9f3a"
             ],
             [
              0.8888888888888888,
              "#fdca26"
             ],
             [
              1,
              "#f0f921"
             ]
            ],
            "type": "histogram2d"
           }
          ],
          "histogram2dcontour": [
           {
            "colorbar": {
             "outlinewidth": 0,
             "ticks": ""
            },
            "colorscale": [
             [
              0,
              "#0d0887"
             ],
             [
              0.1111111111111111,
              "#46039f"
             ],
             [
              0.2222222222222222,
              "#7201a8"
             ],
             [
              0.3333333333333333,
              "#9c179e"
             ],
             [
              0.4444444444444444,
              "#bd3786"
             ],
             [
              0.5555555555555556,
              "#d8576b"
             ],
             [
              0.6666666666666666,
              "#ed7953"
             ],
             [
              0.7777777777777778,
              "#fb9f3a"
             ],
             [
              0.8888888888888888,
              "#fdca26"
             ],
             [
              1,
              "#f0f921"
             ]
            ],
            "type": "histogram2dcontour"
           }
          ],
          "mesh3d": [
           {
            "colorbar": {
             "outlinewidth": 0,
             "ticks": ""
            },
            "type": "mesh3d"
           }
          ],
          "parcoords": [
           {
            "line": {
             "colorbar": {
              "outlinewidth": 0,
              "ticks": ""
             }
            },
            "type": "parcoords"
           }
          ],
          "pie": [
           {
            "automargin": true,
            "type": "pie"
           }
          ],
          "scatter": [
           {
            "fillpattern": {
             "fillmode": "overlay",
             "size": 10,
             "solidity": 0.2
            },
            "type": "scatter"
           }
          ],
          "scatter3d": [
           {
            "line": {
             "colorbar": {
              "outlinewidth": 0,
              "ticks": ""
             }
            },
            "marker": {
             "colorbar": {
              "outlinewidth": 0,
              "ticks": ""
             }
            },
            "type": "scatter3d"
           }
          ],
          "scattercarpet": [
           {
            "marker": {
             "colorbar": {
              "outlinewidth": 0,
              "ticks": ""
             }
            },
            "type": "scattercarpet"
           }
          ],
          "scattergeo": [
           {
            "marker": {
             "colorbar": {
              "outlinewidth": 0,
              "ticks": ""
             }
            },
            "type": "scattergeo"
           }
          ],
          "scattergl": [
           {
            "marker": {
             "colorbar": {
              "outlinewidth": 0,
              "ticks": ""
             }
            },
            "type": "scattergl"
           }
          ],
          "scattermapbox": [
           {
            "marker": {
             "colorbar": {
              "outlinewidth": 0,
              "ticks": ""
             }
            },
            "type": "scattermapbox"
           }
          ],
          "scatterpolar": [
           {
            "marker": {
             "colorbar": {
              "outlinewidth": 0,
              "ticks": ""
             }
            },
            "type": "scatterpolar"
           }
          ],
          "scatterpolargl": [
           {
            "marker": {
             "colorbar": {
              "outlinewidth": 0,
              "ticks": ""
             }
            },
            "type": "scatterpolargl"
           }
          ],
          "scatterternary": [
           {
            "marker": {
             "colorbar": {
              "outlinewidth": 0,
              "ticks": ""
             }
            },
            "type": "scatterternary"
           }
          ],
          "surface": [
           {
            "colorbar": {
             "outlinewidth": 0,
             "ticks": ""
            },
            "colorscale": [
             [
              0,
              "#0d0887"
             ],
             [
              0.1111111111111111,
              "#46039f"
             ],
             [
              0.2222222222222222,
              "#7201a8"
             ],
             [
              0.3333333333333333,
              "#9c179e"
             ],
             [
              0.4444444444444444,
              "#bd3786"
             ],
             [
              0.5555555555555556,
              "#d8576b"
             ],
             [
              0.6666666666666666,
              "#ed7953"
             ],
             [
              0.7777777777777778,
              "#fb9f3a"
             ],
             [
              0.8888888888888888,
              "#fdca26"
             ],
             [
              1,
              "#f0f921"
             ]
            ],
            "type": "surface"
           }
          ],
          "table": [
           {
            "cells": {
             "fill": {
              "color": "#EBF0F8"
             },
             "line": {
              "color": "white"
             }
            },
            "header": {
             "fill": {
              "color": "#C8D4E3"
             },
             "line": {
              "color": "white"
             }
            },
            "type": "table"
           }
          ]
         },
         "layout": {
          "annotationdefaults": {
           "arrowcolor": "#2a3f5f",
           "arrowhead": 0,
           "arrowwidth": 1
          },
          "autotypenumbers": "strict",
          "coloraxis": {
           "colorbar": {
            "outlinewidth": 0,
            "ticks": ""
           }
          },
          "colorscale": {
           "diverging": [
            [
             0,
             "#8e0152"
            ],
            [
             0.1,
             "#c51b7d"
            ],
            [
             0.2,
             "#de77ae"
            ],
            [
             0.3,
             "#f1b6da"
            ],
            [
             0.4,
             "#fde0ef"
            ],
            [
             0.5,
             "#f7f7f7"
            ],
            [
             0.6,
             "#e6f5d0"
            ],
            [
             0.7,
             "#b8e186"
            ],
            [
             0.8,
             "#7fbc41"
            ],
            [
             0.9,
             "#4d9221"
            ],
            [
             1,
             "#276419"
            ]
           ],
           "sequential": [
            [
             0,
             "#0d0887"
            ],
            [
             0.1111111111111111,
             "#46039f"
            ],
            [
             0.2222222222222222,
             "#7201a8"
            ],
            [
             0.3333333333333333,
             "#9c179e"
            ],
            [
             0.4444444444444444,
             "#bd3786"
            ],
            [
             0.5555555555555556,
             "#d8576b"
            ],
            [
             0.6666666666666666,
             "#ed7953"
            ],
            [
             0.7777777777777778,
             "#fb9f3a"
            ],
            [
             0.8888888888888888,
             "#fdca26"
            ],
            [
             1,
             "#f0f921"
            ]
           ],
           "sequentialminus": [
            [
             0,
             "#0d0887"
            ],
            [
             0.1111111111111111,
             "#46039f"
            ],
            [
             0.2222222222222222,
             "#7201a8"
            ],
            [
             0.3333333333333333,
             "#9c179e"
            ],
            [
             0.4444444444444444,
             "#bd3786"
            ],
            [
             0.5555555555555556,
             "#d8576b"
            ],
            [
             0.6666666666666666,
             "#ed7953"
            ],
            [
             0.7777777777777778,
             "#fb9f3a"
            ],
            [
             0.8888888888888888,
             "#fdca26"
            ],
            [
             1,
             "#f0f921"
            ]
           ]
          },
          "colorway": [
           "#636efa",
           "#EF553B",
           "#00cc96",
           "#ab63fa",
           "#FFA15A",
           "#19d3f3",
           "#FF6692",
           "#B6E880",
           "#FF97FF",
           "#FECB52"
          ],
          "font": {
           "color": "#2a3f5f"
          },
          "geo": {
           "bgcolor": "white",
           "lakecolor": "white",
           "landcolor": "#E5ECF6",
           "showlakes": true,
           "showland": true,
           "subunitcolor": "white"
          },
          "hoverlabel": {
           "align": "left"
          },
          "hovermode": "closest",
          "mapbox": {
           "style": "light"
          },
          "paper_bgcolor": "white",
          "plot_bgcolor": "#E5ECF6",
          "polar": {
           "angularaxis": {
            "gridcolor": "white",
            "linecolor": "white",
            "ticks": ""
           },
           "bgcolor": "#E5ECF6",
           "radialaxis": {
            "gridcolor": "white",
            "linecolor": "white",
            "ticks": ""
           }
          },
          "scene": {
           "xaxis": {
            "backgroundcolor": "#E5ECF6",
            "gridcolor": "white",
            "gridwidth": 2,
            "linecolor": "white",
            "showbackground": true,
            "ticks": "",
            "zerolinecolor": "white"
           },
           "yaxis": {
            "backgroundcolor": "#E5ECF6",
            "gridcolor": "white",
            "gridwidth": 2,
            "linecolor": "white",
            "showbackground": true,
            "ticks": "",
            "zerolinecolor": "white"
           },
           "zaxis": {
            "backgroundcolor": "#E5ECF6",
            "gridcolor": "white",
            "gridwidth": 2,
            "linecolor": "white",
            "showbackground": true,
            "ticks": "",
            "zerolinecolor": "white"
           }
          },
          "shapedefaults": {
           "line": {
            "color": "#2a3f5f"
           }
          },
          "ternary": {
           "aaxis": {
            "gridcolor": "white",
            "linecolor": "white",
            "ticks": ""
           },
           "baxis": {
            "gridcolor": "white",
            "linecolor": "white",
            "ticks": ""
           },
           "bgcolor": "#E5ECF6",
           "caxis": {
            "gridcolor": "white",
            "linecolor": "white",
            "ticks": ""
           }
          },
          "title": {
           "x": 0.05
          },
          "xaxis": {
           "automargin": true,
           "gridcolor": "white",
           "linecolor": "white",
           "ticks": "",
           "title": {
            "standoff": 15
           },
           "zerolinecolor": "white",
           "zerolinewidth": 2
          },
          "yaxis": {
           "automargin": true,
           "gridcolor": "white",
           "linecolor": "white",
           "ticks": "",
           "title": {
            "standoff": 15
           },
           "zerolinecolor": "white",
           "zerolinewidth": 2
          }
         }
        },
        "width": 2000,
        "xaxis": {
         "anchor": "y",
         "domain": [
          0,
          1
         ],
         "title": {
          "text": "index"
         }
        },
        "yaxis": {
         "anchor": "x",
         "domain": [
          0,
          1
         ],
         "title": {
          "text": "percent of sum of value"
         }
        }
       }
      },
      "text/html": [
       "<div>                            <div id=\"e533e4ed-f9c2-4876-adfc-7962804ba757\" class=\"plotly-graph-div\" style=\"height:525px; width:2000px;\"></div>            <script type=\"text/javascript\">                require([\"plotly\"], function(Plotly) {                    window.PLOTLYENV=window.PLOTLYENV || {};                                    if (document.getElementById(\"e533e4ed-f9c2-4876-adfc-7962804ba757\")) {                    Plotly.newPlot(                        \"e533e4ed-f9c2-4876-adfc-7962804ba757\",                        [{\"alignmentgroup\":\"True\",\"bingroup\":\"x\",\"histfunc\":\"sum\",\"histnorm\":\"percent\",\"hovertemplate\":\"variable=manjaro_groups<br>index=%{x}<br>percent of sum of value=%{y}<extra></extra>\",\"legendgroup\":\"manjaro_groups\",\"marker\":{\"color\":\"#636efa\",\"pattern\":{\"shape\":\"\"}},\"name\":\"manjaro_groups\",\"offsetgroup\":\"manjaro_groups\",\"orientation\":\"v\",\"showlegend\":true,\"x\":[\"System Instructions\",\"Control Transfer Instructions\",\"Binary Arithmetic Instructions\",\"Other\",\"Miscellaneous Instructions\",\"Data Transfer Instructions\",\"Logical Instructions\",\"Bit and Byte Instructions\",\"Shift and Rotate Instructions\",\"I/O and String Instructions\",\"Insert Instructions\",\"Fused Arithmetic Instructions\",\"Shuffle Instructions\",\"Extract Instructions\",\"Cacheability Control, Prefetch and Ordering Instructions\",\"Bit manipulation instructions\",\"Unpack Instructions\",\"AVX Initialization Instructions\",\"Primitives of Functions\",\"Pack Instructions\",\"High Level Procedure Instructions\",\"Packed Arithmetic Instructions\",\"Conversion Instructions\",\"Comparison Instructions\",\"Advanced Encryption Standard (AES) instructions set\",\"Flag Control Instructions\",\"Load Constants Instructions\",\"Control Instructions\",\"Blending Instructions\",\"Gather Instructions\",\"Opmask Instructions\",\"Broadcast Instructions\",\"Secure Hash Algorithm Instructions\",\"Permute Instructions\",\"Basic Arithmetic Instructions\",\"Scatter Instructions\",\"Transactional Synchronization Extensions (TSX) instructions set\",\"State Management Instructions\",\"Transcendental Instructions\",\"Random Number Generator Instructions\",\"Expand Instructions\",\"Compress Instructions\",\"FPU and SIMD State Management Instructions\",\"Memory Protection Extensions (MPX) instructions set\",\"VMCS-maintenance Instructions\",\"Segment Register Instructions\",\"Decimal Arithmetic Instructions\"],\"xaxis\":\"x\",\"y\":[139266497,79876348,43035175,46447444,36170770,29827813,17800306,17302108,7380731,1609133,141057,87549,131060,93043,70896,45187,59787,45628,40636,32002,26341,21653,24398,11595,9087,6510,4192,3692,4612,3880,2903,3652,2779,2480,637,239,209,192,84,54,48,36,11,15,8,6,1],\"yaxis\":\"y\",\"type\":\"histogram\"},{\"alignmentgroup\":\"True\",\"bingroup\":\"x\",\"histfunc\":\"sum\",\"histnorm\":\"percent\",\"hovertemplate\":\"variable=opensuse_groups<br>index=%{x}<br>percent of sum of value=%{y}<extra></extra>\",\"legendgroup\":\"opensuse_groups\",\"marker\":{\"color\":\"#EF553B\",\"pattern\":{\"shape\":\"\"}},\"name\":\"opensuse_groups\",\"offsetgroup\":\"opensuse_groups\",\"orientation\":\"v\",\"showlegend\":true,\"x\":[\"System Instructions\",\"Control Transfer Instructions\",\"Binary Arithmetic Instructions\",\"Other\",\"Miscellaneous Instructions\",\"Data Transfer Instructions\",\"Logical Instructions\",\"Bit and Byte Instructions\",\"Shift and Rotate Instructions\",\"I/O and String Instructions\",\"Insert Instructions\",\"Fused Arithmetic Instructions\",\"Shuffle Instructions\",\"Extract Instructions\",\"Cacheability Control, Prefetch and Ordering Instructions\",\"Bit manipulation instructions\",\"Unpack Instructions\",\"AVX Initialization Instructions\",\"Primitives of Functions\",\"Pack Instructions\",\"High Level Procedure Instructions\",\"Packed Arithmetic Instructions\",\"Conversion Instructions\",\"Comparison Instructions\",\"Advanced Encryption Standard (AES) instructions set\",\"Flag Control Instructions\",\"Load Constants Instructions\",\"Control Instructions\",\"Blending Instructions\",\"Gather Instructions\",\"Opmask Instructions\",\"Broadcast Instructions\",\"Secure Hash Algorithm Instructions\",\"Permute Instructions\",\"Basic Arithmetic Instructions\",\"Scatter Instructions\",\"Transactional Synchronization Extensions (TSX) instructions set\",\"State Management Instructions\",\"Transcendental Instructions\",\"Random Number Generator Instructions\",\"Expand Instructions\",\"Compress Instructions\",\"FPU and SIMD State Management Instructions\",\"Memory Protection Extensions (MPX) instructions set\",\"VMCS-maintenance Instructions\",\"Segment Register Instructions\",\"Decimal Arithmetic Instructions\"],\"xaxis\":\"x\",\"y\":[84573712,54580006,25062681,21498492,22495862,18448820,10780910,10431309,3976356,926926,41074,71916,26236,30547,43481,38917,20746,27670,10284,13205,8757,14348,8665,7053,8230,8950,1897,2745,3035,3146,2660,2646,2818,244,933,207,134,72,50,53,48,24,11,13,10,7,2],\"yaxis\":\"y\",\"type\":\"histogram\"},{\"alignmentgroup\":\"True\",\"bingroup\":\"x\",\"histfunc\":\"sum\",\"histnorm\":\"percent\",\"hovertemplate\":\"variable=ubuntu_groups<br>index=%{x}<br>percent of sum of value=%{y}<extra></extra>\",\"legendgroup\":\"ubuntu_groups\",\"marker\":{\"color\":\"#00cc96\",\"pattern\":{\"shape\":\"\"}},\"name\":\"ubuntu_groups\",\"offsetgroup\":\"ubuntu_groups\",\"orientation\":\"v\",\"showlegend\":true,\"x\":[\"System Instructions\",\"Control Transfer Instructions\",\"Binary Arithmetic Instructions\",\"Other\",\"Miscellaneous Instructions\",\"Data Transfer Instructions\",\"Logical Instructions\",\"Bit and Byte Instructions\",\"Shift and Rotate Instructions\",\"I/O and String Instructions\",\"Insert Instructions\",\"Fused Arithmetic Instructions\",\"Shuffle Instructions\",\"Extract Instructions\",\"Cacheability Control, Prefetch and Ordering Instructions\",\"Bit manipulation instructions\",\"Unpack Instructions\",\"AVX Initialization Instructions\",\"Primitives of Functions\",\"Pack Instructions\",\"High Level Procedure Instructions\",\"Packed Arithmetic Instructions\",\"Conversion Instructions\",\"Comparison Instructions\",\"Advanced Encryption Standard (AES) instructions set\",\"Flag Control Instructions\",\"Load Constants Instructions\",\"Control Instructions\",\"Blending Instructions\",\"Gather Instructions\",\"Opmask Instructions\",\"Broadcast Instructions\",\"Secure Hash Algorithm Instructions\",\"Permute Instructions\",\"Basic Arithmetic Instructions\",\"Scatter Instructions\",\"Transactional Synchronization Extensions (TSX) instructions set\",\"State Management Instructions\",\"Transcendental Instructions\",\"Random Number Generator Instructions\",\"Expand Instructions\",\"Compress Instructions\",\"FPU and SIMD State Management Instructions\",\"Memory Protection Extensions (MPX) instructions set\",\"VMCS-maintenance Instructions\",\"Segment Register Instructions\",\"Decimal Arithmetic Instructions\"],\"xaxis\":\"x\",\"y\":[97530776,54482730,29320230,27785911,25604054,20365193,13367931,11842348,5309283,1107275,66601,70054,62324,37229,36571,53781,22669,25499,19739,12222,19699,9945,9328,10194,4918,3544,4955,3509,1987,2145,2254,1512,1314,1157,320,149,189,72,201,113,0,28,14,7,4,3,0],\"yaxis\":\"y\",\"type\":\"histogram\"}],                        {\"template\":{\"data\":{\"histogram2dcontour\":[{\"type\":\"histogram2dcontour\",\"colorbar\":{\"outlinewidth\":0,\"ticks\":\"\"},\"colorscale\":[[0.0,\"#0d0887\"],[0.1111111111111111,\"#46039f\"],[0.2222222222222222,\"#7201a8\"],[0.3333333333333333,\"#9c179e\"],[0.4444444444444444,\"#bd3786\"],[0.5555555555555556,\"#d8576b\"],[0.6666666666666666,\"#ed7953\"],[0.7777777777777778,\"#fb9f3a\"],[0.8888888888888888,\"#fdca26\"],[1.0,\"#f0f921\"]]}],\"choropleth\":[{\"type\":\"choropleth\",\"colorbar\":{\"outlinewidth\":0,\"ticks\":\"\"}}],\"histogram2d\":[{\"type\":\"histogram2d\",\"colorbar\":{\"outlinewidth\":0,\"ticks\":\"\"},\"colorscale\":[[0.0,\"#0d0887\"],[0.1111111111111111,\"#46039f\"],[0.2222222222222222,\"#7201a8\"],[0.3333333333333333,\"#9c179e\"],[0.4444444444444444,\"#bd3786\"],[0.5555555555555556,\"#d8576b\"],[0.6666666666666666,\"#ed7953\"],[0.7777777777777778,\"#fb9f3a\"],[0.8888888888888888,\"#fdca26\"],[1.0,\"#f0f921\"]]}],\"heatmap\":[{\"type\":\"heatmap\",\"colorbar\":{\"outlinewidth\":0,\"ticks\":\"\"},\"colorscale\":[[0.0,\"#0d0887\"],[0.1111111111111111,\"#46039f\"],[0.2222222222222222,\"#7201a8\"],[0.3333333333333333,\"#9c179e\"],[0.4444444444444444,\"#bd3786\"],[0.5555555555555556,\"#d8576b\"],[0.6666666666666666,\"#ed7953\"],[0.7777777777777778,\"#fb9f3a\"],[0.8888888888888888,\"#fdca26\"],[1.0,\"#f0f921\"]]}],\"heatmapgl\":[{\"type\":\"heatmapgl\",\"colorbar\":{\"outlinewidth\":0,\"ticks\":\"\"},\"colorscale\":[[0.0,\"#0d0887\"],[0.1111111111111111,\"#46039f\"],[0.2222222222222222,\"#7201a8\"],[0.3333333333333333,\"#9c179e\"],[0.4444444444444444,\"#bd3786\"],[0.5555555555555556,\"#d8576b\"],[0.6666666666666666,\"#ed7953\"],[0.7777777777777778,\"#fb9f3a\"],[0.8888888888888888,\"#fdca26\"],[1.0,\"#f0f921\"]]}],\"contourcarpet\":[{\"type\":\"contourcarpet\",\"colorbar\":{\"outlinewidth\":0,\"ticks\":\"\"}}],\"contour\":[{\"type\":\"contour\",\"colorbar\":{\"outlinewidth\":0,\"ticks\":\"\"},\"colorscale\":[[0.0,\"#0d0887\"],[0.1111111111111111,\"#46039f\"],[0.2222222222222222,\"#7201a8\"],[0.3333333333333333,\"#9c179e\"],[0.4444444444444444,\"#bd3786\"],[0.5555555555555556,\"#d8576b\"],[0.6666666666666666,\"#ed7953\"],[0.7777777777777778,\"#fb9f3a\"],[0.8888888888888888,\"#fdca26\"],[1.0,\"#f0f921\"]]}],\"surface\":[{\"type\":\"surface\",\"colorbar\":{\"outlinewidth\":0,\"ticks\":\"\"},\"colorscale\":[[0.0,\"#0d0887\"],[0.1111111111111111,\"#46039f\"],[0.2222222222222222,\"#7201a8\"],[0.3333333333333333,\"#9c179e\"],[0.4444444444444444,\"#bd3786\"],[0.5555555555555556,\"#d8576b\"],[0.6666666666666666,\"#ed7953\"],[0.7777777777777778,\"#fb9f3a\"],[0.8888888888888888,\"#fdca26\"],[1.0,\"#f0f921\"]]}],\"mesh3d\":[{\"type\":\"mesh3d\",\"colorbar\":{\"outlinewidth\":0,\"ticks\":\"\"}}],\"scatter\":[{\"fillpattern\":{\"fillmode\":\"overlay\",\"size\":10,\"solidity\":0.2},\"type\":\"scatter\"}],\"parcoords\":[{\"type\":\"parcoords\",\"line\":{\"colorbar\":{\"outlinewidth\":0,\"ticks\":\"\"}}}],\"scatterpolargl\":[{\"type\":\"scatterpolargl\",\"marker\":{\"colorbar\":{\"outlinewidth\":0,\"ticks\":\"\"}}}],\"bar\":[{\"error_x\":{\"color\":\"#2a3f5f\"},\"error_y\":{\"color\":\"#2a3f5f\"},\"marker\":{\"line\":{\"color\":\"#E5ECF6\",\"width\":0.5},\"pattern\":{\"fillmode\":\"overlay\",\"size\":10,\"solidity\":0.2}},\"type\":\"bar\"}],\"scattergeo\":[{\"type\":\"scattergeo\",\"marker\":{\"colorbar\":{\"outlinewidth\":0,\"ticks\":\"\"}}}],\"scatterpolar\":[{\"type\":\"scatterpolar\",\"marker\":{\"colorbar\":{\"outlinewidth\":0,\"ticks\":\"\"}}}],\"histogram\":[{\"marker\":{\"pattern\":{\"fillmode\":\"overlay\",\"size\":10,\"solidity\":0.2}},\"type\":\"histogram\"}],\"scattergl\":[{\"type\":\"scattergl\",\"marker\":{\"colorbar\":{\"outlinewidth\":0,\"ticks\":\"\"}}}],\"scatter3d\":[{\"type\":\"scatter3d\",\"line\":{\"colorbar\":{\"outlinewidth\":0,\"ticks\":\"\"}},\"marker\":{\"colorbar\":{\"outlinewidth\":0,\"ticks\":\"\"}}}],\"scattermapbox\":[{\"type\":\"scattermapbox\",\"marker\":{\"colorbar\":{\"outlinewidth\":0,\"ticks\":\"\"}}}],\"scatterternary\":[{\"type\":\"scatterternary\",\"marker\":{\"colorbar\":{\"outlinewidth\":0,\"ticks\":\"\"}}}],\"scattercarpet\":[{\"type\":\"scattercarpet\",\"marker\":{\"colorbar\":{\"outlinewidth\":0,\"ticks\":\"\"}}}],\"carpet\":[{\"aaxis\":{\"endlinecolor\":\"#2a3f5f\",\"gridcolor\":\"white\",\"linecolor\":\"white\",\"minorgridcolor\":\"white\",\"startlinecolor\":\"#2a3f5f\"},\"baxis\":{\"endlinecolor\":\"#2a3f5f\",\"gridcolor\":\"white\",\"linecolor\":\"white\",\"minorgridcolor\":\"white\",\"startlinecolor\":\"#2a3f5f\"},\"type\":\"carpet\"}],\"table\":[{\"cells\":{\"fill\":{\"color\":\"#EBF0F8\"},\"line\":{\"color\":\"white\"}},\"header\":{\"fill\":{\"color\":\"#C8D4E3\"},\"line\":{\"color\":\"white\"}},\"type\":\"table\"}],\"barpolar\":[{\"marker\":{\"line\":{\"color\":\"#E5ECF6\",\"width\":0.5},\"pattern\":{\"fillmode\":\"overlay\",\"size\":10,\"solidity\":0.2}},\"type\":\"barpolar\"}],\"pie\":[{\"automargin\":true,\"type\":\"pie\"}]},\"layout\":{\"autotypenumbers\":\"strict\",\"colorway\":[\"#636efa\",\"#EF553B\",\"#00cc96\",\"#ab63fa\",\"#FFA15A\",\"#19d3f3\",\"#FF6692\",\"#B6E880\",\"#FF97FF\",\"#FECB52\"],\"font\":{\"color\":\"#2a3f5f\"},\"hovermode\":\"closest\",\"hoverlabel\":{\"align\":\"left\"},\"paper_bgcolor\":\"white\",\"plot_bgcolor\":\"#E5ECF6\",\"polar\":{\"bgcolor\":\"#E5ECF6\",\"angularaxis\":{\"gridcolor\":\"white\",\"linecolor\":\"white\",\"ticks\":\"\"},\"radialaxis\":{\"gridcolor\":\"white\",\"linecolor\":\"white\",\"ticks\":\"\"}},\"ternary\":{\"bgcolor\":\"#E5ECF6\",\"aaxis\":{\"gridcolor\":\"white\",\"linecolor\":\"white\",\"ticks\":\"\"},\"baxis\":{\"gridcolor\":\"white\",\"linecolor\":\"white\",\"ticks\":\"\"},\"caxis\":{\"gridcolor\":\"white\",\"linecolor\":\"white\",\"ticks\":\"\"}},\"coloraxis\":{\"colorbar\":{\"outlinewidth\":0,\"ticks\":\"\"}},\"colorscale\":{\"sequential\":[[0.0,\"#0d0887\"],[0.1111111111111111,\"#46039f\"],[0.2222222222222222,\"#7201a8\"],[0.3333333333333333,\"#9c179e\"],[0.4444444444444444,\"#bd3786\"],[0.5555555555555556,\"#d8576b\"],[0.6666666666666666,\"#ed7953\"],[0.7777777777777778,\"#fb9f3a\"],[0.8888888888888888,\"#fdca26\"],[1.0,\"#f0f921\"]],\"sequentialminus\":[[0.0,\"#0d0887\"],[0.1111111111111111,\"#46039f\"],[0.2222222222222222,\"#7201a8\"],[0.3333333333333333,\"#9c179e\"],[0.4444444444444444,\"#bd3786\"],[0.5555555555555556,\"#d8576b\"],[0.6666666666666666,\"#ed7953\"],[0.7777777777777778,\"#fb9f3a\"],[0.8888888888888888,\"#fdca26\"],[1.0,\"#f0f921\"]],\"diverging\":[[0,\"#8e0152\"],[0.1,\"#c51b7d\"],[0.2,\"#de77ae\"],[0.3,\"#f1b6da\"],[0.4,\"#fde0ef\"],[0.5,\"#f7f7f7\"],[0.6,\"#e6f5d0\"],[0.7,\"#b8e186\"],[0.8,\"#7fbc41\"],[0.9,\"#4d9221\"],[1,\"#276419\"]]},\"xaxis\":{\"gridcolor\":\"white\",\"linecolor\":\"white\",\"ticks\":\"\",\"title\":{\"standoff\":15},\"zerolinecolor\":\"white\",\"automargin\":true,\"zerolinewidth\":2},\"yaxis\":{\"gridcolor\":\"white\",\"linecolor\":\"white\",\"ticks\":\"\",\"title\":{\"standoff\":15},\"zerolinecolor\":\"white\",\"automargin\":true,\"zerolinewidth\":2},\"scene\":{\"xaxis\":{\"backgroundcolor\":\"#E5ECF6\",\"gridcolor\":\"white\",\"linecolor\":\"white\",\"showbackground\":true,\"ticks\":\"\",\"zerolinecolor\":\"white\",\"gridwidth\":2},\"yaxis\":{\"backgroundcolor\":\"#E5ECF6\",\"gridcolor\":\"white\",\"linecolor\":\"white\",\"showbackground\":true,\"ticks\":\"\",\"zerolinecolor\":\"white\",\"gridwidth\":2},\"zaxis\":{\"backgroundcolor\":\"#E5ECF6\",\"gridcolor\":\"white\",\"linecolor\":\"white\",\"showbackground\":true,\"ticks\":\"\",\"zerolinecolor\":\"white\",\"gridwidth\":2}},\"shapedefaults\":{\"line\":{\"color\":\"#2a3f5f\"}},\"annotationdefaults\":{\"arrowcolor\":\"#2a3f5f\",\"arrowhead\":0,\"arrowwidth\":1},\"geo\":{\"bgcolor\":\"white\",\"landcolor\":\"#E5ECF6\",\"subunitcolor\":\"white\",\"showland\":true,\"showlakes\":true,\"lakecolor\":\"white\"},\"title\":{\"x\":0.05},\"mapbox\":{\"style\":\"light\"}}},\"xaxis\":{\"anchor\":\"y\",\"domain\":[0.0,1.0],\"title\":{\"text\":\"index\"}},\"yaxis\":{\"anchor\":\"x\",\"domain\":[0.0,1.0],\"title\":{\"text\":\"percent of sum of value\"}},\"legend\":{\"title\":{\"text\":\"variable\"},\"tracegroupgap\":0,\"orientation\":\"h\",\"yanchor\":\"bottom\",\"y\":1.02,\"xanchor\":\"left\",\"x\":0},\"margin\":{\"t\":60},\"barmode\":\"group\",\"width\":2000},                        {\"responsive\": true}                    ).then(function(){\n",
       "                            \n",
       "var gd = document.getElementById('e533e4ed-f9c2-4876-adfc-7962804ba757');\n",
       "var x = new MutationObserver(function (mutations, observer) {{\n",
       "        var display = window.getComputedStyle(gd).display;\n",
       "        if (!display || display === 'none') {{\n",
       "            console.log([gd, 'removed!']);\n",
       "            Plotly.purge(gd);\n",
       "            observer.disconnect();\n",
       "        }}\n",
       "}});\n",
       "\n",
       "// Listen for the removal of the full notebook cells\n",
       "var notebookContainer = gd.closest('#notebook-container');\n",
       "if (notebookContainer) {{\n",
       "    x.observe(notebookContainer, {childList: true});\n",
       "}}\n",
       "\n",
       "// Listen for the clearing of the current output cell\n",
       "var outputEl = gd.closest('.output');\n",
       "if (outputEl) {{\n",
       "    x.observe(outputEl, {childList: true});\n",
       "}}\n",
       "\n",
       "                        })                };                });            </script>        </div>"
      ]
     },
     "metadata": {},
     "output_type": "display_data"
    }
   ],
   "source": [
    "sum_groups_histogram(percent=True, width=2000)"
   ]
  },
  {
   "cell_type": "code",
   "execution_count": 26,
   "id": "f1a4b22a",
   "metadata": {},
   "outputs": [
    {
     "data": {
      "application/javascript": [
       "window.open(\"x86doc/html/AAD.html\");"
      ],
      "text/plain": [
       "<IPython.core.display.Javascript object>"
      ]
     },
     "metadata": {},
     "output_type": "display_data"
    }
   ],
   "source": [
    "what_is_instruction(\"aad\")"
   ]
  },
  {
   "cell_type": "code",
   "execution_count": null,
   "id": "ca4aedab",
   "metadata": {},
   "outputs": [],
   "source": []
  }
 ],
 "metadata": {
  "kernelspec": {
   "display_name": "Python 3 (ipykernel)",
   "language": "python",
   "name": "python3"
  },
  "language_info": {
   "codemirror_mode": {
    "name": "ipython",
    "version": 3
   },
   "file_extension": ".py",
   "mimetype": "text/x-python",
   "name": "python",
   "nbconvert_exporter": "python",
   "pygments_lexer": "ipython3",
   "version": "3.10.9"
  }
 },
 "nbformat": 4,
 "nbformat_minor": 5
}
