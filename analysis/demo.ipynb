{
 "cells": [
  {
   "cell_type": "markdown",
   "id": "7a65bd87",
   "metadata": {},
   "source": [
    "### Import necessary modules"
   ]
  },
  {
   "cell_type": "code",
   "execution_count": 1,
   "id": "3794409d",
   "metadata": {},
   "outputs": [],
   "source": [
    "from analysis_tool import *"
   ]
  },
  {
   "cell_type": "markdown",
   "id": "e5d14a8a",
   "metadata": {},
   "source": [
    "### Ask about any function"
   ]
  },
  {
   "cell_type": "code",
   "execution_count": 2,
   "id": "1c66b7c1",
   "metadata": {},
   "outputs": [
    {
     "name": "stdout",
     "output_type": "stream",
     "text": [
      "Help on function where_instruction in module analysis_tool:\n",
      "\n",
      "where_instruction(instruction: str, name: str) -> pandas.core.frame.DataFrame\n",
      "    Leaves only those rows in which the instruction occurs a non-zero number of times.\n",
      "    :param instruction: Instruction.\n",
      "    :param name: Name of the dataframe or its beginning.\n",
      "    :return: Dataframe with selected rows.\n",
      "\n"
     ]
    }
   ],
   "source": [
    "help(where_instruction)"
   ]
  },
  {
   "cell_type": "code",
   "execution_count": 3,
   "id": "ba6168e7",
   "metadata": {},
   "outputs": [
    {
     "name": "stdout",
     "output_type": "stream",
     "text": [
      "Help on function total_histogram in module analysis_tool:\n",
      "\n",
      "total_histogram(names: list[str] | None = None, percent: bool = True, ascending: bool = False, width: int = 2000)\n",
      "    Builds a histogram of the total instruction usage in dataframes with the names given.\n",
      "    :param names: None or list of dataframe names (or their beginnings).\n",
      "    If None, all dataframes in the scope will be used. Default: None.\n",
      "    :param percent: If True, the histogram will be built by percentage, not by absolute values. Default: True.\n",
      "    :param ascending: If True, the histogram columns will be sorted in ascending order, otherwise - in descending order.\n",
      "    Default: False.\n",
      "    :param width: Width of the histogram. Default: 10000.\n",
      "\n"
     ]
    }
   ],
   "source": [
    "help(total_histogram)"
   ]
  },
  {
   "cell_type": "markdown",
   "id": "a1b7b9aa",
   "metadata": {},
   "source": [
    "### Get data from archives (convenient for artifacts of Github Actions workflows)"
   ]
  },
  {
   "cell_type": "code",
   "execution_count": 4,
   "id": "4cc39e9f",
   "metadata": {},
   "outputs": [],
   "source": [
    "initialize_with_archives(\"../14.03\", \"../14.03_dfs\")"
   ]
  },
  {
   "cell_type": "markdown",
   "id": "9044cfbd",
   "metadata": {},
   "source": [
    "### Data analysis"
   ]
  },
  {
   "cell_type": "markdown",
   "id": "8e8ae3a1",
   "metadata": {},
   "source": [
    "#### How can I look at the first few rows of the dataframe?"
   ]
  },
  {
   "cell_type": "code",
   "execution_count": 5,
   "id": "b35a2e2b",
   "metadata": {
    "scrolled": true
   },
   "outputs": [
    {
     "data": {
      "text/html": [
       "<div>\n",
       "<style scoped>\n",
       "    .dataframe tbody tr th:only-of-type {\n",
       "        vertical-align: middle;\n",
       "    }\n",
       "\n",
       "    .dataframe tbody tr th {\n",
       "        vertical-align: top;\n",
       "    }\n",
       "\n",
       "    .dataframe thead th {\n",
       "        text-align: right;\n",
       "    }\n",
       "</style>\n",
       "<table border=\"1\" class=\"dataframe\">\n",
       "  <thead>\n",
       "    <tr style=\"text-align: right;\">\n",
       "      <th></th>\n",
       "      <th>filename</th>\n",
       "      <th>file</th>\n",
       "      <th>of</th>\n",
       "      <th>endbr64</th>\n",
       "      <th>sub</th>\n",
       "      <th>mov</th>\n",
       "      <th>test</th>\n",
       "      <th>je</th>\n",
       "      <th>call</th>\n",
       "      <th>add</th>\n",
       "      <th>...</th>\n",
       "      <th>pfmul</th>\n",
       "      <th>pf2id</th>\n",
       "      <th>cvtpi2ps</th>\n",
       "      <th>pswapd</th>\n",
       "      <th>pfadd</th>\n",
       "      <th>pfsub</th>\n",
       "      <th>kandnd</th>\n",
       "      <th>mulw</th>\n",
       "      <th>aad</th>\n",
       "      <th>into</th>\n",
       "    </tr>\n",
       "  </thead>\n",
       "  <tbody>\n",
       "    <tr>\n",
       "      <th>0</th>\n",
       "      <td>/usr/bin/fsck.minix</td>\n",
       "      <td>1</td>\n",
       "      <td>3</td>\n",
       "      <td>11</td>\n",
       "      <td>114</td>\n",
       "      <td>1770</td>\n",
       "      <td>268</td>\n",
       "      <td>296</td>\n",
       "      <td>646</td>\n",
       "      <td>146</td>\n",
       "      <td>...</td>\n",
       "      <td>0</td>\n",
       "      <td>0</td>\n",
       "      <td>0</td>\n",
       "      <td>0</td>\n",
       "      <td>0</td>\n",
       "      <td>0</td>\n",
       "      <td>0</td>\n",
       "      <td>0</td>\n",
       "      <td>0</td>\n",
       "      <td>0</td>\n",
       "    </tr>\n",
       "    <tr>\n",
       "      <th>1</th>\n",
       "      <td>/usr/bin/usermod</td>\n",
       "      <td>1</td>\n",
       "      <td>3</td>\n",
       "      <td>70</td>\n",
       "      <td>186</td>\n",
       "      <td>4998</td>\n",
       "      <td>856</td>\n",
       "      <td>842</td>\n",
       "      <td>1684</td>\n",
       "      <td>276</td>\n",
       "      <td>...</td>\n",
       "      <td>0</td>\n",
       "      <td>0</td>\n",
       "      <td>0</td>\n",
       "      <td>0</td>\n",
       "      <td>0</td>\n",
       "      <td>0</td>\n",
       "      <td>0</td>\n",
       "      <td>0</td>\n",
       "      <td>0</td>\n",
       "      <td>0</td>\n",
       "    </tr>\n",
       "    <tr>\n",
       "      <th>2</th>\n",
       "      <td>/usr/bin/xtables-legacy-multi</td>\n",
       "      <td>1</td>\n",
       "      <td>3</td>\n",
       "      <td>30</td>\n",
       "      <td>101</td>\n",
       "      <td>3973</td>\n",
       "      <td>498</td>\n",
       "      <td>504</td>\n",
       "      <td>1014</td>\n",
       "      <td>229</td>\n",
       "      <td>...</td>\n",
       "      <td>0</td>\n",
       "      <td>0</td>\n",
       "      <td>0</td>\n",
       "      <td>0</td>\n",
       "      <td>0</td>\n",
       "      <td>0</td>\n",
       "      <td>0</td>\n",
       "      <td>0</td>\n",
       "      <td>0</td>\n",
       "      <td>0</td>\n",
       "    </tr>\n",
       "    <tr>\n",
       "      <th>3</th>\n",
       "      <td>/usr/bin/zstd</td>\n",
       "      <td>1</td>\n",
       "      <td>3</td>\n",
       "      <td>48</td>\n",
       "      <td>220</td>\n",
       "      <td>7964</td>\n",
       "      <td>864</td>\n",
       "      <td>604</td>\n",
       "      <td>2277</td>\n",
       "      <td>370</td>\n",
       "      <td>...</td>\n",
       "      <td>0</td>\n",
       "      <td>0</td>\n",
       "      <td>0</td>\n",
       "      <td>0</td>\n",
       "      <td>0</td>\n",
       "      <td>0</td>\n",
       "      <td>0</td>\n",
       "      <td>0</td>\n",
       "      <td>0</td>\n",
       "      <td>0</td>\n",
       "    </tr>\n",
       "    <tr>\n",
       "      <th>4</th>\n",
       "      <td>/usr/bin/yat2m</td>\n",
       "      <td>1</td>\n",
       "      <td>3</td>\n",
       "      <td>6</td>\n",
       "      <td>55</td>\n",
       "      <td>939</td>\n",
       "      <td>249</td>\n",
       "      <td>234</td>\n",
       "      <td>309</td>\n",
       "      <td>84</td>\n",
       "      <td>...</td>\n",
       "      <td>0</td>\n",
       "      <td>0</td>\n",
       "      <td>0</td>\n",
       "      <td>0</td>\n",
       "      <td>0</td>\n",
       "      <td>0</td>\n",
       "      <td>0</td>\n",
       "      <td>0</td>\n",
       "      <td>0</td>\n",
       "      <td>0</td>\n",
       "    </tr>\n",
       "    <tr>\n",
       "      <th>5</th>\n",
       "      <td>/usr/bin/unexpand</td>\n",
       "      <td>1</td>\n",
       "      <td>3</td>\n",
       "      <td>8</td>\n",
       "      <td>34</td>\n",
       "      <td>980</td>\n",
       "      <td>147</td>\n",
       "      <td>163</td>\n",
       "      <td>211</td>\n",
       "      <td>75</td>\n",
       "      <td>...</td>\n",
       "      <td>0</td>\n",
       "      <td>0</td>\n",
       "      <td>0</td>\n",
       "      <td>0</td>\n",
       "      <td>0</td>\n",
       "      <td>0</td>\n",
       "      <td>0</td>\n",
       "      <td>0</td>\n",
       "      <td>0</td>\n",
       "      <td>0</td>\n",
       "    </tr>\n",
       "    <tr>\n",
       "      <th>6</th>\n",
       "      <td>/usr/bin/db_printlog</td>\n",
       "      <td>1</td>\n",
       "      <td>3</td>\n",
       "      <td>97</td>\n",
       "      <td>11</td>\n",
       "      <td>877</td>\n",
       "      <td>148</td>\n",
       "      <td>47</td>\n",
       "      <td>187</td>\n",
       "      <td>13</td>\n",
       "      <td>...</td>\n",
       "      <td>0</td>\n",
       "      <td>0</td>\n",
       "      <td>0</td>\n",
       "      <td>0</td>\n",
       "      <td>0</td>\n",
       "      <td>0</td>\n",
       "      <td>0</td>\n",
       "      <td>0</td>\n",
       "      <td>0</td>\n",
       "      <td>0</td>\n",
       "    </tr>\n",
       "  </tbody>\n",
       "</table>\n",
       "<p>7 rows × 1394 columns</p>\n",
       "</div>"
      ],
      "text/plain": [
       "                        filename  file  of  endbr64  sub   mov  test   je  \\\n",
       "0            /usr/bin/fsck.minix     1   3       11  114  1770   268  296   \n",
       "1               /usr/bin/usermod     1   3       70  186  4998   856  842   \n",
       "2  /usr/bin/xtables-legacy-multi     1   3       30  101  3973   498  504   \n",
       "3                  /usr/bin/zstd     1   3       48  220  7964   864  604   \n",
       "4                 /usr/bin/yat2m     1   3        6   55   939   249  234   \n",
       "5              /usr/bin/unexpand     1   3        8   34   980   147  163   \n",
       "6           /usr/bin/db_printlog     1   3       97   11   877   148   47   \n",
       "\n",
       "   call  add  ...  pfmul  pf2id  cvtpi2ps  pswapd  pfadd  pfsub  kandnd  mulw  \\\n",
       "0   646  146  ...      0      0         0       0      0      0       0     0   \n",
       "1  1684  276  ...      0      0         0       0      0      0       0     0   \n",
       "2  1014  229  ...      0      0         0       0      0      0       0     0   \n",
       "3  2277  370  ...      0      0         0       0      0      0       0     0   \n",
       "4   309   84  ...      0      0         0       0      0      0       0     0   \n",
       "5   211   75  ...      0      0         0       0      0      0       0     0   \n",
       "6   187   13  ...      0      0         0       0      0      0       0     0   \n",
       "\n",
       "   aad  into  \n",
       "0    0     0  \n",
       "1    0     0  \n",
       "2    0     0  \n",
       "3    0     0  \n",
       "4    0     0  \n",
       "5    0     0  \n",
       "6    0     0  \n",
       "\n",
       "[7 rows x 1394 columns]"
      ]
     },
     "execution_count": 5,
     "metadata": {},
     "output_type": "execute_result"
    }
   ],
   "source": [
    "head(\"m\", 7)  # Can work with the beginning of a key (as well as all other functions)"
   ]
  },
  {
   "cell_type": "markdown",
   "id": "5e60abd1",
   "metadata": {},
   "source": [
    "#### How many executable files are there in each system? (i.e. count number of rows in each dataframe)"
   ]
  },
  {
   "cell_type": "code",
   "execution_count": 6,
   "id": "fbf655cb",
   "metadata": {},
   "outputs": [
    {
     "name": "stdout",
     "output_type": "stream",
     "text": [
      "manjaro: 3557 rows\n",
      "ubuntu: 3052 rows\n",
      "opensuse: 2404 rows\n"
     ]
    }
   ],
   "source": [
    "for df in dfs_list():\n",
    "    print(f\"{df}: {df_len(df)} rows\")"
   ]
  },
  {
   "cell_type": "markdown",
   "id": "b595ae69",
   "metadata": {},
   "source": [
    "#### How many instructions of each category are there in files in Ubuntu?"
   ]
  },
  {
   "cell_type": "code",
   "execution_count": 7,
   "id": "0de354ad",
   "metadata": {},
   "outputs": [
    {
     "data": {
      "text/html": [
       "<div>\n",
       "<style scoped>\n",
       "    .dataframe tbody tr th:only-of-type {\n",
       "        vertical-align: middle;\n",
       "    }\n",
       "\n",
       "    .dataframe tbody tr th {\n",
       "        vertical-align: top;\n",
       "    }\n",
       "\n",
       "    .dataframe thead th {\n",
       "        text-align: right;\n",
       "    }\n",
       "</style>\n",
       "<table border=\"1\" class=\"dataframe\">\n",
       "  <thead>\n",
       "    <tr style=\"text-align: right;\">\n",
       "      <th></th>\n",
       "      <th>filename</th>\n",
       "      <th>Other</th>\n",
       "      <th>Central Processing Unit (CPU) instructions set</th>\n",
       "      <th>Single Instruction Multiple Data (SIMD) instructions set</th>\n",
       "      <th>Floating-Point Unit (FPU) instructions set</th>\n",
       "      <th>Transactional Synchronization Extensions (TSX) instructions set</th>\n",
       "      <th>Memory Protection Extensions (MPX) instructions set</th>\n",
       "      <th>Advanced Encryption Standard (AES) instructions set</th>\n",
       "      <th>Virtual Machine Extensions (VMX) instructions set</th>\n",
       "    </tr>\n",
       "  </thead>\n",
       "  <tbody>\n",
       "    <tr>\n",
       "      <th>0</th>\n",
       "      <td>/usr/sbin/rmt-tar</td>\n",
       "      <td>468</td>\n",
       "      <td>8130</td>\n",
       "      <td>0</td>\n",
       "      <td>0</td>\n",
       "      <td>0</td>\n",
       "      <td>0</td>\n",
       "      <td>0</td>\n",
       "      <td>0</td>\n",
       "    </tr>\n",
       "    <tr>\n",
       "      <th>1</th>\n",
       "      <td>/usr/bin/mawk</td>\n",
       "      <td>1451</td>\n",
       "      <td>23323</td>\n",
       "      <td>0</td>\n",
       "      <td>0</td>\n",
       "      <td>0</td>\n",
       "      <td>0</td>\n",
       "      <td>0</td>\n",
       "      <td>0</td>\n",
       "    </tr>\n",
       "    <tr>\n",
       "      <th>2</th>\n",
       "      <td>/usr/bin/x86_64-linux-gnu-cpp-12</td>\n",
       "      <td>8265</td>\n",
       "      <td>150733</td>\n",
       "      <td>12</td>\n",
       "      <td>0</td>\n",
       "      <td>0</td>\n",
       "      <td>0</td>\n",
       "      <td>0</td>\n",
       "      <td>0</td>\n",
       "    </tr>\n",
       "    <tr>\n",
       "      <th>3</th>\n",
       "      <td>/usr/bin/scp</td>\n",
       "      <td>1211</td>\n",
       "      <td>19858</td>\n",
       "      <td>0</td>\n",
       "      <td>0</td>\n",
       "      <td>0</td>\n",
       "      <td>0</td>\n",
       "      <td>0</td>\n",
       "      <td>0</td>\n",
       "    </tr>\n",
       "    <tr>\n",
       "      <th>4</th>\n",
       "      <td>/usr/bin/mkfifo</td>\n",
       "      <td>462</td>\n",
       "      <td>4278</td>\n",
       "      <td>0</td>\n",
       "      <td>0</td>\n",
       "      <td>0</td>\n",
       "      <td>0</td>\n",
       "      <td>0</td>\n",
       "      <td>0</td>\n",
       "    </tr>\n",
       "    <tr>\n",
       "      <th>...</th>\n",
       "      <td>...</td>\n",
       "      <td>...</td>\n",
       "      <td>...</td>\n",
       "      <td>...</td>\n",
       "      <td>...</td>\n",
       "      <td>...</td>\n",
       "      <td>...</td>\n",
       "      <td>...</td>\n",
       "      <td>...</td>\n",
       "    </tr>\n",
       "    <tr>\n",
       "      <th>3047</th>\n",
       "      <td>/DataCollection/venv/lib/python3.10/site-packa...</td>\n",
       "      <td>5</td>\n",
       "      <td>334</td>\n",
       "      <td>0</td>\n",
       "      <td>0</td>\n",
       "      <td>0</td>\n",
       "      <td>0</td>\n",
       "      <td>0</td>\n",
       "      <td>0</td>\n",
       "    </tr>\n",
       "    <tr>\n",
       "      <th>3048</th>\n",
       "      <td>/DataCollection/venv/lib/python3.10/site-packa...</td>\n",
       "      <td>2142</td>\n",
       "      <td>4670</td>\n",
       "      <td>0</td>\n",
       "      <td>1890</td>\n",
       "      <td>0</td>\n",
       "      <td>0</td>\n",
       "      <td>0</td>\n",
       "      <td>0</td>\n",
       "    </tr>\n",
       "    <tr>\n",
       "      <th>3049</th>\n",
       "      <td>/DataCollection/venv/lib/python3.10/site-packa...</td>\n",
       "      <td>355</td>\n",
       "      <td>14900</td>\n",
       "      <td>28</td>\n",
       "      <td>0</td>\n",
       "      <td>0</td>\n",
       "      <td>0</td>\n",
       "      <td>0</td>\n",
       "      <td>0</td>\n",
       "    </tr>\n",
       "    <tr>\n",
       "      <th>3050</th>\n",
       "      <td>/DataCollection/venv/lib/python3.10/site-packa...</td>\n",
       "      <td>181</td>\n",
       "      <td>18212</td>\n",
       "      <td>0</td>\n",
       "      <td>0</td>\n",
       "      <td>0</td>\n",
       "      <td>0</td>\n",
       "      <td>0</td>\n",
       "      <td>0</td>\n",
       "    </tr>\n",
       "    <tr>\n",
       "      <th>3051</th>\n",
       "      <td>/DataCollection/venv/lib/python3.10/site-packa...</td>\n",
       "      <td>183</td>\n",
       "      <td>18263</td>\n",
       "      <td>0</td>\n",
       "      <td>1</td>\n",
       "      <td>0</td>\n",
       "      <td>0</td>\n",
       "      <td>0</td>\n",
       "      <td>0</td>\n",
       "    </tr>\n",
       "  </tbody>\n",
       "</table>\n",
       "<p>3052 rows × 9 columns</p>\n",
       "</div>"
      ],
      "text/plain": [
       "                                               filename  Other  \\\n",
       "0                                     /usr/sbin/rmt-tar    468   \n",
       "1                                         /usr/bin/mawk   1451   \n",
       "2                      /usr/bin/x86_64-linux-gnu-cpp-12   8265   \n",
       "3                                          /usr/bin/scp   1211   \n",
       "4                                       /usr/bin/mkfifo    462   \n",
       "...                                                 ...    ...   \n",
       "3047  /DataCollection/venv/lib/python3.10/site-packa...      5   \n",
       "3048  /DataCollection/venv/lib/python3.10/site-packa...   2142   \n",
       "3049  /DataCollection/venv/lib/python3.10/site-packa...    355   \n",
       "3050  /DataCollection/venv/lib/python3.10/site-packa...    181   \n",
       "3051  /DataCollection/venv/lib/python3.10/site-packa...    183   \n",
       "\n",
       "      Central Processing Unit (CPU) instructions set  \\\n",
       "0                                               8130   \n",
       "1                                              23323   \n",
       "2                                             150733   \n",
       "3                                              19858   \n",
       "4                                               4278   \n",
       "...                                              ...   \n",
       "3047                                             334   \n",
       "3048                                            4670   \n",
       "3049                                           14900   \n",
       "3050                                           18212   \n",
       "3051                                           18263   \n",
       "\n",
       "      Single Instruction Multiple Data (SIMD) instructions set  \\\n",
       "0                                                     0          \n",
       "1                                                     0          \n",
       "2                                                    12          \n",
       "3                                                     0          \n",
       "4                                                     0          \n",
       "...                                                 ...          \n",
       "3047                                                  0          \n",
       "3048                                                  0          \n",
       "3049                                                 28          \n",
       "3050                                                  0          \n",
       "3051                                                  0          \n",
       "\n",
       "      Floating-Point Unit (FPU) instructions set  \\\n",
       "0                                              0   \n",
       "1                                              0   \n",
       "2                                              0   \n",
       "3                                              0   \n",
       "4                                              0   \n",
       "...                                          ...   \n",
       "3047                                           0   \n",
       "3048                                        1890   \n",
       "3049                                           0   \n",
       "3050                                           0   \n",
       "3051                                           1   \n",
       "\n",
       "      Transactional Synchronization Extensions (TSX) instructions set  \\\n",
       "0                                                     0                 \n",
       "1                                                     0                 \n",
       "2                                                     0                 \n",
       "3                                                     0                 \n",
       "4                                                     0                 \n",
       "...                                                 ...                 \n",
       "3047                                                  0                 \n",
       "3048                                                  0                 \n",
       "3049                                                  0                 \n",
       "3050                                                  0                 \n",
       "3051                                                  0                 \n",
       "\n",
       "      Memory Protection Extensions (MPX) instructions set  \\\n",
       "0                                                     0     \n",
       "1                                                     0     \n",
       "2                                                     0     \n",
       "3                                                     0     \n",
       "4                                                     0     \n",
       "...                                                 ...     \n",
       "3047                                                  0     \n",
       "3048                                                  0     \n",
       "3049                                                  0     \n",
       "3050                                                  0     \n",
       "3051                                                  0     \n",
       "\n",
       "      Advanced Encryption Standard (AES) instructions set  \\\n",
       "0                                                     0     \n",
       "1                                                     0     \n",
       "2                                                     0     \n",
       "3                                                     0     \n",
       "4                                                     0     \n",
       "...                                                 ...     \n",
       "3047                                                  0     \n",
       "3048                                                  0     \n",
       "3049                                                  0     \n",
       "3050                                                  0     \n",
       "3051                                                  0     \n",
       "\n",
       "      Virtual Machine Extensions (VMX) instructions set  \n",
       "0                                                     0  \n",
       "1                                                     0  \n",
       "2                                                     0  \n",
       "3                                                     0  \n",
       "4                                                     0  \n",
       "...                                                 ...  \n",
       "3047                                                  0  \n",
       "3048                                                  0  \n",
       "3049                                                  0  \n",
       "3050                                                  0  \n",
       "3051                                                  0  \n",
       "\n",
       "[3052 rows x 9 columns]"
      ]
     },
     "execution_count": 7,
     "metadata": {},
     "output_type": "execute_result"
    }
   ],
   "source": [
    "divide_into_categories(\"u\")"
   ]
  },
  {
   "cell_type": "markdown",
   "id": "ebee76aa",
   "metadata": {},
   "source": [
    "#### How many instructions of each group are there in files in OpenSUSE?"
   ]
  },
  {
   "cell_type": "code",
   "execution_count": 8,
   "id": "cebe4653",
   "metadata": {
    "scrolled": false
   },
   "outputs": [
    {
     "data": {
      "text/html": [
       "<div>\n",
       "<style scoped>\n",
       "    .dataframe tbody tr th:only-of-type {\n",
       "        vertical-align: middle;\n",
       "    }\n",
       "\n",
       "    .dataframe tbody tr th {\n",
       "        vertical-align: top;\n",
       "    }\n",
       "\n",
       "    .dataframe thead th {\n",
       "        text-align: right;\n",
       "    }\n",
       "</style>\n",
       "<table border=\"1\" class=\"dataframe\">\n",
       "  <thead>\n",
       "    <tr style=\"text-align: right;\">\n",
       "      <th></th>\n",
       "      <th>filename</th>\n",
       "      <th>Other</th>\n",
       "      <th>Binary Arithmetic Instructions</th>\n",
       "      <th>System Instructions</th>\n",
       "      <th>Bit and Byte Instructions</th>\n",
       "      <th>Control Transfer Instructions</th>\n",
       "      <th>Data Transfer Instructions</th>\n",
       "      <th>Miscellaneous Instructions</th>\n",
       "      <th>Logical Instructions</th>\n",
       "      <th>Shift and Rotate Instructions</th>\n",
       "      <th>...</th>\n",
       "      <th>Primitives of Functions</th>\n",
       "      <th>Fused Arithmetic Instructions</th>\n",
       "      <th>Gather Instructions</th>\n",
       "      <th>Scatter Instructions</th>\n",
       "      <th>Compress Instructions</th>\n",
       "      <th>Pack Instructions</th>\n",
       "      <th>State Management Instructions</th>\n",
       "      <th>FPU and SIMD State Management Instructions</th>\n",
       "      <th>Decimal Arithmetic Instructions</th>\n",
       "      <th>Expand Instructions</th>\n",
       "    </tr>\n",
       "  </thead>\n",
       "  <tbody>\n",
       "    <tr>\n",
       "      <th>0</th>\n",
       "      <td>/usr/bin/python3.10</td>\n",
       "      <td>11</td>\n",
       "      <td>9</td>\n",
       "      <td>10</td>\n",
       "      <td>3</td>\n",
       "      <td>25</td>\n",
       "      <td>8</td>\n",
       "      <td>14</td>\n",
       "      <td>4</td>\n",
       "      <td>3</td>\n",
       "      <td>...</td>\n",
       "      <td>0</td>\n",
       "      <td>0</td>\n",
       "      <td>0</td>\n",
       "      <td>0</td>\n",
       "      <td>0</td>\n",
       "      <td>0</td>\n",
       "      <td>0</td>\n",
       "      <td>0</td>\n",
       "      <td>0</td>\n",
       "      <td>0</td>\n",
       "    </tr>\n",
       "    <tr>\n",
       "      <th>1</th>\n",
       "      <td>/DataCollection/venv/lib/python3.10/site-packa...</td>\n",
       "      <td>718</td>\n",
       "      <td>1630</td>\n",
       "      <td>3346</td>\n",
       "      <td>497</td>\n",
       "      <td>2665</td>\n",
       "      <td>902</td>\n",
       "      <td>1103</td>\n",
       "      <td>311</td>\n",
       "      <td>272</td>\n",
       "      <td>...</td>\n",
       "      <td>0</td>\n",
       "      <td>0</td>\n",
       "      <td>0</td>\n",
       "      <td>0</td>\n",
       "      <td>0</td>\n",
       "      <td>0</td>\n",
       "      <td>0</td>\n",
       "      <td>0</td>\n",
       "      <td>0</td>\n",
       "      <td>0</td>\n",
       "    </tr>\n",
       "    <tr>\n",
       "      <th>2</th>\n",
       "      <td>/DataCollection/venv/lib/python3.10/site-packa...</td>\n",
       "      <td>2145</td>\n",
       "      <td>8924</td>\n",
       "      <td>35169</td>\n",
       "      <td>6202</td>\n",
       "      <td>25512</td>\n",
       "      <td>3081</td>\n",
       "      <td>6102</td>\n",
       "      <td>5206</td>\n",
       "      <td>647</td>\n",
       "      <td>...</td>\n",
       "      <td>0</td>\n",
       "      <td>0</td>\n",
       "      <td>0</td>\n",
       "      <td>0</td>\n",
       "      <td>0</td>\n",
       "      <td>0</td>\n",
       "      <td>0</td>\n",
       "      <td>0</td>\n",
       "      <td>0</td>\n",
       "      <td>0</td>\n",
       "    </tr>\n",
       "    <tr>\n",
       "      <th>3</th>\n",
       "      <td>/usr/lib64/python3.10/lib-dynload/cmath.cpytho...</td>\n",
       "      <td>903</td>\n",
       "      <td>156</td>\n",
       "      <td>656</td>\n",
       "      <td>73</td>\n",
       "      <td>824</td>\n",
       "      <td>268</td>\n",
       "      <td>179</td>\n",
       "      <td>53</td>\n",
       "      <td>15</td>\n",
       "      <td>...</td>\n",
       "      <td>0</td>\n",
       "      <td>0</td>\n",
       "      <td>0</td>\n",
       "      <td>0</td>\n",
       "      <td>0</td>\n",
       "      <td>0</td>\n",
       "      <td>0</td>\n",
       "      <td>0</td>\n",
       "      <td>0</td>\n",
       "      <td>0</td>\n",
       "    </tr>\n",
       "    <tr>\n",
       "      <th>4</th>\n",
       "      <td>/DataCollection/venv/lib/python3.10/site-packa...</td>\n",
       "      <td>140</td>\n",
       "      <td>957</td>\n",
       "      <td>5018</td>\n",
       "      <td>845</td>\n",
       "      <td>3410</td>\n",
       "      <td>443</td>\n",
       "      <td>558</td>\n",
       "      <td>952</td>\n",
       "      <td>27</td>\n",
       "      <td>...</td>\n",
       "      <td>0</td>\n",
       "      <td>0</td>\n",
       "      <td>0</td>\n",
       "      <td>0</td>\n",
       "      <td>0</td>\n",
       "      <td>0</td>\n",
       "      <td>0</td>\n",
       "      <td>0</td>\n",
       "      <td>0</td>\n",
       "      <td>0</td>\n",
       "    </tr>\n",
       "    <tr>\n",
       "      <th>...</th>\n",
       "      <td>...</td>\n",
       "      <td>...</td>\n",
       "      <td>...</td>\n",
       "      <td>...</td>\n",
       "      <td>...</td>\n",
       "      <td>...</td>\n",
       "      <td>...</td>\n",
       "      <td>...</td>\n",
       "      <td>...</td>\n",
       "      <td>...</td>\n",
       "      <td>...</td>\n",
       "      <td>...</td>\n",
       "      <td>...</td>\n",
       "      <td>...</td>\n",
       "      <td>...</td>\n",
       "      <td>...</td>\n",
       "      <td>...</td>\n",
       "      <td>...</td>\n",
       "      <td>...</td>\n",
       "      <td>...</td>\n",
       "      <td>...</td>\n",
       "    </tr>\n",
       "    <tr>\n",
       "      <th>2399</th>\n",
       "      <td>/DataCollection/venv/lib/python3.10/site-packa...</td>\n",
       "      <td>181</td>\n",
       "      <td>2916</td>\n",
       "      <td>3924</td>\n",
       "      <td>603</td>\n",
       "      <td>4799</td>\n",
       "      <td>4123</td>\n",
       "      <td>511</td>\n",
       "      <td>986</td>\n",
       "      <td>191</td>\n",
       "      <td>...</td>\n",
       "      <td>0</td>\n",
       "      <td>0</td>\n",
       "      <td>0</td>\n",
       "      <td>0</td>\n",
       "      <td>0</td>\n",
       "      <td>0</td>\n",
       "      <td>0</td>\n",
       "      <td>0</td>\n",
       "      <td>0</td>\n",
       "      <td>0</td>\n",
       "    </tr>\n",
       "    <tr>\n",
       "      <th>2400</th>\n",
       "      <td>/DataCollection/venv/lib/python3.10/site-packa...</td>\n",
       "      <td>183</td>\n",
       "      <td>2914</td>\n",
       "      <td>3937</td>\n",
       "      <td>610</td>\n",
       "      <td>4820</td>\n",
       "      <td>4132</td>\n",
       "      <td>515</td>\n",
       "      <td>991</td>\n",
       "      <td>190</td>\n",
       "      <td>...</td>\n",
       "      <td>0</td>\n",
       "      <td>0</td>\n",
       "      <td>0</td>\n",
       "      <td>0</td>\n",
       "      <td>0</td>\n",
       "      <td>0</td>\n",
       "      <td>0</td>\n",
       "      <td>0</td>\n",
       "      <td>0</td>\n",
       "      <td>0</td>\n",
       "    </tr>\n",
       "    <tr>\n",
       "      <th>2401</th>\n",
       "      <td>/DataCollection/venv/lib/python3.10/site-packa...</td>\n",
       "      <td>11620</td>\n",
       "      <td>3601</td>\n",
       "      <td>5875</td>\n",
       "      <td>0</td>\n",
       "      <td>476</td>\n",
       "      <td>0</td>\n",
       "      <td>35</td>\n",
       "      <td>502</td>\n",
       "      <td>24</td>\n",
       "      <td>...</td>\n",
       "      <td>0</td>\n",
       "      <td>0</td>\n",
       "      <td>0</td>\n",
       "      <td>0</td>\n",
       "      <td>0</td>\n",
       "      <td>0</td>\n",
       "      <td>0</td>\n",
       "      <td>0</td>\n",
       "      <td>0</td>\n",
       "      <td>0</td>\n",
       "    </tr>\n",
       "    <tr>\n",
       "      <th>2402</th>\n",
       "      <td>/DataCollection/venv/lib/python3.10/site-packa...</td>\n",
       "      <td>11640</td>\n",
       "      <td>3614</td>\n",
       "      <td>5881</td>\n",
       "      <td>0</td>\n",
       "      <td>478</td>\n",
       "      <td>0</td>\n",
       "      <td>35</td>\n",
       "      <td>502</td>\n",
       "      <td>24</td>\n",
       "      <td>...</td>\n",
       "      <td>0</td>\n",
       "      <td>0</td>\n",
       "      <td>0</td>\n",
       "      <td>0</td>\n",
       "      <td>0</td>\n",
       "      <td>0</td>\n",
       "      <td>0</td>\n",
       "      <td>0</td>\n",
       "      <td>0</td>\n",
       "      <td>0</td>\n",
       "    </tr>\n",
       "    <tr>\n",
       "      <th>2403</th>\n",
       "      <td>/DataCollection/venv/lib/python3.10/site-packa...</td>\n",
       "      <td>183</td>\n",
       "      <td>2914</td>\n",
       "      <td>3937</td>\n",
       "      <td>610</td>\n",
       "      <td>4820</td>\n",
       "      <td>4132</td>\n",
       "      <td>515</td>\n",
       "      <td>991</td>\n",
       "      <td>190</td>\n",
       "      <td>...</td>\n",
       "      <td>0</td>\n",
       "      <td>0</td>\n",
       "      <td>0</td>\n",
       "      <td>0</td>\n",
       "      <td>0</td>\n",
       "      <td>0</td>\n",
       "      <td>0</td>\n",
       "      <td>0</td>\n",
       "      <td>0</td>\n",
       "      <td>0</td>\n",
       "    </tr>\n",
       "  </tbody>\n",
       "</table>\n",
       "<p>2404 rows × 48 columns</p>\n",
       "</div>"
      ],
      "text/plain": [
       "                                               filename  Other  \\\n",
       "0                                   /usr/bin/python3.10     11   \n",
       "1     /DataCollection/venv/lib/python3.10/site-packa...    718   \n",
       "2     /DataCollection/venv/lib/python3.10/site-packa...   2145   \n",
       "3     /usr/lib64/python3.10/lib-dynload/cmath.cpytho...    903   \n",
       "4     /DataCollection/venv/lib/python3.10/site-packa...    140   \n",
       "...                                                 ...    ...   \n",
       "2399  /DataCollection/venv/lib/python3.10/site-packa...    181   \n",
       "2400  /DataCollection/venv/lib/python3.10/site-packa...    183   \n",
       "2401  /DataCollection/venv/lib/python3.10/site-packa...  11620   \n",
       "2402  /DataCollection/venv/lib/python3.10/site-packa...  11640   \n",
       "2403  /DataCollection/venv/lib/python3.10/site-packa...    183   \n",
       "\n",
       "      Binary Arithmetic Instructions  System Instructions  \\\n",
       "0                                  9                   10   \n",
       "1                               1630                 3346   \n",
       "2                               8924                35169   \n",
       "3                                156                  656   \n",
       "4                                957                 5018   \n",
       "...                              ...                  ...   \n",
       "2399                            2916                 3924   \n",
       "2400                            2914                 3937   \n",
       "2401                            3601                 5875   \n",
       "2402                            3614                 5881   \n",
       "2403                            2914                 3937   \n",
       "\n",
       "      Bit and Byte Instructions  Control Transfer Instructions  \\\n",
       "0                             3                             25   \n",
       "1                           497                           2665   \n",
       "2                          6202                          25512   \n",
       "3                            73                            824   \n",
       "4                           845                           3410   \n",
       "...                         ...                            ...   \n",
       "2399                        603                           4799   \n",
       "2400                        610                           4820   \n",
       "2401                          0                            476   \n",
       "2402                          0                            478   \n",
       "2403                        610                           4820   \n",
       "\n",
       "      Data Transfer Instructions  Miscellaneous Instructions  \\\n",
       "0                              8                          14   \n",
       "1                            902                        1103   \n",
       "2                           3081                        6102   \n",
       "3                            268                         179   \n",
       "4                            443                         558   \n",
       "...                          ...                         ...   \n",
       "2399                        4123                         511   \n",
       "2400                        4132                         515   \n",
       "2401                           0                          35   \n",
       "2402                           0                          35   \n",
       "2403                        4132                         515   \n",
       "\n",
       "      Logical Instructions  Shift and Rotate Instructions  ...  \\\n",
       "0                        4                              3  ...   \n",
       "1                      311                            272  ...   \n",
       "2                     5206                            647  ...   \n",
       "3                       53                             15  ...   \n",
       "4                      952                             27  ...   \n",
       "...                    ...                            ...  ...   \n",
       "2399                   986                            191  ...   \n",
       "2400                   991                            190  ...   \n",
       "2401                   502                             24  ...   \n",
       "2402                   502                             24  ...   \n",
       "2403                   991                            190  ...   \n",
       "\n",
       "      Primitives of Functions  Fused Arithmetic Instructions  \\\n",
       "0                           0                              0   \n",
       "1                           0                              0   \n",
       "2                           0                              0   \n",
       "3                           0                              0   \n",
       "4                           0                              0   \n",
       "...                       ...                            ...   \n",
       "2399                        0                              0   \n",
       "2400                        0                              0   \n",
       "2401                        0                              0   \n",
       "2402                        0                              0   \n",
       "2403                        0                              0   \n",
       "\n",
       "      Gather Instructions  Scatter Instructions  Compress Instructions  \\\n",
       "0                       0                     0                      0   \n",
       "1                       0                     0                      0   \n",
       "2                       0                     0                      0   \n",
       "3                       0                     0                      0   \n",
       "4                       0                     0                      0   \n",
       "...                   ...                   ...                    ...   \n",
       "2399                    0                     0                      0   \n",
       "2400                    0                     0                      0   \n",
       "2401                    0                     0                      0   \n",
       "2402                    0                     0                      0   \n",
       "2403                    0                     0                      0   \n",
       "\n",
       "      Pack Instructions  State Management Instructions  \\\n",
       "0                     0                              0   \n",
       "1                     0                              0   \n",
       "2                     0                              0   \n",
       "3                     0                              0   \n",
       "4                     0                              0   \n",
       "...                 ...                            ...   \n",
       "2399                  0                              0   \n",
       "2400                  0                              0   \n",
       "2401                  0                              0   \n",
       "2402                  0                              0   \n",
       "2403                  0                              0   \n",
       "\n",
       "      FPU and SIMD State Management Instructions  \\\n",
       "0                                              0   \n",
       "1                                              0   \n",
       "2                                              0   \n",
       "3                                              0   \n",
       "4                                              0   \n",
       "...                                          ...   \n",
       "2399                                           0   \n",
       "2400                                           0   \n",
       "2401                                           0   \n",
       "2402                                           0   \n",
       "2403                                           0   \n",
       "\n",
       "      Decimal Arithmetic Instructions  Expand Instructions  \n",
       "0                                   0                    0  \n",
       "1                                   0                    0  \n",
       "2                                   0                    0  \n",
       "3                                   0                    0  \n",
       "4                                   0                    0  \n",
       "...                               ...                  ...  \n",
       "2399                                0                    0  \n",
       "2400                                0                    0  \n",
       "2401                                0                    0  \n",
       "2402                                0                    0  \n",
       "2403                                0                    0  \n",
       "\n",
       "[2404 rows x 48 columns]"
      ]
     },
     "execution_count": 8,
     "metadata": {},
     "output_type": "execute_result"
    }
   ],
   "source": [
    "divide_into_groups(\"opensuse\")"
   ]
  },
  {
   "cell_type": "markdown",
   "id": "56cb2677",
   "metadata": {},
   "source": [
    "#### Where are AES instructions used in Manjaro?"
   ]
  },
  {
   "cell_type": "code",
   "execution_count": 10,
   "id": "88c5f4e1",
   "metadata": {},
   "outputs": [],
   "source": [
    "where_category(category=\"Advanced Encryption Standard (AES) instructions set\", name=\"u\")"
   ]
  },
  {
   "cell_type": "markdown",
   "id": "e080ed97",
   "metadata": {},
   "source": [
    "#### Where are SIMD instructions used in Ubuntu?"
   ]
  },
  {
   "cell_type": "code",
   "execution_count": null,
   "id": "bf3744a3",
   "metadata": {},
   "outputs": [],
   "source": [
    "where_category(category=\"Single Instruction Multiple Data (SIMD) instructions set\", name=\"u\")"
   ]
  },
  {
   "cell_type": "markdown",
   "id": "258c988c",
   "metadata": {},
   "source": [
    "#### Where is AAD instruction in OpenSUSE used?"
   ]
  },
  {
   "cell_type": "code",
   "execution_count": 11,
   "id": "8cde2a0c",
   "metadata": {},
   "outputs": [
    {
     "data": {
      "text/html": [
       "<div>\n",
       "<style scoped>\n",
       "    .dataframe tbody tr th:only-of-type {\n",
       "        vertical-align: middle;\n",
       "    }\n",
       "\n",
       "    .dataframe tbody tr th {\n",
       "        vertical-align: top;\n",
       "    }\n",
       "\n",
       "    .dataframe thead th {\n",
       "        text-align: right;\n",
       "    }\n",
       "</style>\n",
       "<table border=\"1\" class=\"dataframe\">\n",
       "  <thead>\n",
       "    <tr style=\"text-align: right;\">\n",
       "      <th></th>\n",
       "      <th>filename</th>\n",
       "      <th>file</th>\n",
       "      <th>of</th>\n",
       "      <th>endbr64</th>\n",
       "      <th>sub</th>\n",
       "      <th>mov</th>\n",
       "      <th>test</th>\n",
       "      <th>je</th>\n",
       "      <th>call</th>\n",
       "      <th>add</th>\n",
       "      <th>...</th>\n",
       "      <th>kxorb</th>\n",
       "      <th>korb</th>\n",
       "      <th>vfnmsub132pd</th>\n",
       "      <th>vmovntdqa</th>\n",
       "      <th>vfnmsub132ps</th>\n",
       "      <th>vmovntps</th>\n",
       "      <th>vmovntpd</th>\n",
       "      <th>vcvtpd2dqy</th>\n",
       "      <th>cvtpd2dq</th>\n",
       "      <th>movntpd</th>\n",
       "    </tr>\n",
       "  </thead>\n",
       "  <tbody>\n",
       "    <tr>\n",
       "      <th>167</th>\n",
       "      <td>/usr/lib/python3.10/site-packages/pip/_vendor/...</td>\n",
       "      <td>1</td>\n",
       "      <td>1</td>\n",
       "      <td>0</td>\n",
       "      <td>261</td>\n",
       "      <td>3341</td>\n",
       "      <td>657</td>\n",
       "      <td>1112</td>\n",
       "      <td>1590</td>\n",
       "      <td>595</td>\n",
       "      <td>...</td>\n",
       "      <td>0</td>\n",
       "      <td>0</td>\n",
       "      <td>0</td>\n",
       "      <td>0</td>\n",
       "      <td>0</td>\n",
       "      <td>0</td>\n",
       "      <td>0</td>\n",
       "      <td>0</td>\n",
       "      <td>0</td>\n",
       "      <td>0</td>\n",
       "    </tr>\n",
       "    <tr>\n",
       "      <th>2398</th>\n",
       "      <td>/DataCollection/venv/lib/python3.10/site-packa...</td>\n",
       "      <td>1</td>\n",
       "      <td>1</td>\n",
       "      <td>0</td>\n",
       "      <td>261</td>\n",
       "      <td>3341</td>\n",
       "      <td>657</td>\n",
       "      <td>1112</td>\n",
       "      <td>1590</td>\n",
       "      <td>595</td>\n",
       "      <td>...</td>\n",
       "      <td>0</td>\n",
       "      <td>0</td>\n",
       "      <td>0</td>\n",
       "      <td>0</td>\n",
       "      <td>0</td>\n",
       "      <td>0</td>\n",
       "      <td>0</td>\n",
       "      <td>0</td>\n",
       "      <td>0</td>\n",
       "      <td>0</td>\n",
       "    </tr>\n",
       "  </tbody>\n",
       "</table>\n",
       "<p>2 rows × 1545 columns</p>\n",
       "</div>"
      ],
      "text/plain": [
       "                                               filename  file  of  endbr64  \\\n",
       "167   /usr/lib/python3.10/site-packages/pip/_vendor/...     1   1        0   \n",
       "2398  /DataCollection/venv/lib/python3.10/site-packa...     1   1        0   \n",
       "\n",
       "      sub   mov  test    je  call  add  ...  kxorb  korb  vfnmsub132pd  \\\n",
       "167   261  3341   657  1112  1590  595  ...      0     0             0   \n",
       "2398  261  3341   657  1112  1590  595  ...      0     0             0   \n",
       "\n",
       "      vmovntdqa  vfnmsub132ps  vmovntps  vmovntpd  vcvtpd2dqy  cvtpd2dq  \\\n",
       "167           0             0         0         0           0         0   \n",
       "2398          0             0         0         0           0         0   \n",
       "\n",
       "      movntpd  \n",
       "167         0  \n",
       "2398        0  \n",
       "\n",
       "[2 rows x 1545 columns]"
      ]
     },
     "execution_count": 11,
     "metadata": {},
     "output_type": "execute_result"
    }
   ],
   "source": [
    "where_instruction(instruction=\"aad\", name=\"o\")"
   ]
  },
  {
   "cell_type": "markdown",
   "id": "0d7a5316",
   "metadata": {},
   "source": [
    "### Build a histogram of the total instruction category usage"
   ]
  },
  {
   "cell_type": "code",
   "execution_count": null,
   "id": "cacd4cd7",
   "metadata": {},
   "outputs": [],
   "source": [
    "total_categories_histogram(width=1000)"
   ]
  },
  {
   "cell_type": "markdown",
   "id": "5564ea28",
   "metadata": {},
   "source": [
    "### Build a histogram of the total instruction group usage"
   ]
  },
  {
   "cell_type": "code",
   "execution_count": 13,
   "id": "0980fe96",
   "metadata": {},
   "outputs": [
    {
     "data": {
      "application/vnd.plotly.v1+json": {
       "config": {
        "plotlyServerURL": "https://plot.ly"
       },
       "data": [
        {
         "alignmentgroup": "True",
         "bingroup": "x",
         "histfunc": "sum",
         "histnorm": "percent",
         "hovertemplate": "variable=manjaro_groups<br>index=%{x}<br>percent of sum of value=%{y}<extra></extra>",
         "legendgroup": "manjaro_groups",
         "marker": {
          "color": "#636efa",
          "pattern": {
           "shape": ""
          }
         },
         "name": "manjaro_groups",
         "offsetgroup": "manjaro_groups",
         "orientation": "v",
         "showlegend": true,
         "type": "histogram",
         "x": [
          "System Instructions",
          "Control Transfer Instructions",
          "Binary Arithmetic Instructions",
          "Miscellaneous Instructions",
          "Other",
          "Data Transfer Instructions",
          "Logical Instructions",
          "Bit and Byte Instructions",
          "Shift and Rotate Instructions",
          "Packed Arithmetic Instructions",
          "I/O and String Instructions",
          "Unpack Instructions",
          "Fused Arithmetic Instructions",
          "Broadcast Instructions",
          "Primitives of Functions",
          "Shuffle Instructions",
          "Conversion Instructions",
          "Insert Instructions",
          "Pack Instructions",
          "Extract Instructions",
          "Permute Instructions",
          "Cacheability Control, Prefetch and Ordering Instructions",
          "Bit manipulation instructions",
          "Comparison Instructions",
          "AVX Initialization Instructions",
          "Basic Arithmetic Instructions",
          "High Level Procedure Instructions",
          "Blending Instructions",
          "Opmask Instructions",
          "Flag Control Instructions",
          "Advanced Encryption Standard (AES) instructions set",
          "Load Constants Instructions",
          "Gather Instructions",
          "Control Instructions",
          "Secure Hash Algorithm Instructions",
          "Scatter Instructions",
          "Transactional Synchronization Extensions (TSX) instructions set",
          "State Management Instructions",
          "Transcendental Instructions",
          "Random Number Generator Instructions",
          "Expand Instructions",
          "Compress Instructions",
          "FPU and SIMD State Management Instructions",
          "Memory Protection Extensions (MPX) instructions set",
          "VMCS-maintenance Instructions",
          "Segment Register Instructions",
          "Decimal Arithmetic Instructions"
         ],
         "xaxis": "x",
         "y": [
          81352037,
          50216401,
          25626677,
          21076495,
          24078434,
          18422029,
          10311430,
          10170233,
          4347367,
          969109,
          832925,
          232001,
          132263,
          118837,
          115595,
          96131,
          66237,
          77246,
          63326,
          54702,
          48741,
          38535,
          26991,
          33068,
          28161,
          21318,
          15518,
          12761,
          9664,
          3677,
          4169,
          2916,
          3067,
          2332,
          1465,
          1003,
          189,
          192,
          82,
          22,
          48,
          32,
          9,
          8,
          4,
          3,
          1
         ],
         "yaxis": "y"
        },
        {
         "alignmentgroup": "True",
         "bingroup": "x",
         "histfunc": "sum",
         "histnorm": "percent",
         "hovertemplate": "variable=ubuntu_groups<br>index=%{x}<br>percent of sum of value=%{y}<extra></extra>",
         "legendgroup": "ubuntu_groups",
         "marker": {
          "color": "#EF553B",
          "pattern": {
           "shape": ""
          }
         },
         "name": "ubuntu_groups",
         "offsetgroup": "ubuntu_groups",
         "orientation": "v",
         "showlegend": true,
         "type": "histogram",
         "x": [
          "System Instructions",
          "Control Transfer Instructions",
          "Binary Arithmetic Instructions",
          "Miscellaneous Instructions",
          "Other",
          "Data Transfer Instructions",
          "Logical Instructions",
          "Bit and Byte Instructions",
          "Shift and Rotate Instructions",
          "Packed Arithmetic Instructions",
          "I/O and String Instructions",
          "Unpack Instructions",
          "Fused Arithmetic Instructions",
          "Broadcast Instructions",
          "Primitives of Functions",
          "Shuffle Instructions",
          "Conversion Instructions",
          "Insert Instructions",
          "Pack Instructions",
          "Extract Instructions",
          "Permute Instructions",
          "Cacheability Control, Prefetch and Ordering Instructions",
          "Bit manipulation instructions",
          "Comparison Instructions",
          "AVX Initialization Instructions",
          "Basic Arithmetic Instructions",
          "High Level Procedure Instructions",
          "Blending Instructions",
          "Opmask Instructions",
          "Flag Control Instructions",
          "Advanced Encryption Standard (AES) instructions set",
          "Load Constants Instructions",
          "Gather Instructions",
          "Control Instructions",
          "Secure Hash Algorithm Instructions",
          "Scatter Instructions",
          "Transactional Synchronization Extensions (TSX) instructions set",
          "State Management Instructions",
          "Transcendental Instructions",
          "Random Number Generator Instructions",
          "Expand Instructions",
          "Compress Instructions",
          "FPU and SIMD State Management Instructions",
          "Memory Protection Extensions (MPX) instructions set",
          "VMCS-maintenance Instructions",
          "Segment Register Instructions",
          "Decimal Arithmetic Instructions"
         ],
         "xaxis": "x",
         "y": [
          65463853,
          37888599,
          19684053,
          18377036,
          16657752,
          14535073,
          9027764,
          7792478,
          3565129,
          773271,
          656638,
          182892,
          123236,
          90783,
          86409,
          75562,
          70256,
          59791,
          46189,
          36298,
          38072,
          33396,
          40120,
          31381,
          21649,
          24182,
          16589,
          5536,
          8264,
          3646,
          2710,
          4068,
          1921,
          3114,
          913,
          892,
          195,
          72,
          171,
          64,
          0,
          28,
          12,
          5,
          4,
          3,
          0
         ],
         "yaxis": "y"
        },
        {
         "alignmentgroup": "True",
         "bingroup": "x",
         "histfunc": "sum",
         "histnorm": "percent",
         "hovertemplate": "variable=opensuse_groups<br>index=%{x}<br>percent of sum of value=%{y}<extra></extra>",
         "legendgroup": "opensuse_groups",
         "marker": {
          "color": "#00cc96",
          "pattern": {
           "shape": ""
          }
         },
         "name": "opensuse_groups",
         "offsetgroup": "opensuse_groups",
         "orientation": "v",
         "showlegend": true,
         "type": "histogram",
         "x": [
          "System Instructions",
          "Control Transfer Instructions",
          "Binary Arithmetic Instructions",
          "Miscellaneous Instructions",
          "Other",
          "Data Transfer Instructions",
          "Logical Instructions",
          "Bit and Byte Instructions",
          "Shift and Rotate Instructions",
          "Packed Arithmetic Instructions",
          "I/O and String Instructions",
          "Unpack Instructions",
          "Fused Arithmetic Instructions",
          "Broadcast Instructions",
          "Primitives of Functions",
          "Shuffle Instructions",
          "Conversion Instructions",
          "Insert Instructions",
          "Pack Instructions",
          "Extract Instructions",
          "Permute Instructions",
          "Cacheability Control, Prefetch and Ordering Instructions",
          "Bit manipulation instructions",
          "Comparison Instructions",
          "AVX Initialization Instructions",
          "Basic Arithmetic Instructions",
          "High Level Procedure Instructions",
          "Blending Instructions",
          "Opmask Instructions",
          "Flag Control Instructions",
          "Advanced Encryption Standard (AES) instructions set",
          "Load Constants Instructions",
          "Gather Instructions",
          "Control Instructions",
          "Secure Hash Algorithm Instructions",
          "Scatter Instructions",
          "Transactional Synchronization Extensions (TSX) instructions set",
          "State Management Instructions",
          "Transcendental Instructions",
          "Random Number Generator Instructions",
          "Expand Instructions",
          "Compress Instructions",
          "FPU and SIMD State Management Instructions",
          "Memory Protection Extensions (MPX) instructions set",
          "VMCS-maintenance Instructions",
          "Segment Register Instructions",
          "Decimal Arithmetic Instructions"
         ],
         "xaxis": "x",
         "y": [
          70140474,
          45443148,
          21081824,
          18968858,
          15565456,
          15813376,
          9266962,
          8610545,
          3442294,
          469744,
          633499,
          86774,
          125007,
          108224,
          43581,
          41681,
          55789,
          33938,
          25306,
          29104,
          29290,
          41065,
          31473,
          26267,
          22545,
          13712,
          7637,
          11474,
          8153,
          6568,
          5520,
          1857,
          3278,
          2136,
          1905,
          1028,
          130,
          72,
          46,
          30,
          48,
          24,
          7,
          8,
          6,
          4,
          2
         ],
         "yaxis": "y"
        }
       ],
       "layout": {
        "barmode": "group",
        "legend": {
         "orientation": "h",
         "title": {
          "text": "variable"
         },
         "tracegroupgap": 0,
         "x": 0,
         "xanchor": "left",
         "y": 1.02,
         "yanchor": "bottom"
        },
        "margin": {
         "t": 60
        },
        "template": {
         "data": {
          "bar": [
           {
            "error_x": {
             "color": "#2a3f5f"
            },
            "error_y": {
             "color": "#2a3f5f"
            },
            "marker": {
             "line": {
              "color": "#E5ECF6",
              "width": 0.5
             },
             "pattern": {
              "fillmode": "overlay",
              "size": 10,
              "solidity": 0.2
             }
            },
            "type": "bar"
           }
          ],
          "barpolar": [
           {
            "marker": {
             "line": {
              "color": "#E5ECF6",
              "width": 0.5
             },
             "pattern": {
              "fillmode": "overlay",
              "size": 10,
              "solidity": 0.2
             }
            },
            "type": "barpolar"
           }
          ],
          "carpet": [
           {
            "aaxis": {
             "endlinecolor": "#2a3f5f",
             "gridcolor": "white",
             "linecolor": "white",
             "minorgridcolor": "white",
             "startlinecolor": "#2a3f5f"
            },
            "baxis": {
             "endlinecolor": "#2a3f5f",
             "gridcolor": "white",
             "linecolor": "white",
             "minorgridcolor": "white",
             "startlinecolor": "#2a3f5f"
            },
            "type": "carpet"
           }
          ],
          "choropleth": [
           {
            "colorbar": {
             "outlinewidth": 0,
             "ticks": ""
            },
            "type": "choropleth"
           }
          ],
          "contour": [
           {
            "colorbar": {
             "outlinewidth": 0,
             "ticks": ""
            },
            "colorscale": [
             [
              0,
              "#0d0887"
             ],
             [
              0.1111111111111111,
              "#46039f"
             ],
             [
              0.2222222222222222,
              "#7201a8"
             ],
             [
              0.3333333333333333,
              "#9c179e"
             ],
             [
              0.4444444444444444,
              "#bd3786"
             ],
             [
              0.5555555555555556,
              "#d8576b"
             ],
             [
              0.6666666666666666,
              "#ed7953"
             ],
             [
              0.7777777777777778,
              "#fb9f3a"
             ],
             [
              0.8888888888888888,
              "#fdca26"
             ],
             [
              1,
              "#f0f921"
             ]
            ],
            "type": "contour"
           }
          ],
          "contourcarpet": [
           {
            "colorbar": {
             "outlinewidth": 0,
             "ticks": ""
            },
            "type": "contourcarpet"
           }
          ],
          "heatmap": [
           {
            "colorbar": {
             "outlinewidth": 0,
             "ticks": ""
            },
            "colorscale": [
             [
              0,
              "#0d0887"
             ],
             [
              0.1111111111111111,
              "#46039f"
             ],
             [
              0.2222222222222222,
              "#7201a8"
             ],
             [
              0.3333333333333333,
              "#9c179e"
             ],
             [
              0.4444444444444444,
              "#bd3786"
             ],
             [
              0.5555555555555556,
              "#d8576b"
             ],
             [
              0.6666666666666666,
              "#ed7953"
             ],
             [
              0.7777777777777778,
              "#fb9f3a"
             ],
             [
              0.8888888888888888,
              "#fdca26"
             ],
             [
              1,
              "#f0f921"
             ]
            ],
            "type": "heatmap"
           }
          ],
          "heatmapgl": [
           {
            "colorbar": {
             "outlinewidth": 0,
             "ticks": ""
            },
            "colorscale": [
             [
              0,
              "#0d0887"
             ],
             [
              0.1111111111111111,
              "#46039f"
             ],
             [
              0.2222222222222222,
              "#7201a8"
             ],
             [
              0.3333333333333333,
              "#9c179e"
             ],
             [
              0.4444444444444444,
              "#bd3786"
             ],
             [
              0.5555555555555556,
              "#d8576b"
             ],
             [
              0.6666666666666666,
              "#ed7953"
             ],
             [
              0.7777777777777778,
              "#fb9f3a"
             ],
             [
              0.8888888888888888,
              "#fdca26"
             ],
             [
              1,
              "#f0f921"
             ]
            ],
            "type": "heatmapgl"
           }
          ],
          "histogram": [
           {
            "marker": {
             "pattern": {
              "fillmode": "overlay",
              "size": 10,
              "solidity": 0.2
             }
            },
            "type": "histogram"
           }
          ],
          "histogram2d": [
           {
            "colorbar": {
             "outlinewidth": 0,
             "ticks": ""
            },
            "colorscale": [
             [
              0,
              "#0d0887"
             ],
             [
              0.1111111111111111,
              "#46039f"
             ],
             [
              0.2222222222222222,
              "#7201a8"
             ],
             [
              0.3333333333333333,
              "#9c179e"
             ],
             [
              0.4444444444444444,
              "#bd3786"
             ],
             [
              0.5555555555555556,
              "#d8576b"
             ],
             [
              0.6666666666666666,
              "#ed7953"
             ],
             [
              0.7777777777777778,
              "#fb9f3a"
             ],
             [
              0.8888888888888888,
              "#fdca26"
             ],
             [
              1,
              "#f0f921"
             ]
            ],
            "type": "histogram2d"
           }
          ],
          "histogram2dcontour": [
           {
            "colorbar": {
             "outlinewidth": 0,
             "ticks": ""
            },
            "colorscale": [
             [
              0,
              "#0d0887"
             ],
             [
              0.1111111111111111,
              "#46039f"
             ],
             [
              0.2222222222222222,
              "#7201a8"
             ],
             [
              0.3333333333333333,
              "#9c179e"
             ],
             [
              0.4444444444444444,
              "#bd3786"
             ],
             [
              0.5555555555555556,
              "#d8576b"
             ],
             [
              0.6666666666666666,
              "#ed7953"
             ],
             [
              0.7777777777777778,
              "#fb9f3a"
             ],
             [
              0.8888888888888888,
              "#fdca26"
             ],
             [
              1,
              "#f0f921"
             ]
            ],
            "type": "histogram2dcontour"
           }
          ],
          "mesh3d": [
           {
            "colorbar": {
             "outlinewidth": 0,
             "ticks": ""
            },
            "type": "mesh3d"
           }
          ],
          "parcoords": [
           {
            "line": {
             "colorbar": {
              "outlinewidth": 0,
              "ticks": ""
             }
            },
            "type": "parcoords"
           }
          ],
          "pie": [
           {
            "automargin": true,
            "type": "pie"
           }
          ],
          "scatter": [
           {
            "fillpattern": {
             "fillmode": "overlay",
             "size": 10,
             "solidity": 0.2
            },
            "type": "scatter"
           }
          ],
          "scatter3d": [
           {
            "line": {
             "colorbar": {
              "outlinewidth": 0,
              "ticks": ""
             }
            },
            "marker": {
             "colorbar": {
              "outlinewidth": 0,
              "ticks": ""
             }
            },
            "type": "scatter3d"
           }
          ],
          "scattercarpet": [
           {
            "marker": {
             "colorbar": {
              "outlinewidth": 0,
              "ticks": ""
             }
            },
            "type": "scattercarpet"
           }
          ],
          "scattergeo": [
           {
            "marker": {
             "colorbar": {
              "outlinewidth": 0,
              "ticks": ""
             }
            },
            "type": "scattergeo"
           }
          ],
          "scattergl": [
           {
            "marker": {
             "colorbar": {
              "outlinewidth": 0,
              "ticks": ""
             }
            },
            "type": "scattergl"
           }
          ],
          "scattermapbox": [
           {
            "marker": {
             "colorbar": {
              "outlinewidth": 0,
              "ticks": ""
             }
            },
            "type": "scattermapbox"
           }
          ],
          "scatterpolar": [
           {
            "marker": {
             "colorbar": {
              "outlinewidth": 0,
              "ticks": ""
             }
            },
            "type": "scatterpolar"
           }
          ],
          "scatterpolargl": [
           {
            "marker": {
             "colorbar": {
              "outlinewidth": 0,
              "ticks": ""
             }
            },
            "type": "scatterpolargl"
           }
          ],
          "scatterternary": [
           {
            "marker": {
             "colorbar": {
              "outlinewidth": 0,
              "ticks": ""
             }
            },
            "type": "scatterternary"
           }
          ],
          "surface": [
           {
            "colorbar": {
             "outlinewidth": 0,
             "ticks": ""
            },
            "colorscale": [
             [
              0,
              "#0d0887"
             ],
             [
              0.1111111111111111,
              "#46039f"
             ],
             [
              0.2222222222222222,
              "#7201a8"
             ],
             [
              0.3333333333333333,
              "#9c179e"
             ],
             [
              0.4444444444444444,
              "#bd3786"
             ],
             [
              0.5555555555555556,
              "#d8576b"
             ],
             [
              0.6666666666666666,
              "#ed7953"
             ],
             [
              0.7777777777777778,
              "#fb9f3a"
             ],
             [
              0.8888888888888888,
              "#fdca26"
             ],
             [
              1,
              "#f0f921"
             ]
            ],
            "type": "surface"
           }
          ],
          "table": [
           {
            "cells": {
             "fill": {
              "color": "#EBF0F8"
             },
             "line": {
              "color": "white"
             }
            },
            "header": {
             "fill": {
              "color": "#C8D4E3"
             },
             "line": {
              "color": "white"
             }
            },
            "type": "table"
           }
          ]
         },
         "layout": {
          "annotationdefaults": {
           "arrowcolor": "#2a3f5f",
           "arrowhead": 0,
           "arrowwidth": 1
          },
          "autotypenumbers": "strict",
          "coloraxis": {
           "colorbar": {
            "outlinewidth": 0,
            "ticks": ""
           }
          },
          "colorscale": {
           "diverging": [
            [
             0,
             "#8e0152"
            ],
            [
             0.1,
             "#c51b7d"
            ],
            [
             0.2,
             "#de77ae"
            ],
            [
             0.3,
             "#f1b6da"
            ],
            [
             0.4,
             "#fde0ef"
            ],
            [
             0.5,
             "#f7f7f7"
            ],
            [
             0.6,
             "#e6f5d0"
            ],
            [
             0.7,
             "#b8e186"
            ],
            [
             0.8,
             "#7fbc41"
            ],
            [
             0.9,
             "#4d9221"
            ],
            [
             1,
             "#276419"
            ]
           ],
           "sequential": [
            [
             0,
             "#0d0887"
            ],
            [
             0.1111111111111111,
             "#46039f"
            ],
            [
             0.2222222222222222,
             "#7201a8"
            ],
            [
             0.3333333333333333,
             "#9c179e"
            ],
            [
             0.4444444444444444,
             "#bd3786"
            ],
            [
             0.5555555555555556,
             "#d8576b"
            ],
            [
             0.6666666666666666,
             "#ed7953"
            ],
            [
             0.7777777777777778,
             "#fb9f3a"
            ],
            [
             0.8888888888888888,
             "#fdca26"
            ],
            [
             1,
             "#f0f921"
            ]
           ],
           "sequentialminus": [
            [
             0,
             "#0d0887"
            ],
            [
             0.1111111111111111,
             "#46039f"
            ],
            [
             0.2222222222222222,
             "#7201a8"
            ],
            [
             0.3333333333333333,
             "#9c179e"
            ],
            [
             0.4444444444444444,
             "#bd3786"
            ],
            [
             0.5555555555555556,
             "#d8576b"
            ],
            [
             0.6666666666666666,
             "#ed7953"
            ],
            [
             0.7777777777777778,
             "#fb9f3a"
            ],
            [
             0.8888888888888888,
             "#fdca26"
            ],
            [
             1,
             "#f0f921"
            ]
           ]
          },
          "colorway": [
           "#636efa",
           "#EF553B",
           "#00cc96",
           "#ab63fa",
           "#FFA15A",
           "#19d3f3",
           "#FF6692",
           "#B6E880",
           "#FF97FF",
           "#FECB52"
          ],
          "font": {
           "color": "#2a3f5f"
          },
          "geo": {
           "bgcolor": "white",
           "lakecolor": "white",
           "landcolor": "#E5ECF6",
           "showlakes": true,
           "showland": true,
           "subunitcolor": "white"
          },
          "hoverlabel": {
           "align": "left"
          },
          "hovermode": "closest",
          "mapbox": {
           "style": "light"
          },
          "paper_bgcolor": "white",
          "plot_bgcolor": "#E5ECF6",
          "polar": {
           "angularaxis": {
            "gridcolor": "white",
            "linecolor": "white",
            "ticks": ""
           },
           "bgcolor": "#E5ECF6",
           "radialaxis": {
            "gridcolor": "white",
            "linecolor": "white",
            "ticks": ""
           }
          },
          "scene": {
           "xaxis": {
            "backgroundcolor": "#E5ECF6",
            "gridcolor": "white",
            "gridwidth": 2,
            "linecolor": "white",
            "showbackground": true,
            "ticks": "",
            "zerolinecolor": "white"
           },
           "yaxis": {
            "backgroundcolor": "#E5ECF6",
            "gridcolor": "white",
            "gridwidth": 2,
            "linecolor": "white",
            "showbackground": true,
            "ticks": "",
            "zerolinecolor": "white"
           },
           "zaxis": {
            "backgroundcolor": "#E5ECF6",
            "gridcolor": "white",
            "gridwidth": 2,
            "linecolor": "white",
            "showbackground": true,
            "ticks": "",
            "zerolinecolor": "white"
           }
          },
          "shapedefaults": {
           "line": {
            "color": "#2a3f5f"
           }
          },
          "ternary": {
           "aaxis": {
            "gridcolor": "white",
            "linecolor": "white",
            "ticks": ""
           },
           "baxis": {
            "gridcolor": "white",
            "linecolor": "white",
            "ticks": ""
           },
           "bgcolor": "#E5ECF6",
           "caxis": {
            "gridcolor": "white",
            "linecolor": "white",
            "ticks": ""
           }
          },
          "title": {
           "x": 0.05
          },
          "xaxis": {
           "automargin": true,
           "gridcolor": "white",
           "linecolor": "white",
           "ticks": "",
           "title": {
            "standoff": 15
           },
           "zerolinecolor": "white",
           "zerolinewidth": 2
          },
          "yaxis": {
           "automargin": true,
           "gridcolor": "white",
           "linecolor": "white",
           "ticks": "",
           "title": {
            "standoff": 15
           },
           "zerolinecolor": "white",
           "zerolinewidth": 2
          }
         }
        },
        "width": 2000,
        "xaxis": {
         "anchor": "y",
         "domain": [
          0,
          1
         ],
         "title": {
          "text": "index"
         }
        },
        "yaxis": {
         "anchor": "x",
         "domain": [
          0,
          1
         ],
         "title": {
          "text": "percent of sum of value"
         }
        }
       }
      },
      "text/html": [
       "<div>                            <div id=\"aa989e94-c9bb-4755-beac-1b02ad9ea0c0\" class=\"plotly-graph-div\" style=\"height:525px; width:2000px;\"></div>            <script type=\"text/javascript\">                require([\"plotly\"], function(Plotly) {                    window.PLOTLYENV=window.PLOTLYENV || {};                                    if (document.getElementById(\"aa989e94-c9bb-4755-beac-1b02ad9ea0c0\")) {                    Plotly.newPlot(                        \"aa989e94-c9bb-4755-beac-1b02ad9ea0c0\",                        [{\"alignmentgroup\":\"True\",\"bingroup\":\"x\",\"histfunc\":\"sum\",\"histnorm\":\"percent\",\"hovertemplate\":\"variable=manjaro_groups<br>index=%{x}<br>percent of sum of value=%{y}<extra></extra>\",\"legendgroup\":\"manjaro_groups\",\"marker\":{\"color\":\"#636efa\",\"pattern\":{\"shape\":\"\"}},\"name\":\"manjaro_groups\",\"offsetgroup\":\"manjaro_groups\",\"orientation\":\"v\",\"showlegend\":true,\"x\":[\"System Instructions\",\"Control Transfer Instructions\",\"Binary Arithmetic Instructions\",\"Miscellaneous Instructions\",\"Other\",\"Data Transfer Instructions\",\"Logical Instructions\",\"Bit and Byte Instructions\",\"Shift and Rotate Instructions\",\"Packed Arithmetic Instructions\",\"I/O and String Instructions\",\"Unpack Instructions\",\"Fused Arithmetic Instructions\",\"Broadcast Instructions\",\"Primitives of Functions\",\"Shuffle Instructions\",\"Conversion Instructions\",\"Insert Instructions\",\"Pack Instructions\",\"Extract Instructions\",\"Permute Instructions\",\"Cacheability Control, Prefetch and Ordering Instructions\",\"Bit manipulation instructions\",\"Comparison Instructions\",\"AVX Initialization Instructions\",\"Basic Arithmetic Instructions\",\"High Level Procedure Instructions\",\"Blending Instructions\",\"Opmask Instructions\",\"Flag Control Instructions\",\"Advanced Encryption Standard (AES) instructions set\",\"Load Constants Instructions\",\"Gather Instructions\",\"Control Instructions\",\"Secure Hash Algorithm Instructions\",\"Scatter Instructions\",\"Transactional Synchronization Extensions (TSX) instructions set\",\"State Management Instructions\",\"Transcendental Instructions\",\"Random Number Generator Instructions\",\"Expand Instructions\",\"Compress Instructions\",\"FPU and SIMD State Management Instructions\",\"Memory Protection Extensions (MPX) instructions set\",\"VMCS-maintenance Instructions\",\"Segment Register Instructions\",\"Decimal Arithmetic Instructions\"],\"xaxis\":\"x\",\"y\":[81352037,50216401,25626677,21076495,24078434,18422029,10311430,10170233,4347367,969109,832925,232001,132263,118837,115595,96131,66237,77246,63326,54702,48741,38535,26991,33068,28161,21318,15518,12761,9664,3677,4169,2916,3067,2332,1465,1003,189,192,82,22,48,32,9,8,4,3,1],\"yaxis\":\"y\",\"type\":\"histogram\"},{\"alignmentgroup\":\"True\",\"bingroup\":\"x\",\"histfunc\":\"sum\",\"histnorm\":\"percent\",\"hovertemplate\":\"variable=ubuntu_groups<br>index=%{x}<br>percent of sum of value=%{y}<extra></extra>\",\"legendgroup\":\"ubuntu_groups\",\"marker\":{\"color\":\"#EF553B\",\"pattern\":{\"shape\":\"\"}},\"name\":\"ubuntu_groups\",\"offsetgroup\":\"ubuntu_groups\",\"orientation\":\"v\",\"showlegend\":true,\"x\":[\"System Instructions\",\"Control Transfer Instructions\",\"Binary Arithmetic Instructions\",\"Miscellaneous Instructions\",\"Other\",\"Data Transfer Instructions\",\"Logical Instructions\",\"Bit and Byte Instructions\",\"Shift and Rotate Instructions\",\"Packed Arithmetic Instructions\",\"I/O and String Instructions\",\"Unpack Instructions\",\"Fused Arithmetic Instructions\",\"Broadcast Instructions\",\"Primitives of Functions\",\"Shuffle Instructions\",\"Conversion Instructions\",\"Insert Instructions\",\"Pack Instructions\",\"Extract Instructions\",\"Permute Instructions\",\"Cacheability Control, Prefetch and Ordering Instructions\",\"Bit manipulation instructions\",\"Comparison Instructions\",\"AVX Initialization Instructions\",\"Basic Arithmetic Instructions\",\"High Level Procedure Instructions\",\"Blending Instructions\",\"Opmask Instructions\",\"Flag Control Instructions\",\"Advanced Encryption Standard (AES) instructions set\",\"Load Constants Instructions\",\"Gather Instructions\",\"Control Instructions\",\"Secure Hash Algorithm Instructions\",\"Scatter Instructions\",\"Transactional Synchronization Extensions (TSX) instructions set\",\"State Management Instructions\",\"Transcendental Instructions\",\"Random Number Generator Instructions\",\"Expand Instructions\",\"Compress Instructions\",\"FPU and SIMD State Management Instructions\",\"Memory Protection Extensions (MPX) instructions set\",\"VMCS-maintenance Instructions\",\"Segment Register Instructions\",\"Decimal Arithmetic Instructions\"],\"xaxis\":\"x\",\"y\":[65463853,37888599,19684053,18377036,16657752,14535073,9027764,7792478,3565129,773271,656638,182892,123236,90783,86409,75562,70256,59791,46189,36298,38072,33396,40120,31381,21649,24182,16589,5536,8264,3646,2710,4068,1921,3114,913,892,195,72,171,64,0,28,12,5,4,3,0],\"yaxis\":\"y\",\"type\":\"histogram\"},{\"alignmentgroup\":\"True\",\"bingroup\":\"x\",\"histfunc\":\"sum\",\"histnorm\":\"percent\",\"hovertemplate\":\"variable=opensuse_groups<br>index=%{x}<br>percent of sum of value=%{y}<extra></extra>\",\"legendgroup\":\"opensuse_groups\",\"marker\":{\"color\":\"#00cc96\",\"pattern\":{\"shape\":\"\"}},\"name\":\"opensuse_groups\",\"offsetgroup\":\"opensuse_groups\",\"orientation\":\"v\",\"showlegend\":true,\"x\":[\"System Instructions\",\"Control Transfer Instructions\",\"Binary Arithmetic Instructions\",\"Miscellaneous Instructions\",\"Other\",\"Data Transfer Instructions\",\"Logical Instructions\",\"Bit and Byte Instructions\",\"Shift and Rotate Instructions\",\"Packed Arithmetic Instructions\",\"I/O and String Instructions\",\"Unpack Instructions\",\"Fused Arithmetic Instructions\",\"Broadcast Instructions\",\"Primitives of Functions\",\"Shuffle Instructions\",\"Conversion Instructions\",\"Insert Instructions\",\"Pack Instructions\",\"Extract Instructions\",\"Permute Instructions\",\"Cacheability Control, Prefetch and Ordering Instructions\",\"Bit manipulation instructions\",\"Comparison Instructions\",\"AVX Initialization Instructions\",\"Basic Arithmetic Instructions\",\"High Level Procedure Instructions\",\"Blending Instructions\",\"Opmask Instructions\",\"Flag Control Instructions\",\"Advanced Encryption Standard (AES) instructions set\",\"Load Constants Instructions\",\"Gather Instructions\",\"Control Instructions\",\"Secure Hash Algorithm Instructions\",\"Scatter Instructions\",\"Transactional Synchronization Extensions (TSX) instructions set\",\"State Management Instructions\",\"Transcendental Instructions\",\"Random Number Generator Instructions\",\"Expand Instructions\",\"Compress Instructions\",\"FPU and SIMD State Management Instructions\",\"Memory Protection Extensions (MPX) instructions set\",\"VMCS-maintenance Instructions\",\"Segment Register Instructions\",\"Decimal Arithmetic Instructions\"],\"xaxis\":\"x\",\"y\":[70140474,45443148,21081824,18968858,15565456,15813376,9266962,8610545,3442294,469744,633499,86774,125007,108224,43581,41681,55789,33938,25306,29104,29290,41065,31473,26267,22545,13712,7637,11474,8153,6568,5520,1857,3278,2136,1905,1028,130,72,46,30,48,24,7,8,6,4,2],\"yaxis\":\"y\",\"type\":\"histogram\"}],                        {\"template\":{\"data\":{\"histogram2dcontour\":[{\"type\":\"histogram2dcontour\",\"colorbar\":{\"outlinewidth\":0,\"ticks\":\"\"},\"colorscale\":[[0.0,\"#0d0887\"],[0.1111111111111111,\"#46039f\"],[0.2222222222222222,\"#7201a8\"],[0.3333333333333333,\"#9c179e\"],[0.4444444444444444,\"#bd3786\"],[0.5555555555555556,\"#d8576b\"],[0.6666666666666666,\"#ed7953\"],[0.7777777777777778,\"#fb9f3a\"],[0.8888888888888888,\"#fdca26\"],[1.0,\"#f0f921\"]]}],\"choropleth\":[{\"type\":\"choropleth\",\"colorbar\":{\"outlinewidth\":0,\"ticks\":\"\"}}],\"histogram2d\":[{\"type\":\"histogram2d\",\"colorbar\":{\"outlinewidth\":0,\"ticks\":\"\"},\"colorscale\":[[0.0,\"#0d0887\"],[0.1111111111111111,\"#46039f\"],[0.2222222222222222,\"#7201a8\"],[0.3333333333333333,\"#9c179e\"],[0.4444444444444444,\"#bd3786\"],[0.5555555555555556,\"#d8576b\"],[0.6666666666666666,\"#ed7953\"],[0.7777777777777778,\"#fb9f3a\"],[0.8888888888888888,\"#fdca26\"],[1.0,\"#f0f921\"]]}],\"heatmap\":[{\"type\":\"heatmap\",\"colorbar\":{\"outlinewidth\":0,\"ticks\":\"\"},\"colorscale\":[[0.0,\"#0d0887\"],[0.1111111111111111,\"#46039f\"],[0.2222222222222222,\"#7201a8\"],[0.3333333333333333,\"#9c179e\"],[0.4444444444444444,\"#bd3786\"],[0.5555555555555556,\"#d8576b\"],[0.6666666666666666,\"#ed7953\"],[0.7777777777777778,\"#fb9f3a\"],[0.8888888888888888,\"#fdca26\"],[1.0,\"#f0f921\"]]}],\"heatmapgl\":[{\"type\":\"heatmapgl\",\"colorbar\":{\"outlinewidth\":0,\"ticks\":\"\"},\"colorscale\":[[0.0,\"#0d0887\"],[0.1111111111111111,\"#46039f\"],[0.2222222222222222,\"#7201a8\"],[0.3333333333333333,\"#9c179e\"],[0.4444444444444444,\"#bd3786\"],[0.5555555555555556,\"#d8576b\"],[0.6666666666666666,\"#ed7953\"],[0.7777777777777778,\"#fb9f3a\"],[0.8888888888888888,\"#fdca26\"],[1.0,\"#f0f921\"]]}],\"contourcarpet\":[{\"type\":\"contourcarpet\",\"colorbar\":{\"outlinewidth\":0,\"ticks\":\"\"}}],\"contour\":[{\"type\":\"contour\",\"colorbar\":{\"outlinewidth\":0,\"ticks\":\"\"},\"colorscale\":[[0.0,\"#0d0887\"],[0.1111111111111111,\"#46039f\"],[0.2222222222222222,\"#7201a8\"],[0.3333333333333333,\"#9c179e\"],[0.4444444444444444,\"#bd3786\"],[0.5555555555555556,\"#d8576b\"],[0.6666666666666666,\"#ed7953\"],[0.7777777777777778,\"#fb9f3a\"],[0.8888888888888888,\"#fdca26\"],[1.0,\"#f0f921\"]]}],\"surface\":[{\"type\":\"surface\",\"colorbar\":{\"outlinewidth\":0,\"ticks\":\"\"},\"colorscale\":[[0.0,\"#0d0887\"],[0.1111111111111111,\"#46039f\"],[0.2222222222222222,\"#7201a8\"],[0.3333333333333333,\"#9c179e\"],[0.4444444444444444,\"#bd3786\"],[0.5555555555555556,\"#d8576b\"],[0.6666666666666666,\"#ed7953\"],[0.7777777777777778,\"#fb9f3a\"],[0.8888888888888888,\"#fdca26\"],[1.0,\"#f0f921\"]]}],\"mesh3d\":[{\"type\":\"mesh3d\",\"colorbar\":{\"outlinewidth\":0,\"ticks\":\"\"}}],\"scatter\":[{\"fillpattern\":{\"fillmode\":\"overlay\",\"size\":10,\"solidity\":0.2},\"type\":\"scatter\"}],\"parcoords\":[{\"type\":\"parcoords\",\"line\":{\"colorbar\":{\"outlinewidth\":0,\"ticks\":\"\"}}}],\"scatterpolargl\":[{\"type\":\"scatterpolargl\",\"marker\":{\"colorbar\":{\"outlinewidth\":0,\"ticks\":\"\"}}}],\"bar\":[{\"error_x\":{\"color\":\"#2a3f5f\"},\"error_y\":{\"color\":\"#2a3f5f\"},\"marker\":{\"line\":{\"color\":\"#E5ECF6\",\"width\":0.5},\"pattern\":{\"fillmode\":\"overlay\",\"size\":10,\"solidity\":0.2}},\"type\":\"bar\"}],\"scattergeo\":[{\"type\":\"scattergeo\",\"marker\":{\"colorbar\":{\"outlinewidth\":0,\"ticks\":\"\"}}}],\"scatterpolar\":[{\"type\":\"scatterpolar\",\"marker\":{\"colorbar\":{\"outlinewidth\":0,\"ticks\":\"\"}}}],\"histogram\":[{\"marker\":{\"pattern\":{\"fillmode\":\"overlay\",\"size\":10,\"solidity\":0.2}},\"type\":\"histogram\"}],\"scattergl\":[{\"type\":\"scattergl\",\"marker\":{\"colorbar\":{\"outlinewidth\":0,\"ticks\":\"\"}}}],\"scatter3d\":[{\"type\":\"scatter3d\",\"line\":{\"colorbar\":{\"outlinewidth\":0,\"ticks\":\"\"}},\"marker\":{\"colorbar\":{\"outlinewidth\":0,\"ticks\":\"\"}}}],\"scattermapbox\":[{\"type\":\"scattermapbox\",\"marker\":{\"colorbar\":{\"outlinewidth\":0,\"ticks\":\"\"}}}],\"scatterternary\":[{\"type\":\"scatterternary\",\"marker\":{\"colorbar\":{\"outlinewidth\":0,\"ticks\":\"\"}}}],\"scattercarpet\":[{\"type\":\"scattercarpet\",\"marker\":{\"colorbar\":{\"outlinewidth\":0,\"ticks\":\"\"}}}],\"carpet\":[{\"aaxis\":{\"endlinecolor\":\"#2a3f5f\",\"gridcolor\":\"white\",\"linecolor\":\"white\",\"minorgridcolor\":\"white\",\"startlinecolor\":\"#2a3f5f\"},\"baxis\":{\"endlinecolor\":\"#2a3f5f\",\"gridcolor\":\"white\",\"linecolor\":\"white\",\"minorgridcolor\":\"white\",\"startlinecolor\":\"#2a3f5f\"},\"type\":\"carpet\"}],\"table\":[{\"cells\":{\"fill\":{\"color\":\"#EBF0F8\"},\"line\":{\"color\":\"white\"}},\"header\":{\"fill\":{\"color\":\"#C8D4E3\"},\"line\":{\"color\":\"white\"}},\"type\":\"table\"}],\"barpolar\":[{\"marker\":{\"line\":{\"color\":\"#E5ECF6\",\"width\":0.5},\"pattern\":{\"fillmode\":\"overlay\",\"size\":10,\"solidity\":0.2}},\"type\":\"barpolar\"}],\"pie\":[{\"automargin\":true,\"type\":\"pie\"}]},\"layout\":{\"autotypenumbers\":\"strict\",\"colorway\":[\"#636efa\",\"#EF553B\",\"#00cc96\",\"#ab63fa\",\"#FFA15A\",\"#19d3f3\",\"#FF6692\",\"#B6E880\",\"#FF97FF\",\"#FECB52\"],\"font\":{\"color\":\"#2a3f5f\"},\"hovermode\":\"closest\",\"hoverlabel\":{\"align\":\"left\"},\"paper_bgcolor\":\"white\",\"plot_bgcolor\":\"#E5ECF6\",\"polar\":{\"bgcolor\":\"#E5ECF6\",\"angularaxis\":{\"gridcolor\":\"white\",\"linecolor\":\"white\",\"ticks\":\"\"},\"radialaxis\":{\"gridcolor\":\"white\",\"linecolor\":\"white\",\"ticks\":\"\"}},\"ternary\":{\"bgcolor\":\"#E5ECF6\",\"aaxis\":{\"gridcolor\":\"white\",\"linecolor\":\"white\",\"ticks\":\"\"},\"baxis\":{\"gridcolor\":\"white\",\"linecolor\":\"white\",\"ticks\":\"\"},\"caxis\":{\"gridcolor\":\"white\",\"linecolor\":\"white\",\"ticks\":\"\"}},\"coloraxis\":{\"colorbar\":{\"outlinewidth\":0,\"ticks\":\"\"}},\"colorscale\":{\"sequential\":[[0.0,\"#0d0887\"],[0.1111111111111111,\"#46039f\"],[0.2222222222222222,\"#7201a8\"],[0.3333333333333333,\"#9c179e\"],[0.4444444444444444,\"#bd3786\"],[0.5555555555555556,\"#d8576b\"],[0.6666666666666666,\"#ed7953\"],[0.7777777777777778,\"#fb9f3a\"],[0.8888888888888888,\"#fdca26\"],[1.0,\"#f0f921\"]],\"sequentialminus\":[[0.0,\"#0d0887\"],[0.1111111111111111,\"#46039f\"],[0.2222222222222222,\"#7201a8\"],[0.3333333333333333,\"#9c179e\"],[0.4444444444444444,\"#bd3786\"],[0.5555555555555556,\"#d8576b\"],[0.6666666666666666,\"#ed7953\"],[0.7777777777777778,\"#fb9f3a\"],[0.8888888888888888,\"#fdca26\"],[1.0,\"#f0f921\"]],\"diverging\":[[0,\"#8e0152\"],[0.1,\"#c51b7d\"],[0.2,\"#de77ae\"],[0.3,\"#f1b6da\"],[0.4,\"#fde0ef\"],[0.5,\"#f7f7f7\"],[0.6,\"#e6f5d0\"],[0.7,\"#b8e186\"],[0.8,\"#7fbc41\"],[0.9,\"#4d9221\"],[1,\"#276419\"]]},\"xaxis\":{\"gridcolor\":\"white\",\"linecolor\":\"white\",\"ticks\":\"\",\"title\":{\"standoff\":15},\"zerolinecolor\":\"white\",\"automargin\":true,\"zerolinewidth\":2},\"yaxis\":{\"gridcolor\":\"white\",\"linecolor\":\"white\",\"ticks\":\"\",\"title\":{\"standoff\":15},\"zerolinecolor\":\"white\",\"automargin\":true,\"zerolinewidth\":2},\"scene\":{\"xaxis\":{\"backgroundcolor\":\"#E5ECF6\",\"gridcolor\":\"white\",\"linecolor\":\"white\",\"showbackground\":true,\"ticks\":\"\",\"zerolinecolor\":\"white\",\"gridwidth\":2},\"yaxis\":{\"backgroundcolor\":\"#E5ECF6\",\"gridcolor\":\"white\",\"linecolor\":\"white\",\"showbackground\":true,\"ticks\":\"\",\"zerolinecolor\":\"white\",\"gridwidth\":2},\"zaxis\":{\"backgroundcolor\":\"#E5ECF6\",\"gridcolor\":\"white\",\"linecolor\":\"white\",\"showbackground\":true,\"ticks\":\"\",\"zerolinecolor\":\"white\",\"gridwidth\":2}},\"shapedefaults\":{\"line\":{\"color\":\"#2a3f5f\"}},\"annotationdefaults\":{\"arrowcolor\":\"#2a3f5f\",\"arrowhead\":0,\"arrowwidth\":1},\"geo\":{\"bgcolor\":\"white\",\"landcolor\":\"#E5ECF6\",\"subunitcolor\":\"white\",\"showland\":true,\"showlakes\":true,\"lakecolor\":\"white\"},\"title\":{\"x\":0.05},\"mapbox\":{\"style\":\"light\"}}},\"xaxis\":{\"anchor\":\"y\",\"domain\":[0.0,1.0],\"title\":{\"text\":\"index\"}},\"yaxis\":{\"anchor\":\"x\",\"domain\":[0.0,1.0],\"title\":{\"text\":\"percent of sum of value\"}},\"legend\":{\"title\":{\"text\":\"variable\"},\"tracegroupgap\":0,\"orientation\":\"h\",\"yanchor\":\"bottom\",\"y\":1.02,\"xanchor\":\"left\",\"x\":0},\"margin\":{\"t\":60},\"barmode\":\"group\",\"width\":2000},                        {\"responsive\": true}                    ).then(function(){\n",
       "                            \n",
       "var gd = document.getElementById('aa989e94-c9bb-4755-beac-1b02ad9ea0c0');\n",
       "var x = new MutationObserver(function (mutations, observer) {{\n",
       "        var display = window.getComputedStyle(gd).display;\n",
       "        if (!display || display === 'none') {{\n",
       "            console.log([gd, 'removed!']);\n",
       "            Plotly.purge(gd);\n",
       "            observer.disconnect();\n",
       "        }}\n",
       "}});\n",
       "\n",
       "// Listen for the removal of the full notebook cells\n",
       "var notebookContainer = gd.closest('#notebook-container');\n",
       "if (notebookContainer) {{\n",
       "    x.observe(notebookContainer, {childList: true});\n",
       "}}\n",
       "\n",
       "// Listen for the clearing of the current output cell\n",
       "var outputEl = gd.closest('.output');\n",
       "if (outputEl) {{\n",
       "    x.observe(outputEl, {childList: true});\n",
       "}}\n",
       "\n",
       "                        })                };                });            </script>        </div>"
      ]
     },
     "metadata": {},
     "output_type": "display_data"
    }
   ],
   "source": [
    "total_groups_histogram(width=2000)"
   ]
  }
 ],
 "metadata": {
  "kernelspec": {
   "display_name": "Python 3 (ipykernel)",
   "language": "python",
   "name": "python3"
  },
  "language_info": {
   "codemirror_mode": {
    "name": "ipython",
    "version": 3
   },
   "file_extension": ".py",
   "mimetype": "text/x-python",
   "name": "python",
   "nbconvert_exporter": "python",
   "pygments_lexer": "ipython3",
   "version": "3.10.9"
  }
 },
 "nbformat": 4,
 "nbformat_minor": 5
}
